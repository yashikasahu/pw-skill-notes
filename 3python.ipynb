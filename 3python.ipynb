{
 "cells": [
  {
   "cell_type": "code",
   "execution_count": 1,
   "id": "1ec1d682-d1ea-4a6e-bbfb-872632888af7",
   "metadata": {},
   "outputs": [
    {
     "name": "stdout",
     "output_type": "stream",
     "text": [
      "this is my print\n"
     ]
    }
   ],
   "source": [
    "#basic function \n",
    "print(\"this is my print\")"
   ]
  },
  {
   "cell_type": "code",
   "execution_count": 2,
   "id": "c2e458f8-392c-470a-8e56-4bcb31ba0ff2",
   "metadata": {},
   "outputs": [],
   "source": [
    "s = [54, 852, 36]"
   ]
  },
  {
   "cell_type": "code",
   "execution_count": 3,
   "id": "cedcc6b3-bc2c-4590-9fcb-f497244eb644",
   "metadata": {},
   "outputs": [
    {
     "data": {
      "text/plain": [
       "3"
      ]
     },
     "execution_count": 3,
     "metadata": {},
     "output_type": "execute_result"
    }
   ],
   "source": [
    "len (s)"
   ]
  },
  {
   "cell_type": "code",
   "execution_count": 4,
   "id": "17e04552-fde6-4946-9a5b-3f0b4c8e11c5",
   "metadata": {},
   "outputs": [
    {
     "data": {
      "text/plain": [
       "list"
      ]
     },
     "execution_count": 4,
     "metadata": {},
     "output_type": "execute_result"
    }
   ],
   "source": [
    "type(s)"
   ]
  },
  {
   "cell_type": "code",
   "execution_count": 5,
   "id": "314fd2a6-95e7-4713-a71c-6975aaab3d20",
   "metadata": {},
   "outputs": [],
   "source": [
    "def test():\n",
    "    print(\"this is my first function\")"
   ]
  },
  {
   "cell_type": "code",
   "execution_count": 6,
   "id": "9a5f974f-4b35-4aab-a990-00bcbb1b3efa",
   "metadata": {},
   "outputs": [
    {
     "name": "stdout",
     "output_type": "stream",
     "text": [
      "this is my first function\n"
     ]
    }
   ],
   "source": [
    "test()"
   ]
  },
  {
   "cell_type": "code",
   "execution_count": 7,
   "id": "f38bb8d3-0709-4d1c-83a0-654b0dfa498b",
   "metadata": {},
   "outputs": [
    {
     "name": "stdout",
     "output_type": "stream",
     "text": [
      "this is my first function\n"
     ]
    },
    {
     "data": {
      "text/plain": [
       "NoneType"
      ]
     },
     "execution_count": 7,
     "metadata": {},
     "output_type": "execute_result"
    }
   ],
   "source": [
    "type(test())"
   ]
  },
  {
   "cell_type": "code",
   "execution_count": 8,
   "id": "204d7d3c-d40e-458c-be65-d99c5d0b76ce",
   "metadata": {},
   "outputs": [],
   "source": [
    " def test1():\n",
    "        return\"this is my first return\""
   ]
  },
  {
   "cell_type": "code",
   "execution_count": 9,
   "id": "2f3e723f-7087-4279-8505-d6c53031f892",
   "metadata": {},
   "outputs": [
    {
     "data": {
      "text/plain": [
       "'this is my first return'"
      ]
     },
     "execution_count": 9,
     "metadata": {},
     "output_type": "execute_result"
    }
   ],
   "source": [
    "test1()"
   ]
  },
  {
   "cell_type": "code",
   "execution_count": 10,
   "id": "8e0a74a4-0f1d-41cd-8359-df3d0cfee10b",
   "metadata": {},
   "outputs": [],
   "source": [
    "def test2():\n",
    "        return\"ngjfbn\" , 64, 3+6 ,[1,2,3]"
   ]
  },
  {
   "cell_type": "code",
   "execution_count": 11,
   "id": "968ab73b-3f3b-4c16-8907-7abb62a12a04",
   "metadata": {},
   "outputs": [
    {
     "data": {
      "text/plain": [
       "('ngjfbn', 64, 9, [1, 2, 3])"
      ]
     },
     "execution_count": 11,
     "metadata": {},
     "output_type": "execute_result"
    }
   ],
   "source": [
    "test2()"
   ]
  },
  {
   "cell_type": "code",
   "execution_count": 12,
   "id": "6d64d037-840c-4609-bc48-adea00dc865f",
   "metadata": {},
   "outputs": [],
   "source": [
    "a,b,c,d = test2()"
   ]
  },
  {
   "cell_type": "code",
   "execution_count": 13,
   "id": "ef535d65-d9f6-4e7e-aae0-6d4e1f14772b",
   "metadata": {},
   "outputs": [
    {
     "data": {
      "text/plain": [
       "9"
      ]
     },
     "execution_count": 13,
     "metadata": {},
     "output_type": "execute_result"
    }
   ],
   "source": [
    "c"
   ]
  },
  {
   "cell_type": "code",
   "execution_count": 14,
   "id": "47ad26ea-9086-4e65-b5f1-0c8db155a90f",
   "metadata": {},
   "outputs": [
    {
     "data": {
      "text/plain": [
       "[1, 2, 3]"
      ]
     },
     "execution_count": 14,
     "metadata": {},
     "output_type": "execute_result"
    }
   ],
   "source": [
    "d"
   ]
  },
  {
   "cell_type": "code",
   "execution_count": 15,
   "id": "2441695f-9134-4736-8d0f-d4a244a0ce7f",
   "metadata": {},
   "outputs": [
    {
     "data": {
      "text/plain": [
       "'ngjfbn'"
      ]
     },
     "execution_count": 15,
     "metadata": {},
     "output_type": "execute_result"
    }
   ],
   "source": [
    "a"
   ]
  },
  {
   "cell_type": "code",
   "execution_count": 16,
   "id": "fc730c94-27d6-45ba-9b2f-4c294dd0e788",
   "metadata": {},
   "outputs": [],
   "source": [
    "def test4():\n",
    "    a = 2+4/3\n",
    "    return a"
   ]
  },
  {
   "cell_type": "code",
   "execution_count": 17,
   "id": "e838a75b-aede-49d4-80bf-a57f26947e5b",
   "metadata": {},
   "outputs": [
    {
     "data": {
      "text/plain": [
       "3.333333333333333"
      ]
     },
     "execution_count": 17,
     "metadata": {},
     "output_type": "execute_result"
    }
   ],
   "source": [
    "test4()"
   ]
  },
  {
   "cell_type": "code",
   "execution_count": 18,
   "id": "60145cd2-7559-4e5a-a5de-3c212b42158a",
   "metadata": {},
   "outputs": [],
   "source": [
    "def test3(a, b, c):\n",
    "    d=a-b/c\n",
    "    return d"
   ]
  },
  {
   "cell_type": "code",
   "execution_count": 19,
   "id": "e5da8f84-9961-4bc5-8ade-4d40ad239dfb",
   "metadata": {},
   "outputs": [
    {
     "data": {
      "text/plain": [
       "4.333333333333333"
      ]
     },
     "execution_count": 19,
     "metadata": {},
     "output_type": "execute_result"
    }
   ],
   "source": [
    "test3(5,2,3)"
   ]
  },
  {
   "cell_type": "code",
   "execution_count": 20,
   "id": "b0cd1256-03ed-407a-9fc1-5e93be27659e",
   "metadata": {},
   "outputs": [],
   "source": [
    " def test5(a,b):\n",
    "    return a+b"
   ]
  },
  {
   "cell_type": "code",
   "execution_count": 21,
   "id": "659c7bce-0b96-415f-a54a-efb9a9b2f147",
   "metadata": {},
   "outputs": [
    {
     "data": {
      "text/plain": [
       "'yashika sahu'"
      ]
     },
     "execution_count": 21,
     "metadata": {},
     "output_type": "execute_result"
    }
   ],
   "source": [
    "test5( \"yashika\", \" sahu\")"
   ]
  },
  {
   "cell_type": "code",
   "execution_count": 22,
   "id": "819cca9e-989b-46ec-abc0-d3e68d5eede2",
   "metadata": {},
   "outputs": [
    {
     "data": {
      "text/plain": [
       "[1, 2, 3, 4, 1, 5, 6]"
      ]
     },
     "execution_count": 22,
     "metadata": {},
     "output_type": "execute_result"
    }
   ],
   "source": [
    "test5([1,2,3],[4,1 ,5,6])"
   ]
  },
  {
   "cell_type": "code",
   "execution_count": 23,
   "id": "7d75edb5-a781-4a83-b1d4-66d55953fd12",
   "metadata": {},
   "outputs": [],
   "source": [
    "l = [1,2,3,4, \"yashika\", \" sahu\" ,[1,2,3,4,5,6]]"
   ]
  },
  {
   "cell_type": "code",
   "execution_count": 24,
   "id": "2b206558-c9a3-4c3b-bc57-0f303571062a",
   "metadata": {},
   "outputs": [],
   "source": [
    "def test7(l):\n",
    "    l1 = []\n",
    "    for i in l :\n",
    "        if type(i) == int or type(i) == float :\n",
    "            l1.append(i)\n",
    "    return l1"
   ]
  },
  {
   "cell_type": "code",
   "execution_count": 25,
   "id": "0a7a3b22-10a4-49c5-9f1f-20a7486ec4aa",
   "metadata": {},
   "outputs": [
    {
     "data": {
      "text/plain": [
       "[1, 2, 3, 4]"
      ]
     },
     "execution_count": 25,
     "metadata": {},
     "output_type": "execute_result"
    }
   ],
   "source": [
    "test7(l)"
   ]
  },
  {
   "cell_type": "code",
   "execution_count": 26,
   "id": "edc3c45a-94f5-45ad-8883-10c1044edc00",
   "metadata": {},
   "outputs": [],
   "source": [
    "def test8(a):\n",
    "    l= []\n",
    "    for i in a:\n",
    "        if type(i) == list:\n",
    "            for j in i :\n",
    "                l.append(j)\n",
    "    else : \n",
    "           if type (i) ==int or type(i) == float :\n",
    "                l.append(i)\n",
    "    return l    "
   ]
  },
  {
   "cell_type": "code",
   "execution_count": 27,
   "id": "355d54b5-21c9-4a32-9def-2752943def03",
   "metadata": {},
   "outputs": [
    {
     "data": {
      "text/plain": [
       "[1, 2, 3, 4, 5, 6]"
      ]
     },
     "execution_count": 27,
     "metadata": {},
     "output_type": "execute_result"
    }
   ],
   "source": [
    "test8(l)"
   ]
  },
  {
   "cell_type": "code",
   "execution_count": 28,
   "id": "599bde36-9f45-4565-bf35-1dd42b8a6e7f",
   "metadata": {},
   "outputs": [
    {
     "data": {
      "text/plain": [
       "[1, 2, 3, 4, 'yashika', ' sahu', [1, 2, 3, 4, 5, 6]]"
      ]
     },
     "execution_count": 28,
     "metadata": {},
     "output_type": "execute_result"
    }
   ],
   "source": [
    "l"
   ]
  },
  {
   "cell_type": "code",
   "execution_count": 29,
   "id": "7f5b9f2a-12c6-4279-baae-c85e92a6311e",
   "metadata": {},
   "outputs": [
    {
     "data": {
      "text/plain": [
       "7"
      ]
     },
     "execution_count": 29,
     "metadata": {},
     "output_type": "execute_result"
    }
   ],
   "source": [
    "len(l)"
   ]
  },
  {
   "cell_type": "code",
   "execution_count": 30,
   "id": "8c53eead-e884-460b-8c02-6da952510cd6",
   "metadata": {},
   "outputs": [],
   "source": [
    "def test9(a):\n",
    "    \"\"\"\"this is my fuction to extract num data from list\"\"\"\n",
    "    l= []\n",
    "    for i in a:\n",
    "        if type(i) == list:\n",
    "            for j in i :\n",
    "                l.append(j)\n",
    "    else : \n",
    "           if type (i) ==int or type(i) == float :\n",
    "                l.append(i)\n",
    "    return l    "
   ]
  },
  {
   "cell_type": "code",
   "execution_count": 31,
   "id": "06304887-220a-404e-b933-fa1d0ac0e56d",
   "metadata": {},
   "outputs": [
    {
     "data": {
      "text/plain": [
       "[1, 2, 3, 4, 5, 6]"
      ]
     },
     "execution_count": 31,
     "metadata": {},
     "output_type": "execute_result"
    }
   ],
   "source": [
    "test9(l)"
   ]
  },
  {
   "cell_type": "code",
   "execution_count": 32,
   "id": "f4467725-a284-4809-b06a-2706fe8a25d9",
   "metadata": {},
   "outputs": [],
   "source": [
    " def test10(a,b):\n",
    "    return a+b"
   ]
  },
  {
   "cell_type": "code",
   "execution_count": 33,
   "id": "a6fd204d-4c4e-4e49-9811-202ec07e8f8c",
   "metadata": {},
   "outputs": [],
   "source": [
    " def test11(*yashika):\n",
    "    return yashika"
   ]
  },
  {
   "cell_type": "code",
   "execution_count": 34,
   "id": "5bd48b02-3a75-40e9-9651-d73de3f018fb",
   "metadata": {},
   "outputs": [
    {
     "data": {
      "text/plain": [
       "tuple"
      ]
     },
     "execution_count": 34,
     "metadata": {},
     "output_type": "execute_result"
    }
   ],
   "source": [
    "type(test11())"
   ]
  },
  {
   "cell_type": "code",
   "execution_count": 1,
   "id": "59beff00-9aa9-4d0c-9699-8430ca5b91d5",
   "metadata": {},
   "outputs": [],
   "source": [
    "test11=(1, 2, 3, 4, 'yashika', ' sahu', [1, 2, 3, 4, 5, 6])"
   ]
  },
  {
   "cell_type": "code",
   "execution_count": 2,
   "id": "155edbe1-0849-4b76-bd10-5a1b7bae136e",
   "metadata": {},
   "outputs": [],
   "source": [
    "def test13(*args , a) :\n",
    "    return args , a "
   ]
  },
  {
   "cell_type": "code",
   "execution_count": 3,
   "id": "8c33c7cb-2fc8-42b4-b869-00bd1aae16a2",
   "metadata": {},
   "outputs": [
    {
     "ename": "TypeError",
     "evalue": "test13() missing 1 required keyword-only argument: 'a'",
     "output_type": "error",
     "traceback": [
      "\u001b[0;31m---------------------------------------------------------------------------\u001b[0m",
      "\u001b[0;31mTypeError\u001b[0m                                 Traceback (most recent call last)",
      "Cell \u001b[0;32mIn[3], line 1\u001b[0m\n\u001b[0;32m----> 1\u001b[0m \u001b[43mtest13\u001b[49m\u001b[43m(\u001b[49m\u001b[38;5;241;43m1\u001b[39;49m\u001b[43m,\u001b[49m\u001b[38;5;241;43m2\u001b[39;49m\u001b[43m,\u001b[49m\u001b[38;5;241;43m3\u001b[39;49m\u001b[43m,\u001b[49m\u001b[38;5;241;43m4\u001b[39;49m\u001b[43m)\u001b[49m\n",
      "\u001b[0;31mTypeError\u001b[0m: test13() missing 1 required keyword-only argument: 'a'"
     ]
    }
   ],
   "source": [
    "test13(1,2,3,4)"
   ]
  },
  {
   "cell_type": "code",
   "execution_count": 4,
   "id": "4ceb8738-d410-42a3-b6b4-880d997c50f4",
   "metadata": {},
   "outputs": [
    {
     "data": {
      "text/plain": [
       "((1, 2, 3, 4), 23)"
      ]
     },
     "execution_count": 4,
     "metadata": {},
     "output_type": "execute_result"
    }
   ],
   "source": [
    "test13(1,2,3,4 , a = 23)"
   ]
  },
  {
   "cell_type": "code",
   "execution_count": 39,
   "id": "d1ab5a74-744f-45f5-b1ee-f66af0658013",
   "metadata": {},
   "outputs": [],
   "source": [
    "def test15(**kwargs):\n",
    "    return kwargs"
   ]
  },
  {
   "cell_type": "code",
   "execution_count": 40,
   "id": "9ba11800-d976-44e9-81ac-9ef5b89b073b",
   "metadata": {},
   "outputs": [
    {
     "data": {
      "text/plain": [
       "{}"
      ]
     },
     "execution_count": 40,
     "metadata": {},
     "output_type": "execute_result"
    }
   ],
   "source": [
    "test15()"
   ]
  },
  {
   "cell_type": "code",
   "execution_count": 41,
   "id": "349504e0-828e-4c22-a093-ff4b6eed4361",
   "metadata": {},
   "outputs": [
    {
     "data": {
      "text/plain": [
       "dict"
      ]
     },
     "execution_count": 41,
     "metadata": {},
     "output_type": "execute_result"
    }
   ],
   "source": [
    "type(test15())"
   ]
  },
  {
   "cell_type": "code",
   "execution_count": 42,
   "id": "6177d12e-9b36-4a65-b46f-8871b28c21a1",
   "metadata": {},
   "outputs": [
    {
     "data": {
      "text/plain": [
       "{'a': [1, 2, 3, 4], 'b': 'sudh', 'c': 23.45}"
      ]
     },
     "execution_count": 42,
     "metadata": {},
     "output_type": "execute_result"
    }
   ],
   "source": [
    "test15(a = [1,2,3,4] , b = \"sudh\" , c = 23.45 )"
   ]
  },
  {
   "cell_type": "code",
   "execution_count": 1,
   "id": "4fffd943-b003-4b3d-b7c0-156d2ecd2eab",
   "metadata": {},
   "outputs": [],
   "source": [
    "#general function"
   ]
  },
  {
   "cell_type": "code",
   "execution_count": 44,
   "id": "a4e6f51c-ad77-4ef2-a486-2f3ab9f5e87d",
   "metadata": {},
   "outputs": [
    {
     "data": {
      "text/plain": [
       "range(0, 10)"
      ]
     },
     "execution_count": 44,
     "metadata": {},
     "output_type": "execute_result"
    }
   ],
   "source": [
    "range(10)"
   ]
  },
  {
   "cell_type": "code",
   "execution_count": 45,
   "id": "ef15aa96-299c-42de-9980-6c834416fc4b",
   "metadata": {},
   "outputs": [
    {
     "name": "stdout",
     "output_type": "stream",
     "text": [
      "0\n",
      "1\n",
      "2\n",
      "3\n",
      "4\n",
      "5\n",
      "6\n",
      "7\n",
      "8\n",
      "9\n"
     ]
    }
   ],
   "source": [
    "for k in range (10):\n",
    "    print (k)"
   ]
  },
  {
   "cell_type": "code",
   "execution_count": 1,
   "id": "a53b1887-351e-4fba-b165-3df09a38e394",
   "metadata": {},
   "outputs": [],
   "source": [
    "def test_fib(n):\n",
    "    a,b,c =0,1,2\n",
    "    for i in range (n):\n",
    "        yield a\n",
    "        a,b,c = c, b, a+b"
   ]
  },
  {
   "cell_type": "code",
   "execution_count": 47,
   "id": "714af4f4-13f4-4be0-9a98-6c9186588ced",
   "metadata": {},
   "outputs": [
    {
     "name": "stdout",
     "output_type": "stream",
     "text": [
      "0\n",
      "2\n",
      "1\n",
      "3\n",
      "2\n",
      "4\n",
      "3\n",
      "5\n",
      "4\n",
      "6\n"
     ]
    }
   ],
   "source": [
    "for i in test_fib(10):\n",
    "    print(i)"
   ]
  },
  {
   "cell_type": "code",
   "execution_count": 48,
   "id": "816e07a5-9973-4810-96b3-77143bd16795",
   "metadata": {},
   "outputs": [],
   "source": [
    "def test_fib0():\n",
    "    a,b = 0,1\n",
    "    while True:\n",
    "        yield a \n",
    "        a,b = b, a+b"
   ]
  },
  {
   "cell_type": "code",
   "execution_count": 49,
   "id": "c7d70a03-fa2b-4ce5-bb9f-ba2dbd01c65d",
   "metadata": {},
   "outputs": [],
   "source": [
    "fib = test_fib0()"
   ]
  },
  {
   "cell_type": "code",
   "execution_count": 50,
   "id": "ae0eb7e4-4e99-46ce-9707-5251d8728c14",
   "metadata": {},
   "outputs": [
    {
     "name": "stdout",
     "output_type": "stream",
     "text": [
      "0\n",
      "1\n",
      "1\n",
      "2\n",
      "3\n",
      "5\n",
      "8\n",
      "13\n",
      "21\n",
      "34\n"
     ]
    }
   ],
   "source": [
    "for i in range(10):\n",
    "    print(next(fib))"
   ]
  },
  {
   "cell_type": "code",
   "execution_count": 51,
   "id": "1de64ddc-4cb2-42c6-bc30-9674a72f5d71",
   "metadata": {},
   "outputs": [],
   "source": [
    "s = \"yashika\""
   ]
  },
  {
   "cell_type": "code",
   "execution_count": 52,
   "id": "4d6fef17-7e61-4356-aaa5-30c6ead5772f",
   "metadata": {},
   "outputs": [
    {
     "name": "stdout",
     "output_type": "stream",
     "text": [
      "y\n",
      "a\n",
      "s\n",
      "h\n",
      "i\n",
      "k\n",
      "a\n"
     ]
    }
   ],
   "source": [
    "for i in s :\n",
    "    print(i)"
   ]
  },
  {
   "cell_type": "code",
   "execution_count": 53,
   "id": "9724ca88-7b5a-4f6c-aeea-29c9c6974026",
   "metadata": {},
   "outputs": [],
   "source": [
    "s1 = iter(s)"
   ]
  },
  {
   "cell_type": "code",
   "execution_count": 54,
   "id": "b01c092f-a441-4ecd-a562-fe9b46d7e24a",
   "metadata": {},
   "outputs": [
    {
     "data": {
      "text/plain": [
       "'y'"
      ]
     },
     "execution_count": 54,
     "metadata": {},
     "output_type": "execute_result"
    }
   ],
   "source": [
    "next(s1)"
   ]
  },
  {
   "cell_type": "code",
   "execution_count": 55,
   "id": "4da1a152-e810-45ad-a9d4-b4425f6d1ac0",
   "metadata": {},
   "outputs": [
    {
     "data": {
      "text/plain": [
       "'a'"
      ]
     },
     "execution_count": 55,
     "metadata": {},
     "output_type": "execute_result"
    }
   ],
   "source": [
    "next(s1)"
   ]
  },
  {
   "cell_type": "code",
   "execution_count": 56,
   "id": "8485bf69-edd7-4bf6-bb87-04c7d47feede",
   "metadata": {},
   "outputs": [
    {
     "data": {
      "text/plain": [
       "'s'"
      ]
     },
     "execution_count": 56,
     "metadata": {},
     "output_type": "execute_result"
    }
   ],
   "source": [
    "next(s1)"
   ]
  },
  {
   "cell_type": "code",
   "execution_count": 57,
   "id": "d26618ba-9bb8-4b6c-8464-a047ca288ccf",
   "metadata": {},
   "outputs": [
    {
     "data": {
      "text/plain": [
       "'h'"
      ]
     },
     "execution_count": 57,
     "metadata": {},
     "output_type": "execute_result"
    }
   ],
   "source": [
    "next(s1)"
   ]
  },
  {
   "cell_type": "code",
   "execution_count": 58,
   "id": "44bac03d-e9e7-4df5-ac4b-2861e965ff49",
   "metadata": {},
   "outputs": [
    {
     "data": {
      "text/plain": [
       "'i'"
      ]
     },
     "execution_count": 58,
     "metadata": {},
     "output_type": "execute_result"
    }
   ],
   "source": [
    "next(s1)"
   ]
  },
  {
   "cell_type": "code",
   "execution_count": 59,
   "id": "adfa50f0-42cd-46ef-83df-4d3a77ff713d",
   "metadata": {},
   "outputs": [
    {
     "data": {
      "text/plain": [
       "'k'"
      ]
     },
     "execution_count": 59,
     "metadata": {},
     "output_type": "execute_result"
    }
   ],
   "source": [
    "next(s1)"
   ]
  },
  {
   "cell_type": "code",
   "execution_count": 60,
   "id": "b6220442-0045-4f55-8810-f0b7bb6def52",
   "metadata": {},
   "outputs": [
    {
     "data": {
      "text/plain": [
       "'a'"
      ]
     },
     "execution_count": 60,
     "metadata": {},
     "output_type": "execute_result"
    }
   ],
   "source": [
    "next(s1)"
   ]
  },
  {
   "cell_type": "code",
   "execution_count": 61,
   "id": "9ccf5240-9e7e-491a-b32b-42160b6883af",
   "metadata": {},
   "outputs": [
    {
     "ename": "StopIteration",
     "evalue": "",
     "output_type": "error",
     "traceback": [
      "\u001b[0;31m---------------------------------------------------------------------------\u001b[0m",
      "\u001b[0;31mStopIteration\u001b[0m                             Traceback (most recent call last)",
      "Cell \u001b[0;32mIn[61], line 1\u001b[0m\n\u001b[0;32m----> 1\u001b[0m \u001b[38;5;28;43mnext\u001b[39;49m\u001b[43m(\u001b[49m\u001b[43ms1\u001b[49m\u001b[43m)\u001b[49m\n",
      "\u001b[0;31mStopIteration\u001b[0m: "
     ]
    }
   ],
   "source": [
    "next(s1)"
   ]
  },
  {
   "cell_type": "code",
   "execution_count": 62,
   "id": "6c33755d-9fa8-44d2-a852-a0e2b4125150",
   "metadata": {},
   "outputs": [
    {
     "ename": "TypeError",
     "evalue": "'int' object is not iterable",
     "output_type": "error",
     "traceback": [
      "\u001b[0;31m---------------------------------------------------------------------------\u001b[0m",
      "\u001b[0;31mTypeError\u001b[0m                                 Traceback (most recent call last)",
      "Cell \u001b[0;32mIn[62], line 1\u001b[0m\n\u001b[0;32m----> 1\u001b[0m \u001b[38;5;28;43miter\u001b[39;49m\u001b[43m(\u001b[49m\u001b[38;5;241;43m485\u001b[39;49m\u001b[43m)\u001b[49m\n",
      "\u001b[0;31mTypeError\u001b[0m: 'int' object is not iterable"
     ]
    }
   ],
   "source": [
    "iter(485)"
   ]
  },
  {
   "cell_type": "code",
   "execution_count": 63,
   "id": "34d19788-5205-4960-9a1d-9c95f27d8b1f",
   "metadata": {},
   "outputs": [],
   "source": [
    "def count_test(n):\n",
    "    count = 1\n",
    "    while count <= n:\n",
    "        yield count\n",
    "        count = count + 1"
   ]
  },
  {
   "cell_type": "code",
   "execution_count": 64,
   "id": "f533c317-36e5-4fea-8048-c35a795a2c15",
   "metadata": {},
   "outputs": [],
   "source": [
    "c= count_test(5)"
   ]
  },
  {
   "cell_type": "code",
   "execution_count": 65,
   "id": "c07eb7b8-110d-4ae2-9d24-12320387316f",
   "metadata": {},
   "outputs": [
    {
     "name": "stdout",
     "output_type": "stream",
     "text": [
      "1\n",
      "2\n",
      "3\n",
      "4\n",
      "5\n"
     ]
    }
   ],
   "source": [
    "for i in c  :\n",
    "    print(i)"
   ]
  },
  {
   "cell_type": "code",
   "execution_count": 66,
   "id": "4dc51266-1180-4124-b358-d73a248bee0e",
   "metadata": {},
   "outputs": [],
   "source": [
    "#lambda function"
   ]
  },
  {
   "cell_type": "code",
   "execution_count": 67,
   "id": "37a1966f-37df-4a5f-ad3f-e5beadc514a9",
   "metadata": {},
   "outputs": [],
   "source": [
    "x=3\n",
    "y=5"
   ]
  },
  {
   "cell_type": "code",
   "execution_count": 68,
   "id": "2a05a0d8-cab0-4a46-ad97-ffee5d9963ca",
   "metadata": {},
   "outputs": [],
   "source": [
    "def test (x,y):\n",
    "    return x**y"
   ]
  },
  {
   "cell_type": "code",
   "execution_count": 69,
   "id": "45951972-5f0f-4796-ba0a-7b76f91859a7",
   "metadata": {},
   "outputs": [
    {
     "data": {
      "text/plain": [
       "25"
      ]
     },
     "execution_count": 69,
     "metadata": {},
     "output_type": "execute_result"
    }
   ],
   "source": [
    "test(5,2)"
   ]
  },
  {
   "cell_type": "code",
   "execution_count": 70,
   "id": "7b205ede-7455-471f-acc5-8009da79315b",
   "metadata": {},
   "outputs": [],
   "source": [
    "a = lambda x ,y : x**y"
   ]
  },
  {
   "cell_type": "code",
   "execution_count": 71,
   "id": "d42a8f4c-650f-45c2-9576-0f762e9e253d",
   "metadata": {},
   "outputs": [
    {
     "data": {
      "text/plain": [
       "9"
      ]
     },
     "execution_count": 71,
     "metadata": {},
     "output_type": "execute_result"
    }
   ],
   "source": [
    "a(3,2)"
   ]
  },
  {
   "cell_type": "code",
   "execution_count": 72,
   "id": "b8755631-402f-4434-93bb-d8fdb73aee54",
   "metadata": {},
   "outputs": [],
   "source": [
    "add = lambda x,y :x-y"
   ]
  },
  {
   "cell_type": "code",
   "execution_count": 73,
   "id": "f4e7cfb5-f5ac-4767-a54b-a00358a82331",
   "metadata": {},
   "outputs": [
    {
     "data": {
      "text/plain": [
       "2"
      ]
     },
     "execution_count": 73,
     "metadata": {},
     "output_type": "execute_result"
    }
   ],
   "source": [
    "add(6,4)"
   ]
  },
  {
   "cell_type": "code",
   "execution_count": 74,
   "id": "5ee14122-6850-42bd-9ce0-2d19cf8cd9ac",
   "metadata": {},
   "outputs": [],
   "source": [
    "c_to_f= lambda c :(9/5)*c +32"
   ]
  },
  {
   "cell_type": "code",
   "execution_count": 75,
   "id": "8b09a9f1-0c89-4993-83a2-808428803e89",
   "metadata": {},
   "outputs": [
    {
     "data": {
      "text/plain": [
       "131.0"
      ]
     },
     "execution_count": 75,
     "metadata": {},
     "output_type": "execute_result"
    }
   ],
   "source": [
    "c_to_f(55)"
   ]
  },
  {
   "cell_type": "code",
   "execution_count": 76,
   "id": "133075ab-b8cc-45c8-a8bd-8dc2e44f83a1",
   "metadata": {},
   "outputs": [],
   "source": [
    "finding_max = lambda x,y : x if x>y else y "
   ]
  },
  {
   "cell_type": "code",
   "execution_count": 77,
   "id": "a46fb9b4-bd94-4c0f-a13e-e0b8a6c2d373",
   "metadata": {},
   "outputs": [
    {
     "data": {
      "text/plain": [
       "89"
      ]
     },
     "execution_count": 77,
     "metadata": {},
     "output_type": "execute_result"
    }
   ],
   "source": [
    "finding_max(52,89)"
   ]
  },
  {
   "cell_type": "code",
   "execution_count": 78,
   "id": "e9bc1ede-7ff4-4da3-8402-c406135a84cf",
   "metadata": {},
   "outputs": [],
   "source": [
    "j = \"golesh\""
   ]
  },
  {
   "cell_type": "code",
   "execution_count": 79,
   "id": "97023d35-7d7d-4cea-b1f7-f0eb89296c53",
   "metadata": {},
   "outputs": [],
   "source": [
    "find_len = lambda j : len(j)"
   ]
  },
  {
   "cell_type": "code",
   "execution_count": 80,
   "id": "7ab1590c-b151-4be9-a586-e9ce7704e7db",
   "metadata": {},
   "outputs": [
    {
     "data": {
      "text/plain": [
       "6"
      ]
     },
     "execution_count": 80,
     "metadata": {},
     "output_type": "execute_result"
    }
   ],
   "source": [
    "find_len(j)"
   ]
  },
  {
   "cell_type": "code",
   "execution_count": 1,
   "id": "2409184b-acb7-490c-ba84-bc36c00a65f8",
   "metadata": {},
   "outputs": [],
   "source": [
    "# map, reduce&Filter fuction"
   ]
  },
  {
   "cell_type": "code",
   "execution_count": 2,
   "id": "261aafb3-d079-49ad-b435-fb0b5c996ccf",
   "metadata": {},
   "outputs": [],
   "source": [
    "f =[5,7,8,3,4,1]"
   ]
  },
  {
   "cell_type": "code",
   "execution_count": 3,
   "id": "f81cf99c-bd21-4d12-91c8-73ca236b64b5",
   "metadata": {},
   "outputs": [],
   "source": [
    "def workt(f):\n",
    "    f1 = []\n",
    "    for i in f :\n",
    "        f1.append(i**2)\n",
    "    return f1 \n",
    "    "
   ]
  },
  {
   "cell_type": "code",
   "execution_count": 4,
   "id": "116a998e-abb1-4a51-b718-e34dd8539052",
   "metadata": {},
   "outputs": [
    {
     "data": {
      "text/plain": [
       "[25, 49, 64, 9, 16, 1]"
      ]
     },
     "execution_count": 4,
     "metadata": {},
     "output_type": "execute_result"
    }
   ],
   "source": [
    "workt(f)"
   ]
  },
  {
   "cell_type": "code",
   "execution_count": 5,
   "id": "50eb10f4-ef05-4eb0-9344-dbad234b841f",
   "metadata": {},
   "outputs": [],
   "source": [
    "def sq(x):\n",
    "    return x**2"
   ]
  },
  {
   "cell_type": "code",
   "execution_count": 6,
   "id": "8faf1081-0613-4152-b1f5-622632b385a1",
   "metadata": {},
   "outputs": [
    {
     "data": {
      "text/plain": [
       "[25, 49, 64, 9, 16, 1]"
      ]
     },
     "execution_count": 6,
     "metadata": {},
     "output_type": "execute_result"
    }
   ],
   "source": [
    "list(map(sq , f))"
   ]
  },
  {
   "cell_type": "code",
   "execution_count": 7,
   "id": "e09e24e5-774c-4335-9e56-16f797777d21",
   "metadata": {},
   "outputs": [
    {
     "data": {
      "text/plain": [
       "[5, 7, 8, 3, 4, 1]"
      ]
     },
     "execution_count": 7,
     "metadata": {},
     "output_type": "execute_result"
    }
   ],
   "source": [
    "f"
   ]
  },
  {
   "cell_type": "code",
   "execution_count": 8,
   "id": "29b12edd-b2bc-48f5-905e-216a8c29ee46",
   "metadata": {},
   "outputs": [],
   "source": [
    "def sq(x):\n",
    "    return x**2"
   ]
  },
  {
   "cell_type": "code",
   "execution_count": 9,
   "id": "3283fc92-19a3-4951-94bb-6df8c7019c9c",
   "metadata": {},
   "outputs": [
    {
     "data": {
      "text/plain": [
       "[25, 49, 64, 9, 16, 1]"
      ]
     },
     "execution_count": 9,
     "metadata": {},
     "output_type": "execute_result"
    }
   ],
   "source": [
    "list(map(sq, f))"
   ]
  },
  {
   "cell_type": "code",
   "execution_count": 10,
   "id": "67411a37-35ac-45b2-86f7-d0a708cf1187",
   "metadata": {},
   "outputs": [
    {
     "data": {
      "text/plain": [
       "[25, 49, 64, 9, 16, 1]"
      ]
     },
     "execution_count": 10,
     "metadata": {},
     "output_type": "execute_result"
    }
   ],
   "source": [
    "list(map(lambda x : x**2, f ))"
   ]
  },
  {
   "cell_type": "code",
   "execution_count": 11,
   "id": "fc7b7df2-f458-4ab4-bcf6-c75d0cae9ae3",
   "metadata": {},
   "outputs": [
    {
     "data": {
      "text/plain": [
       "[10, 6, 9, 5]"
      ]
     },
     "execution_count": 11,
     "metadata": {},
     "output_type": "execute_result"
    }
   ],
   "source": [
    "list1 =[1, 2, 3, 4]\n",
    "list2 =[9,4,6,1]\n",
    "list (map(lambda a,b : a+b ,list1 ,list2))"
   ]
  },
  {
   "cell_type": "code",
   "execution_count": 12,
   "id": "ffeb88f2-55aa-437a-825f-e1007a19fc19",
   "metadata": {},
   "outputs": [],
   "source": [
    "def add (a,b) :\n",
    "    return a+b"
   ]
  },
  {
   "cell_type": "code",
   "execution_count": 13,
   "id": "0980a4b6-4cc9-4f0e-afd7-ee20cfdf1b11",
   "metadata": {},
   "outputs": [
    {
     "data": {
      "text/plain": [
       "[10, 6, 9, 5]"
      ]
     },
     "execution_count": 13,
     "metadata": {},
     "output_type": "execute_result"
    }
   ],
   "source": [
    "list(map(add, list1, list2))"
   ]
  },
  {
   "cell_type": "code",
   "execution_count": 14,
   "id": "a05f1268-04ff-44a6-aad9-d6f4322540eb",
   "metadata": {},
   "outputs": [
    {
     "data": {
      "text/plain": [
       "['Y', 'A', 'S', 'H', 'I', 'K', 'A']"
      ]
     },
     "execution_count": 14,
     "metadata": {},
     "output_type": "execute_result"
    }
   ],
   "source": [
    "name= \"yashika\"\n",
    "list(map(lambda name : name.upper() , name))"
   ]
  },
  {
   "cell_type": "code",
   "execution_count": 16,
   "id": "bd5885e3-b2f3-4822-9fce-d87688e4a1fc",
   "metadata": {},
   "outputs": [],
   "source": [
    "from functools import reduce"
   ]
  },
  {
   "cell_type": "code",
   "execution_count": 25,
   "id": "3d8c5f99-e6b0-42fe-8a10-e7927c31db8f",
   "metadata": {},
   "outputs": [],
   "source": [
    " k= [1, 2, 3, 6 , 5, 4 ]\n",
    "    "
   ]
  },
  {
   "cell_type": "code",
   "execution_count": 26,
   "id": "f2e6837e-2e7a-48ff-97f3-30c74742d818",
   "metadata": {},
   "outputs": [
    {
     "data": {
      "text/plain": [
       "21"
      ]
     },
     "execution_count": 26,
     "metadata": {},
     "output_type": "execute_result"
    }
   ],
   "source": [
    "reduce (lambda x,y : x+y ,k)"
   ]
  },
  {
   "cell_type": "code",
   "execution_count": 27,
   "id": "67e39bbe-52e7-4b46-8e97-8c85e9c3d1fc",
   "metadata": {},
   "outputs": [
    {
     "data": {
      "text/plain": [
       "6"
      ]
     },
     "execution_count": 27,
     "metadata": {},
     "output_type": "execute_result"
    }
   ],
   "source": [
    "reduce(lambda x,y :x if x> y else  y , k)"
   ]
  },
  {
   "cell_type": "code",
   "execution_count": 28,
   "id": "e1eed1cd-714f-4d6f-bdc5-c16c1610c515",
   "metadata": {},
   "outputs": [
    {
     "data": {
      "text/plain": [
       "[1, 2, 3, 6, 5, 4]"
      ]
     },
     "execution_count": 28,
     "metadata": {},
     "output_type": "execute_result"
    }
   ],
   "source": [
    "k"
   ]
  },
  {
   "cell_type": "code",
   "execution_count": 30,
   "id": "3610c4d2-ea96-4f75-859a-6ff065452f1c",
   "metadata": {},
   "outputs": [
    {
     "data": {
      "text/plain": [
       "[2, 6, 4]"
      ]
     },
     "execution_count": 30,
     "metadata": {},
     "output_type": "execute_result"
    }
   ],
   "source": [
    "list (filter(lambda x : x % 2 == 0 , k ))"
   ]
  },
  {
   "cell_type": "code",
   "execution_count": 31,
   "id": "a03bc84a-1154-4f2f-8337-a7a867867fee",
   "metadata": {},
   "outputs": [
    {
     "data": {
      "text/plain": [
       "[1, 3, 5]"
      ]
     },
     "execution_count": 31,
     "metadata": {},
     "output_type": "execute_result"
    }
   ],
   "source": [
    "list (filter(lambda x : x % 2 != 0 , k ))"
   ]
  },
  {
   "cell_type": "code",
   "execution_count": 32,
   "id": "1f20f6ee-1ead-4d81-8f3c-a4145be4a505",
   "metadata": {},
   "outputs": [],
   "source": [
    "w =[-4, 6 ,-6 , 2 , -98]"
   ]
  },
  {
   "cell_type": "code",
   "execution_count": 34,
   "id": "cb66f81d-acac-4ed5-a89f-227cd845e2f3",
   "metadata": {},
   "outputs": [
    {
     "data": {
      "text/plain": [
       "[-4, -6, -98]"
      ]
     },
     "execution_count": 34,
     "metadata": {},
     "output_type": "execute_result"
    }
   ],
   "source": [
    "list (filter(lambda x : x<0  , w ))"
   ]
  },
  {
   "cell_type": "code",
   "execution_count": 35,
   "id": "da2d4cb7-c8c2-4de5-b0db-3a54ba6e6101",
   "metadata": {},
   "outputs": [],
   "source": [
    "v = [\"yashika \", \"yash\" ,\"aloo\" , \"gobhi\"]"
   ]
  },
  {
   "cell_type": "code",
   "execution_count": 38,
   "id": "bf38e851-dc60-4adf-8f6e-cfe6b2a5c867",
   "metadata": {},
   "outputs": [
    {
     "data": {
      "text/plain": [
       "['yashika ']"
      ]
     },
     "execution_count": 38,
     "metadata": {},
     "output_type": "execute_result"
    }
   ],
   "source": [
    "list (filter(lambda x :len (x) >5 , v ))"
   ]
  },
  {
   "cell_type": "code",
   "execution_count": 40,
   "id": "f85bf92b-68b4-416a-bfc2-bd8d4cb5042d",
   "metadata": {},
   "outputs": [
    {
     "data": {
      "text/plain": [
       "['yash', 'aloo']"
      ]
     },
     "execution_count": 40,
     "metadata": {},
     "output_type": "execute_result"
    }
   ],
   "source": [
    "list (filter(lambda x :len (x) <5 , v ))"
   ]
  },
  {
   "cell_type": "code",
   "execution_count": null,
   "id": "d92ea91a-dfa1-455b-a3a6-ac6351472f50",
   "metadata": {},
   "outputs": [],
   "source": []
  }
 ],
 "metadata": {
  "kernelspec": {
   "display_name": "Python 3 (ipykernel)",
   "language": "python",
   "name": "python3"
  },
  "language_info": {
   "codemirror_mode": {
    "name": "ipython",
    "version": 3
   },
   "file_extension": ".py",
   "mimetype": "text/x-python",
   "name": "python",
   "nbconvert_exporter": "python",
   "pygments_lexer": "ipython3",
   "version": "3.10.8"
  }
 },
 "nbformat": 4,
 "nbformat_minor": 5
}
