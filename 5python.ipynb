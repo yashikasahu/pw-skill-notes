{
 "cells": [
  {
   "cell_type": "code",
   "execution_count": null,
   "id": "0948796e-4dd5-439f-89ff-18555c311d6c",
   "metadata": {},
   "outputs": [],
   "source": [
    "#Working with Files"
   ]
  },
  {
   "cell_type": "code",
   "execution_count": 1,
   "id": "b2366f38-fbe8-4889-a545-b1830c774d34",
   "metadata": {},
   "outputs": [],
   "source": [
    "f = open(\"test.txt\" , 'w')"
   ]
  },
  {
   "cell_type": "code",
   "execution_count": null,
   "id": "08060ec5-038e-42c4-abd3-4099361360f1",
   "metadata": {},
   "outputs": [],
   "source": [
    "pwd#present working directry"
   ]
  },
  {
   "cell_type": "code",
   "execution_count": null,
   "id": "674858ff-8a68-484c-a1c2-bda1c66fad7f",
   "metadata": {},
   "outputs": [],
   "source": [
    "ls"
   ]
  },
  {
   "cell_type": "code",
   "execution_count": null,
   "id": "7769a05c-33f7-4e44-a54b-e52813c93597",
   "metadata": {},
   "outputs": [],
   "source": [
    "cd work"
   ]
  },
  {
   "cell_type": "code",
   "execution_count": null,
   "id": "4e9e9a48-9e5c-409a-8136-6667cce01f2b",
   "metadata": {},
   "outputs": [],
   "source": [
    "ls"
   ]
  },
  {
   "cell_type": "code",
   "execution_count": null,
   "id": "a0b8e1e2-ff7f-4158-900b-fad2ccb79647",
   "metadata": {},
   "outputs": [],
   "source": [
    "f.write(\"this is my frist file to write\")"
   ]
  },
  {
   "cell_type": "code",
   "execution_count": null,
   "id": "7fcdcfb6-f18c-4ba7-9e0f-a1104c3893fb",
   "metadata": {},
   "outputs": [],
   "source": [
    "f.close()"
   ]
  },
  {
   "cell_type": "code",
   "execution_count": null,
   "id": "47907227-3e37-4f5d-b23d-ba02a9ae3ded",
   "metadata": {},
   "outputs": [],
   "source": [
    "f = open(\"test.txt\" , 'w')"
   ]
  },
  {
   "cell_type": "code",
   "execution_count": null,
   "id": "93b0dac2-df11-4f19-8ea9-50c1b7eb5971",
   "metadata": {},
   "outputs": [],
   "source": [
    "f.write(\"this is my file\")"
   ]
  },
  {
   "cell_type": "code",
   "execution_count": null,
   "id": "c4a85953-a296-44f4-9796-c0263d8b381a",
   "metadata": {},
   "outputs": [],
   "source": [
    "f.close()"
   ]
  },
  {
   "cell_type": "code",
   "execution_count": null,
   "id": "6789bb8b-babe-4178-9668-b6b3627c7b91",
   "metadata": {},
   "outputs": [],
   "source": [
    "f = open(\"text.txt\" ,'a')"
   ]
  },
  {
   "cell_type": "code",
   "execution_count": null,
   "id": "64e2b07c-925c-44c5-9010-dfd6ffc825a6",
   "metadata": {},
   "outputs": [],
   "source": [
    "f.write(\"Want to hone your skills and gain experience?\")"
   ]
  },
  {
   "cell_type": "code",
   "execution_count": null,
   "id": "0de46e70-084e-49f0-ac5a-a331fb798511",
   "metadata": {},
   "outputs": [],
   "source": [
    "f.close()"
   ]
  },
  {
   "cell_type": "code",
   "execution_count": null,
   "id": "cbdb3b4a-3d13-4a2d-b29d-624abd5b6f91",
   "metadata": {},
   "outputs": [],
   "source": [
    "a = open (\"text.txt\" , 'r')"
   ]
  },
  {
   "cell_type": "code",
   "execution_count": null,
   "id": "23902174-1348-4889-8cf5-0fa1c3d05552",
   "metadata": {},
   "outputs": [],
   "source": [
    "a.read()"
   ]
  },
  {
   "cell_type": "code",
   "execution_count": null,
   "id": "e2ee232c-fc34-4928-af11-5f638e0a191c",
   "metadata": {},
   "outputs": [],
   "source": [
    "a.readline()"
   ]
  },
  {
   "cell_type": "code",
   "execution_count": null,
   "id": "ad103f94-c102-4456-acaa-02a75f62c0c5",
   "metadata": {},
   "outputs": [],
   "source": [
    "a.seek(0)"
   ]
  },
  {
   "cell_type": "code",
   "execution_count": null,
   "id": "097ea9d8-b57e-48cb-b3c0-e29d7b90e9ea",
   "metadata": {},
   "outputs": [],
   "source": [
    "a.readline()"
   ]
  },
  {
   "cell_type": "code",
   "execution_count": null,
   "id": "4b6cbbbf-cb22-4672-aedd-212ef4352e43",
   "metadata": {},
   "outputs": [],
   "source": [
    "a.seek(10)"
   ]
  },
  {
   "cell_type": "code",
   "execution_count": null,
   "id": "15ef02e4-c2af-4e9a-a6c5-9e8eb2f3e49b",
   "metadata": {},
   "outputs": [],
   "source": [
    "a.readline()"
   ]
  },
  {
   "cell_type": "code",
   "execution_count": null,
   "id": "7c38fcab-3951-4a26-bfd4-06755f15cf18",
   "metadata": {},
   "outputs": [],
   "source": [
    "data = open(\"text.txt\" , 'r')"
   ]
  },
  {
   "cell_type": "code",
   "execution_count": null,
   "id": "7bdae20b-bdb2-473a-ba38-45a4705f6bb5",
   "metadata": {},
   "outputs": [],
   "source": [
    "for i in data:\n",
    "    print(i)"
   ]
  },
  {
   "cell_type": "code",
   "execution_count": null,
   "id": "c7b21b51-438a-4965-bad4-0742313af25a",
   "metadata": {},
   "outputs": [],
   "source": [
    "import os"
   ]
  },
  {
   "cell_type": "code",
   "execution_count": null,
   "id": "e4c3e47e-1ec5-4e79-b818-01297e8d9bbe",
   "metadata": {},
   "outputs": [],
   "source": [
    "os.path.getsize(\"text.txt\")"
   ]
  },
  {
   "cell_type": "code",
   "execution_count": null,
   "id": "a6f39a5c-83ed-4ca9-88a3-c7fb02aee5c2",
   "metadata": {},
   "outputs": [],
   "source": [
    "os.remove(\"text.txt\")"
   ]
  },
  {
   "cell_type": "code",
   "execution_count": null,
   "id": "7ba821ec-d387-45fb-9e0c-09da8813c265",
   "metadata": {},
   "outputs": [],
   "source": [
    "p = open(\"text1.txt\" , 'w')"
   ]
  },
  {
   "cell_type": "code",
   "execution_count": null,
   "id": "e16fbc47-b324-465d-b385-c7c4a892bdd3",
   "metadata": {},
   "outputs": [],
   "source": [
    "p.write(\"Librans are extroverted, cosy, and friendly people. Librans, like the Scales that symbolise the sign, are often concerned with attaining balance, harmony, peace, and justice in the world. With their vast stores of charm, intelligence, frankness, persuasion, and seamless connectivity, they are well-equipped to do so.\")"
   ]
  },
  {
   "cell_type": "code",
   "execution_count": null,
   "id": "257a490b-7286-405a-b062-43f039276be9",
   "metadata": {},
   "outputs": [],
   "source": [
    "p.close()"
   ]
  },
  {
   "cell_type": "code",
   "execution_count": null,
   "id": "4c6a876c-4ae5-4c97-8452-9bad028b3829",
   "metadata": {},
   "outputs": [],
   "source": [
    "os.rename(\"text1.txt\" , \"yashika.txt\")"
   ]
  },
  {
   "cell_type": "code",
   "execution_count": null,
   "id": "108fc25e-c1d4-4494-964e-caa4a71b432e",
   "metadata": {},
   "outputs": [],
   "source": [
    "import shutil"
   ]
  },
  {
   "cell_type": "code",
   "execution_count": null,
   "id": "b2e0ab20-e1b4-4289-b747-58f54b8150ad",
   "metadata": {},
   "outputs": [],
   "source": [
    "shutil.copy(\"yashika.txt\" , \"copy_yashika.txt\")"
   ]
  },
  {
   "cell_type": "code",
   "execution_count": null,
   "id": "dc6706f7-3b10-4c76-b3cc-01242adfdcae",
   "metadata": {},
   "outputs": [],
   "source": [
    "with open (\"yashika.txt\" , 'r')as p:\n",
    "    print(p.read())"
   ]
  },
  {
   "cell_type": "code",
   "execution_count": null,
   "id": "850854eb-68e2-48e3-bf81-b63982fec6ab",
   "metadata": {},
   "outputs": [],
   "source": [
    "# Reading And Writing Files"
   ]
  },
  {
   "cell_type": "code",
   "execution_count": null,
   "id": "18be8798-b62a-46dd-a80b-caed2a284dc8",
   "metadata": {},
   "outputs": [],
   "source": [
    "Data = {\n",
    "    \"name\" : \"yashika\" ,\n",
    "    \"mail_id\" : \"yashika@gmail.com\",\n",
    "    \"phone_number\" : 5487963214,\n",
    "    \"subject\" :[\"data science\" , \"data analyst \", \"cloud computing\" , \"artificial inteligence\"]\n",
    "    }"
   ]
  },
  {
   "cell_type": "code",
   "execution_count": null,
   "id": "9a12be8b-e021-4489-9192-2db9cd70c917",
   "metadata": {},
   "outputs": [],
   "source": [
    "import json"
   ]
  },
  {
   "cell_type": "code",
   "execution_count": null,
   "id": "fe501251-1ed5-4de7-8283-befb7db4551e",
   "metadata": {},
   "outputs": [],
   "source": [
    "with open (\"Data.json\" , \"w\")as p:\n",
    "    json.dump(Data , p)"
   ]
  },
  {
   "cell_type": "code",
   "execution_count": null,
   "id": "87982b47-418d-4820-b520-1b3457c99446",
   "metadata": {},
   "outputs": [],
   "source": [
    "with open (\"Data.json\" , \"r\")as p:\n",
    "    json.load( p)"
   ]
  },
  {
   "cell_type": "code",
   "execution_count": null,
   "id": "ad7e4f5b-ee47-4134-aa89-067833bb4680",
   "metadata": {},
   "outputs": [],
   "source": [
    "Data"
   ]
  },
  {
   "cell_type": "code",
   "execution_count": null,
   "id": "a6b56036-1776-4627-9d56-2448e0536dd3",
   "metadata": {},
   "outputs": [],
   "source": [
    "# Reading And Writing Files"
   ]
  },
  {
   "cell_type": "code",
   "execution_count": null,
   "id": "5aaead4b-3bf1-4bc2-9973-e5d857de9e5f",
   "metadata": {},
   "outputs": [],
   "source": [
    "data1 = {\n",
    "    \"name\": \"yashika\",\n",
    "    \"mail_id\" :\"abc@gmail.com\",\n",
    "    \"phone_no\": 6498523178,\n",
    "    \"subject\" :[\"data science\", \"data anylist\", \"data learner\"]\n",
    "}"
   ]
  },
  {
   "cell_type": "code",
   "execution_count": null,
   "id": "f9866471-bdcc-42fc-90a6-7225959020f2",
   "metadata": {},
   "outputs": [],
   "source": [
    "import json"
   ]
  },
  {
   "cell_type": "code",
   "execution_count": null,
   "id": "039cfb03-b67b-4457-a26e-54806fafb0fb",
   "metadata": {},
   "outputs": [],
   "source": [
    "with open(\"data1.json\" , \"w\") as f:\n",
    "    json.dump(data1 , f)"
   ]
  },
  {
   "cell_type": "code",
   "execution_count": null,
   "id": "22887848-809e-4f5a-bd8a-41ec3942267a",
   "metadata": {},
   "outputs": [],
   "source": [
    "with open(\"data1.json\" ,\"r\") as f:\n",
    "       data2 = json.load(f)"
   ]
  },
  {
   "cell_type": "code",
   "execution_count": null,
   "id": "03aabacc-91ea-4aac-bf24-550539fec2b8",
   "metadata": {},
   "outputs": [],
   "source": [
    "data2"
   ]
  },
  {
   "cell_type": "code",
   "execution_count": null,
   "id": "edc7bbf4-f56c-429a-8cbf-f8a2db42d37c",
   "metadata": {},
   "outputs": [],
   "source": [
    "data2['subject'][2]"
   ]
  },
  {
   "cell_type": "code",
   "execution_count": null,
   "id": "c30d82ad-4ac3-4328-812f-9e92b221019b",
   "metadata": {},
   "outputs": [],
   "source": [
    "import csv"
   ]
  },
  {
   "cell_type": "code",
   "execution_count": null,
   "id": "7d8c59b4-67f8-49b4-9433-2f5c96983741",
   "metadata": {},
   "outputs": [],
   "source": [
    "data3 = [[ \"name\" ,\"mail_id\",\"phone_no\",  \"subject\"],\n",
    "         [\"yashika\",\"abc@gmail.com\",6498523178,\"data anylist\"],\n",
    "         [\"yash\",   \"xyz@gmail.com\", 3154978621 , \"hindi\"],\n",
    " ]"
   ]
  },
  {
   "cell_type": "code",
   "execution_count": null,
   "id": "3ab5989b-32ea-47d8-b6c4-7258164628a6",
   "metadata": {},
   "outputs": [],
   "source": [
    "with open(\"data3.csv\" , \"w\") as f :\n",
    "    writer = csv.writer(f)\n",
    "    \n",
    "    for i in data3:\n",
    "        writer.writerow(i)"
   ]
  },
  {
   "cell_type": "code",
   "execution_count": null,
   "id": "8feddffb-251b-4798-80c6-83e6f30ab88a",
   "metadata": {},
   "outputs": [],
   "source": [
    "with open(\"data3.csv\",\"r\") as f:\n",
    "    read_data3 = csv.reader(f)\n",
    "    \n",
    "    for i in read_data3:\n",
    "        print(i)"
   ]
  },
  {
   "cell_type": "code",
   "execution_count": null,
   "id": "7a4ad7fc-a716-47e0-8591-2920dd682308",
   "metadata": {},
   "outputs": [],
   "source": [
    "with open(\"test.bin\" , \"wb\") as f:\n",
    "    f.write(b\"\\x01\\x02\\x03\\x3454235\")"
   ]
  },
  {
   "cell_type": "code",
   "execution_count": null,
   "id": "9ff6c269-80b6-454c-824d-4d7e9ff25126",
   "metadata": {},
   "outputs": [],
   "source": [
    "with open(\"test.bin\" , \"rb\") as f:\n",
    "    print(f.read())"
   ]
  },
  {
   "cell_type": "code",
   "execution_count": null,
   "id": "234d56d1-b40e-41df-8b60-fce35515794b",
   "metadata": {},
   "outputs": [],
   "source": [
    "# Buffered Read And Write Other File Methods"
   ]
  },
  {
   "cell_type": "code",
   "execution_count": null,
   "id": "cda621b5-ad92-4f62-aed6-0a3be2920e52",
   "metadata": {},
   "outputs": [],
   "source": [
    "import io"
   ]
  },
  {
   "cell_type": "code",
   "execution_count": null,
   "id": "1a4e1d94-f272-4b63-90a9-7b5ef05a9d98",
   "metadata": {},
   "outputs": [],
   "source": [
    "with open(\"test1.txt\" , \"wb\") as f:\n",
    "    file = io.BufferedWriter(f)\n",
    "    \n",
    "    file.write(b\"this is my frist line\\n\")\n",
    "    file.write(b\"this is my second line\\n\")\n",
    "    file.flush()"
   ]
  },
  {
   "cell_type": "code",
   "execution_count": null,
   "id": "386fa2ca-3452-4f71-8722-3bcafa9f5520",
   "metadata": {},
   "outputs": [],
   "source": [
    "with open (\"test1.txt\" , \"rb\") as f:\n",
    "     \n",
    "        file = io.BufferedReader(f)\n",
    "        data = file.read(20)\n",
    "        print(data)"
   ]
  },
  {
   "cell_type": "code",
   "execution_count": null,
   "id": "e364c387-5a3d-460a-b2c8-f041e9e769fd",
   "metadata": {},
   "outputs": [],
   "source": [
    "#  Logging & debugger"
   ]
  },
  {
   "cell_type": "code",
   "execution_count": null,
   "id": "8424682a-4da2-412b-85f7-00e2008706fe",
   "metadata": {},
   "outputs": [],
   "source": [
    "print(\"my name is yashika \")"
   ]
  },
  {
   "cell_type": "code",
   "execution_count": null,
   "id": "196517f4-6c42-444d-b98d-e938d1ab2032",
   "metadata": {},
   "outputs": [],
   "source": [
    "import logging"
   ]
  },
  {
   "cell_type": "code",
   "execution_count": null,
   "id": "e3c527bd-af65-4d8e-bd0f-3cc516fd5390",
   "metadata": {},
   "outputs": [],
   "source": [
    "logging.basicConfig(filename = \"happy.log\" , level = logging.INFO )"
   ]
  },
  {
   "cell_type": "code",
   "execution_count": null,
   "id": "b333a1e3-1b29-441f-9812-f288e90db61c",
   "metadata": {},
   "outputs": [],
   "source": [
    "logging.info(\" log this line of executation\")"
   ]
  },
  {
   "cell_type": "code",
   "execution_count": null,
   "id": "cf12e442-8484-4db7-977a-ab38534b733d",
   "metadata": {},
   "outputs": [],
   "source": [
    "logging.info(\" my name is yashika \")"
   ]
  },
  {
   "cell_type": "code",
   "execution_count": null,
   "id": "82963626-56e6-4a34-9c21-8202917947cf",
   "metadata": {},
   "outputs": [],
   "source": [
    "logging.debug(\" MY DEBUG  \")"
   ]
  },
  {
   "cell_type": "code",
   "execution_count": null,
   "id": "e717b4af-de1c-4286-bc61-a9dcd74a74f8",
   "metadata": {},
   "outputs": [],
   "source": [
    "logging.warning(\" my  WARNING mssg to all people \")"
   ]
  },
  {
   "cell_type": "code",
   "execution_count": null,
   "id": "3dfa101e-fd73-4ebc-bf3c-8d4b22e491c6",
   "metadata": {},
   "outputs": [],
   "source": [
    "logging.error(\" MY ERROR LEARNING  \")"
   ]
  },
  {
   "cell_type": "code",
   "execution_count": null,
   "id": "de2520aa-e6e0-4ca6-bb6e-5b919b03a7f8",
   "metadata": {},
   "outputs": [],
   "source": [
    "logging.shutdown()"
   ]
  },
  {
   "cell_type": "code",
   "execution_count": null,
   "id": "f84dde35-1791-412b-858d-d7c88aeee31b",
   "metadata": {},
   "outputs": [],
   "source": [
    "#label for logging \n",
    "#1. NOTSET 2. DEBUG 3. INFO 4. WARNING 5. ERROR 6. CRITICAL"
   ]
  },
  {
   "cell_type": "code",
   "execution_count": 35,
   "id": "3aae6141-5c0c-47ac-afa6-0215bf5c53a7",
   "metadata": {},
   "outputs": [],
   "source": [
    "import logging"
   ]
  },
  {
   "cell_type": "code",
   "execution_count": 36,
   "id": "4f6ab09f-7ab0-42ce-ba8b-d1147b72bea9",
   "metadata": {},
   "outputs": [],
   "source": [
    "logging.basicConfig(filename = \"test1.log\" , level = logging.DEBUG , format = '%(asctime)s %(message)s')"
   ]
  },
  {
   "cell_type": "code",
   "execution_count": 37,
   "id": "3f288860-ee0b-4471-b45c-63bc796060b2",
   "metadata": {},
   "outputs": [],
   "source": [
    "logging.info(\"this is my info logging\")\n",
    "logging.error(\"this is my error\")\n",
    "logging.critical(\"this is my critical\")"
   ]
  },
  {
   "cell_type": "code",
   "execution_count": 38,
   "id": "b3e6b08e-febd-48c5-9a1f-8696d77c9a15",
   "metadata": {},
   "outputs": [],
   "source": [
    "logging.shutdown()"
   ]
  },
  {
   "cell_type": "code",
   "execution_count": 39,
   "id": "da0f4cf2-a467-462e-85ba-55542c82acff",
   "metadata": {},
   "outputs": [],
   "source": [
    "logging.basicConfig(filename = \"test2.log\" , level= logging.DEBUG , format ='%(asctime)s  %(levelname)s %(message)s')"
   ]
  },
  {
   "cell_type": "code",
   "execution_count": 40,
   "id": "e0d7f7d3-ac84-4d0e-8f7c-025053137423",
   "metadata": {},
   "outputs": [],
   "source": [
    "logging.info(\"this is my logging info\")\n",
    "logging.error(\"this is my error mssg\")\n",
    "logging.critical(\"critical mssg\")"
   ]
  },
  {
   "cell_type": "code",
   "execution_count": null,
   "id": "9ca45e23-75f5-4fe3-b152-34560148b44e",
   "metadata": {},
   "outputs": [],
   "source": [
    "f=[2,4,9,\"i\",\"hate\",\"banana\",12080.56,5+8]"
   ]
  },
  {
   "cell_type": "code",
   "execution_count": null,
   "id": "43f03970-afc1-4da6-9789-e1ac53bec861",
   "metadata": {},
   "outputs": [],
   "source": [
    "f1_int =[]\n",
    "f2_str =[]\n",
    "for i in f:\n",
    "    logging.info (\"named list f into i\")\n",
    "    if type(i) == list:\n",
    "        logging.info(\"checked that f is a list or not\")\n",
    "        for j in i:\n",
    "            logging.info (\"named list i into j\")\n",
    "            if type (j)== int:\n",
    "                logging.info (\"if f1 is int add into f1_int list\")\n",
    "                f1_int.append(j)\n",
    "    elif type(i)== int:\n",
    "        f1_int.append(i)\n",
    "       \n",
    "    else:\n",
    "        if type(i)== str: \n",
    "            f2_str.append(i)\n",
    "logging.info(\"my final result id fir int {f1} and for str is{f2}\".format(f1 = f1_int, f2= f2_str))"
   ]
  },
  {
   "cell_type": "code",
   "execution_count": 46,
   "id": "ceaeb3dd-4a84-4b85-a96d-7e22370848a4",
   "metadata": {},
   "outputs": [
    {
     "data": {
      "text/plain": [
       "[2, 4, 9, 13]"
      ]
     },
     "execution_count": 6,
     "metadata": {},
     "output_type": "execute_result"
    }
   ],
   "source": [
    "f1_int"
   ]
  },
  {
   "cell_type": "code",
   "execution_count": 34,
   "id": "0ebdf7c5-52cf-41e1-8311-498320c2334b",
   "metadata": {},
   "outputs": [
    {
     "data": {
      "text/plain": [
       "['i', 'hate', 'banana']"
      ]
     },
     "execution_count": 7,
     "metadata": {},
     "output_type": "execute_result"
    }
   ],
   "source": [
    "f2_str"
   ]
  },
  {
   "cell_type": "code",
   "execution_count": 4,
   "id": "cf1f7631-c883-4106-9364-f2e6ae02f08d",
   "metadata": {},
   "outputs": [
    {
     "data": {
      "text/plain": [
       "'it is done  in python '"
      ]
     },
     "execution_count": 4,
     "metadata": {},
     "output_type": "execute_result"
    }
   ],
   "source": [
    "# Modules And Import Statements\n",
    "\"it is done  in python \""
   ]
  },
  {
   "cell_type": "code",
   "execution_count": 2,
   "id": "a1b21f21-181c-4fe7-a2dc-ee56d115811e",
   "metadata": {},
   "outputs": [],
   "source": [
    "#Exceptions Handling with try Except"
   ]
  },
  {
   "cell_type": "code",
   "execution_count": 6,
   "id": "dedfe28d-bd28-4ffe-829f-fcb6e3e55c29",
   "metadata": {},
   "outputs": [
    {
     "name": "stdout",
     "output_type": "stream",
     "text": [
      "this is my except block [Errno 2] No such file or directory: 'test.txt'\n"
     ]
    },
    {
     "data": {
      "text/plain": [
       "15"
      ]
     },
     "execution_count": 6,
     "metadata": {},
     "output_type": "execute_result"
    }
   ],
   "source": [
    "try:\n",
    "    f=open(\"test.txt\", 'r')\n",
    "except Exception as e:\n",
    "    print(\"this is my except block\", e)\n",
    "a=6+9\n",
    "a"
   ]
  },
  {
   "cell_type": "code",
   "execution_count": 14,
   "id": "949c50c4-b61f-42a5-98e9-f126ea07f2ff",
   "metadata": {},
   "outputs": [
    {
     "name": "stdout",
     "output_type": "stream",
     "text": [
      "this will only excetuesd when the try block is excuted without error\n"
     ]
    }
   ],
   "source": [
    "try:\n",
    "    f=open(\"test1.txt\", 'w')\n",
    "    f.write(\"write into my file\")\n",
    "except Exception as e:\n",
    "    print(\"this is my except block\", e)\n",
    "else:\n",
    "    f.close()\n",
    "    print(\"this will only excetuesd when the try block is excuted without any error\")\n"
   ]
  },
  {
   "cell_type": "code",
   "execution_count": 16,
   "id": "03a61612-9a39-4a0f-ba82-6ebaf08d74bd",
   "metadata": {},
   "outputs": [
    {
     "name": "stdout",
     "output_type": "stream",
     "text": [
      " this will always execute itself in any situation where code runs or not .\n"
     ]
    },
    {
     "ename": "UnsupportedOperation",
     "evalue": "not writable",
     "output_type": "error",
     "traceback": [
      "\u001b[0;31m---------------------------------------------------------------------------\u001b[0m",
      "\u001b[0;31mUnsupportedOperation\u001b[0m                      Traceback (most recent call last)",
      "Cell \u001b[0;32mIn[16], line 3\u001b[0m\n\u001b[1;32m      1\u001b[0m \u001b[38;5;28;01mtry\u001b[39;00m:\n\u001b[1;32m      2\u001b[0m     f\u001b[38;5;241m=\u001b[39m \u001b[38;5;28mopen\u001b[39m(\u001b[38;5;124m\"\u001b[39m\u001b[38;5;124mtest2.txt\u001b[39m\u001b[38;5;124m\"\u001b[39m, \u001b[38;5;124m\"\u001b[39m\u001b[38;5;124mr\u001b[39m\u001b[38;5;124m\"\u001b[39m)\n\u001b[0;32m----> 3\u001b[0m     \u001b[43mf\u001b[49m\u001b[38;5;241;43m.\u001b[39;49m\u001b[43mwrite\u001b[49m\u001b[43m(\u001b[49m\u001b[38;5;124;43m\"\u001b[39;49m\u001b[38;5;124;43mwrite something\u001b[39;49m\u001b[38;5;124;43m\"\u001b[39;49m\u001b[43m)\u001b[49m\n\u001b[1;32m      4\u001b[0m \u001b[38;5;28;01mfinally\u001b[39;00m :\n\u001b[1;32m      5\u001b[0m     \u001b[38;5;28mprint\u001b[39m(\u001b[38;5;124m\"\u001b[39m\u001b[38;5;124m this will always execute itself in any situation where code runs or not .\u001b[39m\u001b[38;5;124m\"\u001b[39m)\n",
      "\u001b[0;31mUnsupportedOperation\u001b[0m: not writable"
     ]
    }
   ],
   "source": [
    "try:\n",
    "    f= open(\"test2.txt\", \"r\")\n",
    "    f.write(\"write something\")\n",
    "finally :\n",
    "    print(\" this will always execute itself in any situation where code runs or not .\")"
   ]
  },
  {
   "cell_type": "code",
   "execution_count": 3,
   "id": "d5401c6c-199a-43a4-8646-e6f0a1146173",
   "metadata": {},
   "outputs": [],
   "source": [
    "#Costom Exception Handling\n",
    "#exception for eeror that could be easly taken care of and we could make exception error customized ."
   ]
  },
  {
   "cell_type": "code",
   "execution_count": 11,
   "id": "a6b9bb91-251b-4d5d-97cd-5bc2cc252db4",
   "metadata": {},
   "outputs": [],
   "source": [
    "class validateage(Exception):\n",
    "    \n",
    "    def __init__(self , msg):\n",
    "        self.msg =msg"
   ]
  },
  {
   "cell_type": "code",
   "execution_count": 12,
   "id": "fe40fc64-ea1d-417a-b9b8-6b853d6b1cc1",
   "metadata": {},
   "outputs": [],
   "source": [
    "def validate(age):\n",
    "    if age < 0 :\n",
    "         raise validateage(\"entered age is negative\")\n",
    "    elif age > 150:\n",
    "           raise validateage(\"entered age is very high\")\n",
    "    else :\n",
    "         print(\"age is valid \")  "
   ]
  },
  {
   "cell_type": "code",
   "execution_count": 13,
   "id": "e251fbde-65c0-4137-8733-f11fca9bb36a",
   "metadata": {},
   "outputs": [
    {
     "name": "stdin",
     "output_type": "stream",
     "text": [
      "enter your age  -56\n"
     ]
    },
    {
     "name": "stdout",
     "output_type": "stream",
     "text": [
      "entered age is negative\n"
     ]
    }
   ],
   "source": [
    "try:\n",
    "    age = int (input(\"enter your age \"))\n",
    "    validate(age)\n",
    "except validateage as e:\n",
    "    print(e)"
   ]
  },
  {
   "cell_type": "code",
   "execution_count": 14,
   "id": "0d8ed793-df71-4cc3-b7d2-9ea6bb3a9ffa",
   "metadata": {},
   "outputs": [],
   "source": [
    "#List Of General Use Exceptions\n",
    "# we are making an exception in error so the code could run \n",
    "#many types of error "
   ]
  },
  {
   "cell_type": "code",
   "execution_count": 3,
   "id": "c7b2b00f-7ba6-495f-a6dd-3dbe2a3cf97f",
   "metadata": {},
   "outputs": [
    {
     "name": "stdout",
     "output_type": "stream",
     "text": [
      "division by zero\n"
     ]
    }
   ],
   "source": [
    "try :\n",
    "    a=10/0\n",
    "except ZeroDivisionError as e :\n",
    "    print (e)"
   ]
  },
  {
   "cell_type": "code",
   "execution_count": 7,
   "id": "0d73bdae-c556-4969-8229-1d44a43af3aa",
   "metadata": {},
   "outputs": [
    {
     "name": "stdout",
     "output_type": "stream",
     "text": [
      "invalid literal for int() with base 10: 'yashika'\n"
     ]
    }
   ],
   "source": [
    "try:\n",
    "    int(\"yashika\")\n",
    "except (ValueError , TypeError) as e:\n",
    "    print(e)  "
   ]
  },
  {
   "cell_type": "code",
   "execution_count": 8,
   "id": "c044a2de-312a-4bbf-bcd0-bbf623872334",
   "metadata": {},
   "outputs": [
    {
     "name": "stdout",
     "output_type": "stream",
     "text": [
      "this will catch an error\n"
     ]
    }
   ],
   "source": [
    "try:\n",
    "    int(\"yashika\")\n",
    "except :\n",
    "    print(\"this will catch an error\")  "
   ]
  },
  {
   "cell_type": "code",
   "execution_count": 1,
   "id": "77ab115d-5341-48a9-b82b-816a24747dc2",
   "metadata": {},
   "outputs": [
    {
     "name": "stdout",
     "output_type": "stream",
     "text": [
      "No module named 'sudh'\n"
     ]
    },
    {
     "data": {
      "text/plain": [
       "2.0"
      ]
     },
     "execution_count": 1,
     "metadata": {},
     "output_type": "execute_result"
    }
   ],
   "source": [
    "try:\n",
    "    import sudh\n",
    "except ImportError as e:\n",
    "    print(e)\n",
    "10/5"
   ]
  },
  {
   "cell_type": "code",
   "execution_count": 5,
   "id": "3bb6e397-17c7-412a-a888-5bd8df9a4c06",
   "metadata": {},
   "outputs": [
    {
     "name": "stdout",
     "output_type": "stream",
     "text": [
      "'key2'\n"
     ]
    }
   ],
   "source": [
    "try:\n",
    "# d = dictionary \n",
    "    d={\"key\": \"yashika\", 1 : [2,4,5,6]}\n",
    "    print(d[\"key2\"])\n",
    "except KeyError as e:\n",
    "    print (e)"
   ]
  },
  {
   "cell_type": "code",
   "execution_count": 6,
   "id": "792aa7cc-b3bc-4857-a5bb-15b8ed215654",
   "metadata": {},
   "outputs": [
    {
     "name": "stdout",
     "output_type": "stream",
     "text": [
      "'str' object has no attribute 'test'\n"
     ]
    }
   ],
   "source": [
    "try:\n",
    "    \"yashika\".test()\n",
    "except AttributeError as e :\n",
    "    print(e)"
   ]
  },
  {
   "cell_type": "code",
   "execution_count": 8,
   "id": "07e20152-f4c4-498c-aa14-778706f1144f",
   "metadata": {},
   "outputs": [
    {
     "name": "stdout",
     "output_type": "stream",
     "text": [
      "list index out of range\n"
     ]
    }
   ],
   "source": [
    "try:\n",
    "    l=[2,4,5,6,7]\n",
    "    print(l[7])\n",
    "except IndexError as e :\n",
    "    print(e)"
   ]
  },
  {
   "cell_type": "code",
   "execution_count": 10,
   "id": "b6bbeb06-17c8-4c78-addd-87ec4cc341ed",
   "metadata": {},
   "outputs": [
    {
     "name": "stdout",
     "output_type": "stream",
     "text": [
      "unsupported operand type(s) for +: 'int' and 'str'\n"
     ]
    }
   ],
   "source": [
    "try :\n",
    "    123 + \"yashika\"\n",
    "except TypeError as e:\n",
    "    print(e)"
   ]
  },
  {
   "cell_type": "code",
   "execution_count": 13,
   "id": "919a280e-ca13-419c-861d-c0e97eff9ae4",
   "metadata": {},
   "outputs": [
    {
     "name": "stdout",
     "output_type": "stream",
     "text": [
      "[Errno 2] No such file or directory: 'text.txt'\n"
     ]
    }
   ],
   "source": [
    "try :\n",
    "    with open (\"text.txt\", 'r')as f :\n",
    "        test = f.read()\n",
    "except FileNotFoundError as e:\n",
    "    print (e)"
   ]
  },
  {
   "cell_type": "code",
   "execution_count": 16,
   "id": "5529f813-69b2-43b2-8525-993e40ffa897",
   "metadata": {},
   "outputs": [
    {
     "name": "stdout",
     "output_type": "stream",
     "text": [
      "[Errno 2] No such file or directory: 'text.txt'\n"
     ]
    }
   ],
   "source": [
    "try :\n",
    "# Exception haldes all the error automatic don't write on upper of code it is always better to write it at last .    \n",
    "    with open (\"text.txt\", 'r')as f :\n",
    "        test = f.read()\n",
    "except Exception as e:\n",
    "    print (e)\n",
    "except FileNotFoundError as e:\n",
    "    print (e)"
   ]
  },
  {
   "cell_type": "code",
   "execution_count": 18,
   "id": "6e3d90e3-ece2-4173-bb35-f9c1691728aa",
   "metadata": {},
   "outputs": [],
   "source": [
    "#  Best Practice Exception Handling\n",
    "# use always a specific exception"
   ]
  },
  {
   "cell_type": "code",
   "execution_count": 19,
   "id": "2191701e-8a39-40e0-b648-47e7e9f86bf1",
   "metadata": {},
   "outputs": [
    {
     "name": "stdout",
     "output_type": "stream",
     "text": [
      "division by zero\n"
     ]
    }
   ],
   "source": [
    "try :\n",
    "    10/0\n",
    "except Exception as e:\n",
    "    print (e)"
   ]
  },
  {
   "cell_type": "code",
   "execution_count": 20,
   "id": "8d7f2f4e-ac1c-4661-a61d-d37048bf3175",
   "metadata": {},
   "outputs": [
    {
     "name": "stdout",
     "output_type": "stream",
     "text": [
      "division by zero\n"
     ]
    }
   ],
   "source": [
    "try :\n",
    "    a=10/0\n",
    "except ZeroDivisionError as e :\n",
    "    print (e)"
   ]
  },
  {
   "cell_type": "code",
   "execution_count": 21,
   "id": "3f363a37-1045-458c-9949-f9986c83f7d5",
   "metadata": {},
   "outputs": [
    {
     "name": "stdout",
     "output_type": "stream",
     "text": [
      "I am trying to handle a zerodivision error  division by zero\n"
     ]
    }
   ],
   "source": [
    "try:\n",
    "    #print always a porper message \n",
    "    10/0\n",
    "except ZeroDivisionError as e :\n",
    "    print (\"I am trying to handle a zerodivision error \" , e)"
   ]
  },
  {
   "cell_type": "code",
   "execution_count": 24,
   "id": "ad578192-a656-4be2-89e7-b7eea3921585",
   "metadata": {},
   "outputs": [],
   "source": [
    "import logging \n",
    "#always try to log your error in place of print \n",
    "logging.basicConfig(filename = \"error.log\" , level = logging.ERROR)\n",
    "try :\n",
    "     10/0\n",
    "except ZeroDivisionError as e :\n",
    "         logging.error(\"i am trying to handle a zerodivision error{}\".format(e)) "
   ]
  },
  {
   "cell_type": "code",
   "execution_count": 25,
   "id": "cd6e7a99-cb2a-467c-9932-3f83c4592449",
   "metadata": {},
   "outputs": [],
   "source": [
    "try :\n",
    "     10/0\n",
    "#always aviod to write a multiple exception handling \n",
    "except FileNotFoundError as e :\n",
    "         logging.error(\"i am trying to handle a file not found error{}\".format(e)) \n",
    "except AttributeError as e :\n",
    "         logging.error(\"i am trying to handle a Attribute error{}\".format(e))         \n",
    "except ZeroDivisionError as e :\n",
    "         logging.error(\"i am trying to handle a zerodivision error{}\".format(e)) "
   ]
  },
  {
   "cell_type": "code",
   "execution_count": 27,
   "id": "65c764cc-f00c-40e6-8801-7930dbb0c6b0",
   "metadata": {},
   "outputs": [],
   "source": [
    "try:\n",
    "# clean up all the resources (this clean code and to cresp the code helps in future )\n",
    "    with open(\"texst.txt\" , 'w') as f:\n",
    "        f.write (\"this is my data to file\")\n",
    "except FileNotFoundError as e :\n",
    "         logging.error(\"i am trying to handle a file not found error{}\".format(e)) \n",
    "finally:\n",
    "    f.close"
   ]
  },
  {
   "cell_type": "code",
   "execution_count": 28,
   "id": "6bda9c34-0852-42ec-b2c1-e425d357c014",
   "metadata": {},
   "outputs": [],
   "source": [
    "#Multithreading"
   ]
  },
  {
   "cell_type": "code",
   "execution_count": 1,
   "id": "2ce28c21-69c6-4901-8235-cb6db6534390",
   "metadata": {},
   "outputs": [],
   "source": [
    "import threading"
   ]
  },
  {
   "cell_type": "code",
   "execution_count": 4,
   "id": "0c6bcd13-53a1-4652-9e83-c4ad23e82850",
   "metadata": {},
   "outputs": [],
   "source": [
    "def test(id):\n",
    "    print(\"prog start %d\"% id)"
   ]
  },
  {
   "cell_type": "code",
   "execution_count": 5,
   "id": "3b579c6a-3ac3-40aa-abb4-5ef41fede265",
   "metadata": {},
   "outputs": [
    {
     "name": "stdout",
     "output_type": "stream",
     "text": [
      "prog start 36\n"
     ]
    }
   ],
   "source": [
    "test(36)"
   ]
  },
  {
   "cell_type": "code",
   "execution_count": 15,
   "id": "73ec1ca7-3844-41e7-a51a-ea6c0779c5c9",
   "metadata": {},
   "outputs": [],
   "source": [
    "thread =[threading.Thread(target=test , args=(i,)  ) for i in range (10)]"
   ]
  },
  {
   "cell_type": "code",
   "execution_count": 16,
   "id": "cfd44a27-a272-4f91-922c-2924c5821211",
   "metadata": {},
   "outputs": [
    {
     "name": "stdout",
     "output_type": "stream",
     "text": [
      "prog start 0\n",
      "prog start 1\n",
      "prog start 2\n",
      "prog start 3\n",
      "prog start 4\n",
      "prog start 5\n",
      "prog start 6\n",
      "prog start 7\n",
      "prog start 8\n",
      "prog start 9\n"
     ]
    }
   ],
   "source": [
    "for t in thread :\n",
    "    t.start()"
   ]
  },
  {
   "cell_type": "code",
   "execution_count": 2,
   "id": "eb974ba4-4770-49ef-91b8-068414c61206",
   "metadata": {},
   "outputs": [],
   "source": [
    "import threading\n",
    "import urllib.request\n",
    "\n",
    "def file_doenload(url, filename):\n",
    "    urllib.request.urlretrieve(url, filename)"
   ]
  },
  {
   "cell_type": "code",
   "execution_count": 3,
   "id": "23aa5563-95c2-4a16-a41a-eab8425dabb7",
   "metadata": {},
   "outputs": [],
   "source": [
    "file_doenload('https://gray-salesmen-oshtb.pwskills.app/lab/tree/work/Untitled.ipynb' , \"texst.txt\")"
   ]
  },
  {
   "cell_type": "code",
   "execution_count": 4,
   "id": "ecc70856-4a9f-4fb4-a65d-5e68b5de9e1f",
   "metadata": {},
   "outputs": [],
   "source": [
    "url_list  = ['https://raw.githubusercontent.com/itsfoss/text-files/master/agatha.txt','https://raw.githubusercontent.com/itsfoss/text-files/master/sherlock.txt','https://raw.githubusercontent.com/itsfoss/text-files/master/sample_log_file.txt']"
   ]
  },
  {
   "cell_type": "code",
   "execution_count": 5,
   "id": "d833907b-9e7c-48f0-a5fc-51c1789f7647",
   "metadata": {},
   "outputs": [
    {
     "data": {
      "text/plain": [
       "['https://raw.githubusercontent.com/itsfoss/text-files/master/agatha.txt',\n",
       " 'https://raw.githubusercontent.com/itsfoss/text-files/master/sherlock.txt',\n",
       " 'https://raw.githubusercontent.com/itsfoss/text-files/master/sample_log_file.txt']"
      ]
     },
     "execution_count": 5,
     "metadata": {},
     "output_type": "execute_result"
    }
   ],
   "source": [
    "url_list"
   ]
  },
  {
   "cell_type": "code",
   "execution_count": 6,
   "id": "f0046f83-25d9-44b1-b75d-5edde82907ea",
   "metadata": {},
   "outputs": [],
   "source": [
    "file_name_list =['data1.txt', 'data2.txt' , 'data3.txt']"
   ]
  },
  {
   "cell_type": "code",
   "execution_count": 13,
   "id": "c1a27152-9edc-4272-9eea-1731a1bf5228",
   "metadata": {},
   "outputs": [],
   "source": [
    "ther = [threading.Thread(target=file_doenload , args = (url_list[i], file_name_list[i])) for i in range (len(url_list))]"
   ]
  },
  {
   "cell_type": "code",
   "execution_count": 14,
   "id": "6642b1e2-fe6d-4e85-a5c5-dc0c24bb2099",
   "metadata": {},
   "outputs": [
    {
     "data": {
      "text/plain": [
       "[<Thread(Thread-5 (file_doenload), initial)>,\n",
       " <Thread(Thread-6 (file_doenload), initial)>,\n",
       " <Thread(Thread-7 (file_doenload), initial)>]"
      ]
     },
     "execution_count": 14,
     "metadata": {},
     "output_type": "execute_result"
    }
   ],
   "source": [
    "ther"
   ]
  },
  {
   "cell_type": "code",
   "execution_count": 15,
   "id": "20f0bbc9-625e-495e-b4d4-6cd7525b3735",
   "metadata": {},
   "outputs": [],
   "source": [
    "for t in ther:\n",
    "    t.start()"
   ]
  },
  {
   "cell_type": "code",
   "execution_count": 38,
   "id": "cf9f4c83-cb39-4e0d-b28d-18499fc5acad",
   "metadata": {},
   "outputs": [],
   "source": [
    "import time"
   ]
  },
  {
   "cell_type": "code",
   "execution_count": 39,
   "id": "c41ae2e4-ecdf-409d-ac8c-0c4747187d4b",
   "metadata": {},
   "outputs": [],
   "source": [
    "def test1(id):\n",
    "    for i in range(10) :\n",
    "        print(\"test1 %d printing %d %s\" %(id,i,time.ctime()))\n",
    "        time.sleep(1)"
   ]
  },
  {
   "cell_type": "code",
   "execution_count": 40,
   "id": "c1d5e0a9-ee35-408e-b0e2-9fc3fcc546aa",
   "metadata": {},
   "outputs": [
    {
     "name": "stdout",
     "output_type": "stream",
     "text": [
      "test1 2 printing 0 Sat Jan  6 07:42:54 2024\n",
      "test1 2 printing 1 Sat Jan  6 07:42:55 2024\n",
      "test1 2 printing 2 Sat Jan  6 07:42:56 2024\n",
      "test1 2 printing 3 Sat Jan  6 07:42:57 2024\n",
      "test1 2 printing 4 Sat Jan  6 07:42:58 2024\n",
      "test1 2 printing 5 Sat Jan  6 07:42:59 2024\n",
      "test1 2 printing 6 Sat Jan  6 07:43:00 2024\n",
      "test1 2 printing 7 Sat Jan  6 07:43:01 2024\n",
      "test1 2 printing 8 Sat Jan  6 07:43:02 2024\n",
      "test1 2 printing 9 Sat Jan  6 07:43:03 2024\n"
     ]
    }
   ],
   "source": [
    "test1(2)"
   ]
  },
  {
   "cell_type": "code",
   "execution_count": 53,
   "id": "dfe5bc90-550b-4f4c-9f4c-c0c1fc68771f",
   "metadata": {},
   "outputs": [],
   "source": [
    "thread1 =[threading.Thread(target=test1 , args = (i,)) for i in range(3)]"
   ]
  },
  {
   "cell_type": "code",
   "execution_count": 54,
   "id": "492faecc-a529-492c-b38f-6347bdebd323",
   "metadata": {},
   "outputs": [
    {
     "name": "stdout",
     "output_type": "stream",
     "text": [
      "test1 0 printing 0 Sat Jan  6 07:53:39 2024\n",
      "test1 1 printing 0 Sat Jan  6 07:53:39 2024\n",
      "test1 2 printing 0 Sat Jan  6 07:53:39 2024\n"
     ]
    }
   ],
   "source": [
    "#function me jab id as 0 to dusri id print hone lag gati hai kyuki os ko time mile jata hai sone ka to it will give chance to different ids\n",
    "for t in thread1:\n",
    "    t.start()"
   ]
  },
  {
   "cell_type": "code",
   "execution_count": 55,
   "id": "14454bd2-1a9d-40c8-829e-e2fbd658b48c",
   "metadata": {},
   "outputs": [
    {
     "name": "stdout",
     "output_type": "stream",
     "text": [
      "this make work more efficient in processing and CPU utilization\n"
     ]
    }
   ],
   "source": [
    "print(\"this make work more efficient in processing and CPU utilization\")"
   ]
  },
  {
   "cell_type": "code",
   "execution_count": 56,
   "id": "355c851d-1c99-44a9-97f9-59e6cbb47f61",
   "metadata": {},
   "outputs": [
    {
     "name": "stdout",
     "output_type": "stream",
     "text": [
      "test1 1 printing 1 Sat Jan  6 07:53:40 2024test1 0 printing 1 Sat Jan  6 07:53:40 2024\n",
      "test1 2 printing 1 Sat Jan  6 07:53:40 2024\n",
      "\n",
      "test1 0 printing 2 Sat Jan  6 07:53:41 2024\n",
      "test1 2 printing 2 Sat Jan  6 07:53:41 2024\n",
      "test1 1 printing 2 Sat Jan  6 07:53:41 2024\n"
     ]
    }
   ],
   "source": [
    "def test2(id):\n",
    "    global shared_var\n",
    "    with lock_var:\n",
    "        shared_var = shared_var + 1\n",
    "        print(\"test2 id is %d has increased the shared varialbe by %d\" %(id, shared_var))"
   ]
  },
  {
   "cell_type": "code",
   "execution_count": 57,
   "id": "3b50da24-1686-4838-b91f-b77652a9a6c4",
   "metadata": {},
   "outputs": [],
   "source": [
    "ther2 = [threading.Thread(target = test2 , args=(id,)) for i in range(2)]"
   ]
  },
  {
   "cell_type": "code",
   "execution_count": 58,
   "id": "8208301b-679e-4ed5-a2da-22505b7809f4",
   "metadata": {},
   "outputs": [
    {
     "data": {
      "text/plain": [
       "[<Thread(Thread-24 (test2), initial)>, <Thread(Thread-25 (test2), initial)>]"
      ]
     },
     "execution_count": 58,
     "metadata": {},
     "output_type": "execute_result"
    },
    {
     "name": "stdout",
     "output_type": "stream",
     "text": [
      "test1 0 printing 3 Sat Jan  6 07:53:42 2024\n",
      "test1 2 printing 3 Sat Jan  6 07:53:42 2024\n",
      "test1 1 printing 3 Sat Jan  6 07:53:42 2024\n"
     ]
    }
   ],
   "source": [
    "ther2"
   ]
  },
  {
   "cell_type": "code",
   "execution_count": 59,
   "id": "e93d668f-1051-4ea0-969d-7648fc38f4b0",
   "metadata": {},
   "outputs": [
    {
     "ename": "RuntimeError",
     "evalue": "threads can only be started once",
     "output_type": "error",
     "traceback": [
      "\u001b[0;31m---------------------------------------------------------------------------\u001b[0m",
      "\u001b[0;31mRuntimeError\u001b[0m                              Traceback (most recent call last)",
      "Cell \u001b[0;32mIn[59], line 2\u001b[0m\n\u001b[1;32m      1\u001b[0m \u001b[38;5;28;01mfor\u001b[39;00m t \u001b[38;5;129;01min\u001b[39;00m thread1:\n\u001b[0;32m----> 2\u001b[0m     \u001b[43mt\u001b[49m\u001b[38;5;241;43m.\u001b[39;49m\u001b[43mstart\u001b[49m\u001b[43m(\u001b[49m\u001b[43m)\u001b[49m\n",
      "File \u001b[0;32m/opt/conda/lib/python3.10/threading.py:930\u001b[0m, in \u001b[0;36mThread.start\u001b[0;34m(self)\u001b[0m\n\u001b[1;32m    927\u001b[0m     \u001b[38;5;28;01mraise\u001b[39;00m \u001b[38;5;167;01mRuntimeError\u001b[39;00m(\u001b[38;5;124m\"\u001b[39m\u001b[38;5;124mthread.__init__() not called\u001b[39m\u001b[38;5;124m\"\u001b[39m)\n\u001b[1;32m    929\u001b[0m \u001b[38;5;28;01mif\u001b[39;00m \u001b[38;5;28mself\u001b[39m\u001b[38;5;241m.\u001b[39m_started\u001b[38;5;241m.\u001b[39mis_set():\n\u001b[0;32m--> 930\u001b[0m     \u001b[38;5;28;01mraise\u001b[39;00m \u001b[38;5;167;01mRuntimeError\u001b[39;00m(\u001b[38;5;124m\"\u001b[39m\u001b[38;5;124mthreads can only be started once\u001b[39m\u001b[38;5;124m\"\u001b[39m)\n\u001b[1;32m    932\u001b[0m \u001b[38;5;28;01mwith\u001b[39;00m _active_limbo_lock:\n\u001b[1;32m    933\u001b[0m     _limbo[\u001b[38;5;28mself\u001b[39m] \u001b[38;5;241m=\u001b[39m \u001b[38;5;28mself\u001b[39m\n",
      "\u001b[0;31mRuntimeError\u001b[0m: threads can only be started once"
     ]
    },
    {
     "name": "stdout",
     "output_type": "stream",
     "text": [
      "test1 0 printing 4 Sat Jan  6 07:53:43 2024\n",
      "test1 2 printing 4 Sat Jan  6 07:53:43 2024\n",
      "test1 1 printing 4 Sat Jan  6 07:53:43 2024\n",
      "test1 0 printing 5 Sat Jan  6 07:53:44 2024\n",
      "test1 2 printing 5 Sat Jan  6 07:53:44 2024\n",
      "test1 1 printing 5 Sat Jan  6 07:53:44 2024\n",
      "test1 0 printing 6 Sat Jan  6 07:53:45 2024\n",
      "test1 1 printing 6 Sat Jan  6 07:53:45 2024\n",
      "test1 2 printing 6 Sat Jan  6 07:53:45 2024\n",
      "test1 1 printing 7 Sat Jan  6 07:53:46 2024test1 0 printing 7 Sat Jan  6 07:53:46 2024\n",
      "\n",
      "test1 2 printing 7 Sat Jan  6 07:53:46 2024\n",
      "test1 0 printing 8 Sat Jan  6 07:53:47 2024\n",
      "test1 1 printing 8 Sat Jan  6 07:53:47 2024\n",
      "test1 2 printing 8 Sat Jan  6 07:53:47 2024\n",
      "test1 0 printing 9 Sat Jan  6 07:53:48 2024\n",
      "test1 1 printing 9 Sat Jan  6 07:53:48 2024\n",
      "test1 2 printing 9 Sat Jan  6 07:53:48 2024\n"
     ]
    }
   ],
   "source": [
    "for t in thread1:\n",
    "    t.start()"
   ]
  },
  {
   "cell_type": "code",
   "execution_count": 60,
   "id": "445eeed6-58b1-4878-9767-6b7ee3548085",
   "metadata": {},
   "outputs": [],
   "source": [
    "shared_var = 0\n",
    "lock_var = threading.Lock()"
   ]
  },
  {
   "cell_type": "code",
   "execution_count": 65,
   "id": "c205bb02-1f85-450b-a6d4-03e4c3622104",
   "metadata": {},
   "outputs": [
    {
     "name": "stdout",
     "output_type": "stream",
     "text": [
      "test2 is 0 has increased the shared variable by 1 \n",
      "test2 is 1 has increased the shared variable by 2 \n",
      "test2 is 2 has increased the shared variable by 3 \n"
     ]
    }
   ],
   "source": [
    "shared_var = 0\n",
    "lock_var = threading.Lock()\n",
    "def test2(id) :\n",
    "    global shared_var\n",
    "    with lock_var:\n",
    "        shared_var = shared_var+1\n",
    "        print(\"test2 is %d has increased the shared variable by %d \" % (id ,shared_var) )\n",
    "        time.sleep(1)\n",
    "ther2 = [threading.Thread(target=test2 , args = (i,) ) for i in range(3)]\n",
    "for t in ther2:\n",
    "    t.start()"
   ]
  },
  {
   "cell_type": "code",
   "execution_count": 68,
   "id": "3364818b-dc8b-48c4-bc6b-f9e216f00a25",
   "metadata": {},
   "outputs": [
    {
     "name": "stdout",
     "output_type": "stream",
     "text": [
      "test2 is 0 has increased the shared variable by 1 \n",
      "test2 is 1 has increased the shared variable by 2 \n",
      "test2 is 2 has increased the shared variable by 3 \n"
     ]
    }
   ],
   "source": [
    "shared_var = 0\n",
    "#lock_var = threading.Lock()\n",
    "def test2(id) :\n",
    "    global shared_var\n",
    "    #with lock_var:\n",
    "    shared_var = shared_var+1\n",
    "    print(\"test2 is %d has increased the shared variable by %d \" % (id ,shared_var) )\n",
    "    time.sleep(1)\n",
    "\n",
    "ther4 = [threading.Thread(target=test2 , args = (i,) ) for i in range(3)]\n",
    "for t in ther4:\n",
    "    t.start()"
   ]
  },
  {
   "cell_type": "code",
   "execution_count": 69,
   "id": "0d6a211d-14f2-4a4e-9aef-12eef6398fbc",
   "metadata": {},
   "outputs": [
    {
     "data": {
      "text/plain": [
       "3"
      ]
     },
     "execution_count": 69,
     "metadata": {},
     "output_type": "execute_result"
    }
   ],
   "source": [
    "shared_var"
   ]
  },
  {
   "cell_type": "code",
   "execution_count": 70,
   "id": "5ab39d73-703e-4e40-80f1-b084369930ea",
   "metadata": {},
   "outputs": [],
   "source": [
    "#Multiprocessing"
   ]
  },
  {
   "cell_type": "code",
   "execution_count": 2,
   "id": "8341beef-136e-413d-b3f7-08eab6d6f9d9",
   "metadata": {},
   "outputs": [
    {
     "name": "stdout",
     "output_type": "stream",
     "text": [
      "this is my main program\n",
      "this is my multiprocessing program\n"
     ]
    }
   ],
   "source": [
    "import multiprocessing \n",
    "def test():\n",
    "    print (\"this is my multiprocessing program\")\n",
    "    \n",
    "if __name__=='__main__':\n",
    "    m =multiprocessing.Process(target=test)\n",
    "    print (\"this is my main program\")\n",
    "    m.start()\n",
    "    m.join()"
   ]
  },
  {
   "cell_type": "code",
   "execution_count": 4,
   "id": "ac0b8fd2-170f-435e-838e-59e3258b1bac",
   "metadata": {},
   "outputs": [
    {
     "name": "stdout",
     "output_type": "stream",
     "text": [
      "this is my multiprocessing program\n"
     ]
    }
   ],
   "source": [
    "test()"
   ]
  },
  {
   "cell_type": "code",
   "execution_count": 5,
   "id": "77761493-3684-4760-9bf1-f676c90821ad",
   "metadata": {},
   "outputs": [
    {
     "name": "stdout",
     "output_type": "stream",
     "text": [
      "[1, 8, 27, 64, 125, 216, 343, 512, 729]\n"
     ]
    }
   ],
   "source": [
    "def cube(n):\n",
    "    return n**3\n",
    "\n",
    "if __name__ == '__main__' :\n",
    "    with multiprocessing.Pool(processes=4) as pool:\n",
    "        out= pool.map(cube , [1,2,3,4,5,6,7,8,9])\n",
    "        print(out)"
   ]
  },
  {
   "cell_type": "code",
   "execution_count": 1,
   "id": "c8a97bcc-e676-4526-a06f-9e31ca8676f6",
   "metadata": {},
   "outputs": [
    {
     "name": "stdin",
     "output_type": "stream",
     "text": [
      "enter a number 23\n"
     ]
    },
    {
     "name": "stdout",
     "output_type": "stream",
     "text": [
      "12167\n"
     ]
    }
   ],
   "source": [
    "b= int(input(\"enter a number\"))\n",
    "a= b**3\n",
    "print(a)\n",
    "#i have made it by my own"
   ]
  },
  {
   "cell_type": "code",
   "execution_count": 2,
   "id": "b19f4947-32be-4596-b800-a10d6a4c9e68",
   "metadata": {},
   "outputs": [
    {
     "name": "stdout",
     "output_type": "stream",
     "text": [
      "271\n"
     ]
    }
   ],
   "source": [
    "a=12+34+56+78+91\n",
    "print(a)"
   ]
  },
  {
   "cell_type": "code",
   "execution_count": null,
   "id": "a28eac9e-9279-425e-8343-cbd8ff4a8a0c",
   "metadata": {},
   "outputs": [
    {
     "name": "stdout",
     "output_type": "stream",
     "text": [
      "0\n",
      "1\n",
      "2\n",
      "3\n",
      "4\n",
      "5\n",
      "6\n",
      "7\n",
      "8\n",
      "9\n",
      "yashika\n"
     ]
    }
   ],
   "source": [
    "import multiprocessing \n",
    "def producer(q):\n",
    "    for i in range(10):\n",
    "        q.put(i)\n",
    "        \n",
    "def consume(q):\n",
    "    while True :\n",
    "        item = q.get()\n",
    "        if item is None:\n",
    "            break\n",
    "        print(item)    \n",
    "if __name__ =='__main__':\n",
    "        queue = multiprocessing.Queue()\n",
    "        m1 = multiprocessing.Process(target=producer , args= (queue,))\n",
    "        m2 = multiprocessing.Process(target=consume , args=(queue,))\n",
    "        m1.start()\n",
    "        m2.start()\n",
    "        queue.put(\"yashika\")\n",
    "        m1.join()\n",
    "        m2.join()"
   ]
  },
  {
   "cell_type": "code",
   "execution_count": 1,
   "id": "6292ab49-de66-4a90-ace9-ed713aa18cab",
   "metadata": {},
   "outputs": [
    {
     "name": "stdout",
     "output_type": "stream",
     "text": [
      "[4, 9, 16, 25, 36, 49, 64]\n"
     ]
    }
   ],
   "source": [
    "import multiprocessing \n",
    "def square(index , value):\n",
    "    value[index]= value[index]**2\n",
    "    \n",
    "if __name__ =='__main__':\n",
    "    arr= multiprocessing.Array('i', [2,3,4,5,6,7,8])\n",
    "    process =[]\n",
    "    for i in range(7):\n",
    "        m = multiprocessing.Process(target=square , args=(i,arr))\n",
    "        process.append(m)\n",
    "        m.start()\n",
    "    for m in process:\n",
    "        m.join()\n",
    "    print(list(arr))    \n",
    "    "
   ]
  },
  {
   "cell_type": "code",
   "execution_count": null,
   "id": "7d4c4ed1-0cb8-4934-a996-9de5bc88cb94",
   "metadata": {},
   "outputs": [
    {
     "name": "stdout",
     "output_type": "stream",
     "text": [
      "my name is yashika\n",
      "this is my mssg\n",
      "iam taking class for multiprocessing\n"
     ]
    }
   ],
   "source": [
    "import multiprocessing\n",
    "def sender(conn , msg):\n",
    "    for i in msg:\n",
    "        conn.send(i)\n",
    "    conn.close()\n",
    "\n",
    "def receive(conn) :\n",
    "    while True:\n",
    "        try :\n",
    "            msg = conn.recv()\n",
    "        except Exception as e:\n",
    "            print(e)\n",
    "            break\n",
    "        print(msg)\n",
    "        \n",
    "if __name__ == '__main__':\n",
    "    msg = [\"my name is yashika\" , \"this is my mssg\", \"iam taking class for multiprocessing\"]\n",
    "    parent_con , child_con = multiprocessing.Pipe()\n",
    "    m1 = multiprocessing.Process(target=sender , args= (child_con,msg))\n",
    "    m2 = multiprocessing.Process(target=receive , args= (parent_con,))    \n",
    "    m1.start()\n",
    "    m2.start()\n",
    "    m1.join()\n",
    "    child_con.close()\n",
    "    m2.join()\n",
    "    par"
   ]
  },
  {
   "cell_type": "code",
   "execution_count": null,
   "id": "6bc1250b-b119-449f-860f-0f85150099fe",
   "metadata": {},
   "outputs": [],
   "source": []
  }
 ],
 "metadata": {
  "kernelspec": {
   "display_name": "Python 3 (ipykernel)",
   "language": "python",
   "name": "python3"
  },
  "language_info": {
   "codemirror_mode": {
    "name": "ipython",
    "version": 3
   },
   "file_extension": ".py",
   "mimetype": "text/x-python",
   "name": "python",
   "nbconvert_exporter": "python",
   "pygments_lexer": "ipython3",
   "version": "3.10.8"
  }
 },
 "nbformat": 4,
 "nbformat_minor": 5
}
