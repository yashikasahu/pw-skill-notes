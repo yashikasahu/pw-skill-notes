{
 "cells": [
  {
   "cell_type": "markdown",
   "id": "9b65500b-ee99-4904-b779-27adf05bf958",
   "metadata": {},
   "source": [
    "IF AND ELSE CONDITION"
   ]
  },
  {
   "cell_type": "code",
   "execution_count": 5,
   "id": "a081d2c8-7fb3-4641-8c53-3d9431d86661",
   "metadata": {},
   "outputs": [
    {
     "name": "stdout",
     "output_type": "stream",
     "text": [
      "a is grater than b\n"
     ]
    }
   ],
   "source": [
    "a = 25\n",
    "b = 10\n",
    "if a > b:\n",
    "    print(\"a is grater than b\")\n",
    "else:\n",
    "    print(\"b is greater than a\")   "
   ]
  },
  {
   "cell_type": "markdown",
   "id": "e32deff4-9c72-45d5-b656-9266c34b4c14",
   "metadata": {},
   "source": [
    "IF AND ELSE CONDITION WITH USER INPUT"
   ]
  },
  {
   "cell_type": "code",
   "execution_count": 3,
   "id": "d51f8c9a-eddc-4435-97ac-7c3e42c818c8",
   "metadata": {},
   "outputs": [
    {
     "name": "stdin",
     "output_type": "stream",
     "text": [
      "enter number 54\n",
      "enter number 20\n"
     ]
    },
    {
     "name": "stdout",
     "output_type": "stream",
     "text": [
      "c is grater than d\n"
     ]
    }
   ],
   "source": [
    "c= int(input(\"enter number\"))\n",
    "d= int(input(\"enter number\"))\n",
    "if c>d:\n",
    "    print(\"c is grater than d\")\n",
    "else:\n",
    "    print(\"d is grater than c\")"
   ]
  },
  {
   "cell_type": "markdown",
   "id": "d893fde8-876e-4a10-b784-f0ed64ceaaf5",
   "metadata": {},
   "source": [
    "WHILE AND IF CONDITION "
   ]
  },
  {
   "cell_type": "code",
   "execution_count": 1,
   "id": "2c00e01b-63c0-4e2c-abb2-f5a8ef530d8b",
   "metadata": {},
   "outputs": [
    {
     "name": "stdout",
     "output_type": "stream",
     "text": [
      " e is purely divisible by f 4.0 in this times\n"
     ]
    }
   ],
   "source": [
    "e = 100\n",
    "f = 25\n",
    "divident = e/f\n",
    "while e%f == 0:\n",
    "    e//=f\n",
    "if divident > 0:\n",
    "    print(\" e is purely divisible by f\",(divident),\"in this times\")"
   ]
  },
  {
   "cell_type": "code",
   "execution_count": 2,
   "id": "187c8a3e-6f20-47cb-8a98-4a8d167bdde0",
   "metadata": {},
   "outputs": [
    {
     "name": "stdin",
     "output_type": "stream",
     "text": [
      "enter number 98\n",
      "enter number 12\n"
     ]
    },
    {
     "name": "stdout",
     "output_type": "stream",
     "text": [
      "e1 is purely divisible by f1 8.166666666666666 in this times\n"
     ]
    }
   ],
   "source": [
    "e1 = int(input(\"enter number\"))\n",
    "f1 = int(input(\"enter number\"))\n",
    "divident = e1/f1\n",
    "while e1%f1 == 0:\n",
    "    e1//=f1\n",
    "if divident > 0:\n",
    "    print(\"e1 is purely divisible by f1\",(divident),\"in this times\")"
   ]
  },
  {
   "cell_type": "markdown",
   "id": "0937d79f-ffee-41f3-bd09-a238ed787bde",
   "metadata": {},
   "source": [
    "Capitalize, center, count, find, join, lower, replace, split, title, upper are functions "
   ]
  },
  {
   "cell_type": "code",
   "execution_count": 3,
   "id": "c4e4f7dc-b3bc-4be3-8f94-2b484426508f",
   "metadata": {},
   "outputs": [
    {
     "name": "stdin",
     "output_type": "stream",
     "text": [
      "enter you name yashika\n"
     ]
    },
    {
     "data": {
      "text/plain": [
       "{'A', 'H', 'I', 'K', 'S', 'Y'}"
      ]
     },
     "execution_count": 3,
     "metadata": {},
     "output_type": "execute_result"
    }
   ],
   "source": [
    "g = str(input('enter you name'))\n",
    "set(map(lambda g: g.upper() , g))\n",
    "# isme kya hua ki all letter get arranged automatically in alphabetical order."
   ]
  },
  {
   "cell_type": "markdown",
   "id": "96d5d325-0ecf-4e43-8b7b-4b075f878520",
   "metadata": {},
   "source": [
    "Normal Calculation "
   ]
  },
  {
   "cell_type": "code",
   "execution_count": 4,
   "id": "44f33f98-6f76-43fa-a493-cb6f2556ac2f",
   "metadata": {},
   "outputs": [
    {
     "name": "stdin",
     "output_type": "stream",
     "text": [
      "enter number 10\n",
      "enter number 2\n"
     ]
    },
    {
     "name": "stdout",
     "output_type": "stream",
     "text": [
      "12\n",
      "8\n",
      "20\n",
      "5\n"
     ]
    }
   ],
   "source": [
    "h= int(input(\"enter number\"))\n",
    "i= int(input(\"enter number\"))\n",
    "print (h+i)\n",
    "print (h-i)\n",
    "print (h*i)\n",
    "print (h//i)"
   ]
  },
  {
   "cell_type": "markdown",
   "id": "8b02460e-624b-42a7-a5d8-999607dd0c0c",
   "metadata": {},
   "source": [
    "Dictionary"
   ]
  },
  {
   "cell_type": "code",
   "execution_count": 6,
   "id": "a060c265-0e34-46f9-899f-1cfd2d07598f",
   "metadata": {},
   "outputs": [],
   "source": [
    "j = {\"number\" : [2,34,3,34,34],\"assignment\":(1,2,3,4,5,6) , \"launch_date\":{28,12,14} ,\"class_time\":{\"web_dev\": 8 , \"Data science masters\" : 8 , \"java with dsa and system design\":7}}"
   ]
  },
  {
   "cell_type": "code",
   "execution_count": 7,
   "id": "6e937d06-1a8a-4c43-96cc-b58e70104b82",
   "metadata": {},
   "outputs": [
    {
     "data": {
      "text/plain": [
       "{'number': [2, 34, 3, 34, 34],\n",
       " 'assignment': (1, 2, 3, 4, 5, 6),\n",
       " 'launch_date': {12, 14, 28},\n",
       " 'class_time': {'web_dev': 8,\n",
       "  'Data science masters': 8,\n",
       "  'java with dsa and system design': 7}}"
      ]
     },
     "execution_count": 7,
     "metadata": {},
     "output_type": "execute_result"
    }
   ],
   "source": [
    "j"
   ]
  },
  {
   "cell_type": "code",
   "execution_count": 8,
   "id": "0a517f21-e7f9-4d91-866d-7d016e7f459b",
   "metadata": {},
   "outputs": [
    {
     "data": {
      "text/plain": [
       "8"
      ]
     },
     "execution_count": 8,
     "metadata": {},
     "output_type": "execute_result"
    }
   ],
   "source": [
    "j['class_time']['Data science masters']"
   ]
  },
  {
   "cell_type": "code",
   "execution_count": 9,
   "id": "91b2efda-c534-4a15-9bed-631346665dcf",
   "metadata": {},
   "outputs": [],
   "source": [
    "j['languages'] = ['C','C++','python','SQL','tablue','power BI']"
   ]
  },
  {
   "cell_type": "code",
   "execution_count": 10,
   "id": "5fdca293-95e2-4480-ae3e-43f8249cce4c",
   "metadata": {},
   "outputs": [
    {
     "data": {
      "text/plain": [
       "{'number': [2, 34, 3, 34, 34],\n",
       " 'assignment': (1, 2, 3, 4, 5, 6),\n",
       " 'launch_date': {12, 14, 28},\n",
       " 'class_time': {'web_dev': 8,\n",
       "  'Data science masters': 8,\n",
       "  'java with dsa and system design': 7},\n",
       " 'languages': ['C', 'C++', 'python', 'SQL', 'tablue', 'power BI']}"
      ]
     },
     "execution_count": 10,
     "metadata": {},
     "output_type": "execute_result"
    }
   ],
   "source": [
    "j"
   ]
  },
  {
   "cell_type": "markdown",
   "id": "1ea5910d-590d-4788-960f-0f19c70230a1",
   "metadata": {},
   "source": [
    "Functions"
   ]
  },
  {
   "cell_type": "code",
   "execution_count": 14,
   "id": "8e70d48f-a842-43ed-af87-fa321ad96a75",
   "metadata": {},
   "outputs": [],
   "source": [
    "def test():\n",
    "#def is used to make function in python\n",
    "    h , i = 1,2\n",
    "    # we declared interger for h and i \n",
    "    # now we will make an consideration\n",
    "    while True:\n",
    "        yield h\n",
    "        h ,i = i ,h+i"
   ]
  },
  {
   "cell_type": "code",
   "execution_count": 15,
   "id": "2a294352-70c0-4a8f-a46c-612a918de8ce",
   "metadata": {},
   "outputs": [],
   "source": [
    "# function is not itreable so that's why we will make into variable\n",
    "fib = test()"
   ]
  },
  {
   "cell_type": "code",
   "execution_count": 16,
   "id": "b4b85222-6220-4d73-8eec-c74c3bb9d9aa",
   "metadata": {},
   "outputs": [
    {
     "name": "stdout",
     "output_type": "stream",
     "text": [
      "1\n",
      "2\n",
      "3\n",
      "5\n",
      "8\n",
      "13\n",
      "21\n",
      "34\n",
      "55\n",
      "89\n"
     ]
    }
   ],
   "source": [
    "for i in range(10):\n",
    "    print(next(fib))"
   ]
  },
  {
   "cell_type": "markdown",
   "id": "1605d9c4-7766-4e4e-b824-5740fafd545d",
   "metadata": {},
   "source": [
    "General Function"
   ]
  },
  {
   "cell_type": "code",
   "execution_count": 17,
   "id": "d4f6c58e-5000-4415-a459-2a74816b9c1f",
   "metadata": {},
   "outputs": [],
   "source": [
    "def myfunction(n):\n",
    "    k,l,m = 0,1,2\n",
    "    for i in range (n):\n",
    "        yield k\n",
    "        k,l,m = m,l,k+l"
   ]
  },
  {
   "cell_type": "code",
   "execution_count": 18,
   "id": "9824e649-67df-4a96-98ca-b99ddb04e217",
   "metadata": {},
   "outputs": [
    {
     "name": "stdout",
     "output_type": "stream",
     "text": [
      "0\n",
      "2\n",
      "1\n",
      "3\n",
      "2\n",
      "4\n",
      "3\n",
      "5\n",
      "4\n",
      "6\n"
     ]
    }
   ],
   "source": [
    "for i in myfunction(10):\n",
    "    print(i)"
   ]
  },
  {
   "cell_type": "markdown",
   "id": "2554d999-bf4c-4ad3-a8bf-cb5ffc3e2765",
   "metadata": {},
   "source": [
    "Lambda Function"
   ]
  },
  {
   "cell_type": "code",
   "execution_count": 19,
   "id": "9dd75924-7601-4d12-b444-006a5fdb8199",
   "metadata": {},
   "outputs": [],
   "source": [
    "n = lambda o,p : o**p"
   ]
  },
  {
   "cell_type": "code",
   "execution_count": 20,
   "id": "edb2bae8-dccc-4cd9-86c0-7c52fa8fe302",
   "metadata": {},
   "outputs": [
    {
     "data": {
      "text/plain": [
       "9"
      ]
     },
     "execution_count": 20,
     "metadata": {},
     "output_type": "execute_result"
    }
   ],
   "source": [
    "n(3,2)"
   ]
  },
  {
   "cell_type": "code",
   "execution_count": 21,
   "id": "a7449efc-4f61-41ed-a2ef-c0f7dc498c29",
   "metadata": {},
   "outputs": [],
   "source": [
    "#lambda ek tarah ka chhota function hai \n",
    "c_to_f= lambda c: (9/5)*c+32"
   ]
  },
  {
   "cell_type": "code",
   "execution_count": 23,
   "id": "0645bbdb-cd6c-4b6c-966e-c8823bf93408",
   "metadata": {},
   "outputs": [
    {
     "data": {
      "text/plain": [
       "98.60000000000001"
      ]
     },
     "execution_count": 23,
     "metadata": {},
     "output_type": "execute_result"
    }
   ],
   "source": [
    "c_to_f(37)"
   ]
  },
  {
   "cell_type": "markdown",
   "id": "a39689e6-9620-4381-a290-e79139e55f17",
   "metadata": {},
   "source": [
    "Map, Reduced and Filter function"
   ]
  },
  {
   "cell_type": "code",
   "execution_count": 35,
   "id": "d4acde60-8a33-4086-887b-486ba8643fef",
   "metadata": {},
   "outputs": [],
   "source": [
    "q = [9,2,3,4,5,6,7,8]"
   ]
  },
  {
   "cell_type": "code",
   "execution_count": 36,
   "id": "8db3ca05-6e34-4db6-ba76-82997a9f4c84",
   "metadata": {},
   "outputs": [],
   "source": [
    "def mapfunction(q):\n",
    "    q1= []\n",
    "    for i in q:\n",
    "        q1.append(i**2)\n",
    "    return q1"
   ]
  },
  {
   "cell_type": "code",
   "execution_count": 37,
   "id": "987200c8-b308-41f5-8202-e963f67c7de9",
   "metadata": {},
   "outputs": [
    {
     "data": {
      "text/plain": [
       "[81, 4, 9, 16, 25, 36, 49, 64]"
      ]
     },
     "execution_count": 37,
     "metadata": {},
     "output_type": "execute_result"
    }
   ],
   "source": [
    "mapfunction(q)"
   ]
  },
  {
   "cell_type": "code",
   "execution_count": 38,
   "id": "2de5c660-d0ea-4940-8482-f9fa705f9a59",
   "metadata": {},
   "outputs": [],
   "source": [
    "def sq(x):\n",
    "    return x**2"
   ]
  },
  {
   "cell_type": "code",
   "execution_count": 39,
   "id": "be2f9ae8-0a35-4580-b348-4ee7bee56f7b",
   "metadata": {},
   "outputs": [
    {
     "data": {
      "text/plain": [
       "[81, 4, 9, 16, 25, 36, 49, 64]"
      ]
     },
     "execution_count": 39,
     "metadata": {},
     "output_type": "execute_result"
    }
   ],
   "source": [
    "list(map(sq,q))"
   ]
  },
  {
   "cell_type": "code",
   "execution_count": 42,
   "id": "0fedf146-e610-429e-ab36-70e5182d6420",
   "metadata": {},
   "outputs": [],
   "source": [
    "from functools import reduce"
   ]
  },
  {
   "cell_type": "code",
   "execution_count": 45,
   "id": "79aea013-bbf7-417f-b1f5-be9697c71e37",
   "metadata": {},
   "outputs": [
    {
     "data": {
      "text/plain": [
       "44"
      ]
     },
     "execution_count": 45,
     "metadata": {},
     "output_type": "execute_result"
    }
   ],
   "source": [
    "reduce(lambda x,y :x+y ,q)"
   ]
  },
  {
   "cell_type": "code",
   "execution_count": 51,
   "id": "2d6b39a2-7145-4512-a720-a361ffb71ee0",
   "metadata": {},
   "outputs": [],
   "source": [
    "r = [\"yashika \", \"yash\" ,\"aloo\" , \"gobhi\"]"
   ]
  },
  {
   "cell_type": "code",
   "execution_count": 53,
   "id": "141dc63a-5cbc-4092-9c32-683d5b7d4816",
   "metadata": {},
   "outputs": [
    {
     "data": {
      "text/plain": [
       "['yash', 'aloo']"
      ]
     },
     "execution_count": 53,
     "metadata": {},
     "output_type": "execute_result"
    }
   ],
   "source": [
    "list(filter(lambda x:len(x)<5 , r))"
   ]
  },
  {
   "cell_type": "markdown",
   "id": "ba140d97-03db-4a5a-8cf4-de550c562297",
   "metadata": {},
   "source": [
    "\"OOPS\" stands for Object_oriented Programming System"
   ]
  },
  {
   "cell_type": "code",
   "execution_count": 54,
   "id": "8c832eec-6d14-4695-8aae-62adfb3b6784",
   "metadata": {},
   "outputs": [],
   "source": [
    "class inuture :\n",
    "    def __init__(self, phone_number, email_id, student_id):\n",
    "        self.phone_number= phone_number\n",
    "        self.email_id = email_id\n",
    "        self.student_id = student_id\n",
    "        \n",
    "    def return_student_detail(self):\n",
    "        return self.phone_number, self.email_id, self.student_id"
   ]
  },
  {
   "cell_type": "code",
   "execution_count": 56,
   "id": "7aefac37-5d3f-4221-8f5d-689fe3def83c",
   "metadata": {},
   "outputs": [],
   "source": [
    "yashika = inuture(7000041423, \"yashika@gmail.com\", 101)"
   ]
  },
  {
   "cell_type": "code",
   "execution_count": 58,
   "id": "42e63b40-ea4a-4940-8f3f-e0670f1f04bc",
   "metadata": {},
   "outputs": [
    {
     "data": {
      "text/plain": [
       "(7000041423, 'yashika@gmail.com', 101)"
      ]
     },
     "execution_count": 58,
     "metadata": {},
     "output_type": "execute_result"
    }
   ],
   "source": [
    "yashika.return_student_detail()"
   ]
  },
  {
   "cell_type": "markdown",
   "id": "75657452-92d8-4b19-8a35-8a4a39bb018f",
   "metadata": {},
   "source": [
    "Polymorphism"
   ]
  },
  {
   "cell_type": "code",
   "execution_count": 59,
   "id": "05852e62-b85f-4be8-85ec-799dd4d128c1",
   "metadata": {},
   "outputs": [],
   "source": [
    "class data_science:\n",
    "    def syllabus(self):\n",
    "        print(\"data science syllabus\")"
   ]
  },
  {
   "cell_type": "code",
   "execution_count": 60,
   "id": "41183c54-671b-41ef-8fc6-75537a1ca61c",
   "metadata": {},
   "outputs": [],
   "source": [
    "class web_development:\n",
    "    def syllabus(self):\n",
    "        print(\"web development syllabus\")"
   ]
  },
  {
   "cell_type": "code",
   "execution_count": 61,
   "id": "3418694f-8ea2-4bb8-8674-8eebc0bfbec4",
   "metadata": {},
   "outputs": [],
   "source": [
    "def class_pass(class_object):\n",
    "    for i in class_object:\n",
    "        i.syllabus()"
   ]
  },
  {
   "cell_type": "code",
   "execution_count": 62,
   "id": "6b641941-c7bc-4856-b09c-dcf905a10875",
   "metadata": {},
   "outputs": [],
   "source": [
    "data_science = data_science()"
   ]
  },
  {
   "cell_type": "code",
   "execution_count": 63,
   "id": "fc260c68-a4c7-423d-845c-e83c932bc419",
   "metadata": {},
   "outputs": [],
   "source": [
    "web_development = web_development()"
   ]
  },
  {
   "cell_type": "code",
   "execution_count": 64,
   "id": "6b79be62-d5d1-4e82-a857-961e717959c7",
   "metadata": {},
   "outputs": [],
   "source": [
    "class_object =[data_science , web_development]"
   ]
  },
  {
   "cell_type": "code",
   "execution_count": 65,
   "id": "ce97e467-343d-427d-9fef-4a944f3a452c",
   "metadata": {},
   "outputs": [
    {
     "name": "stdout",
     "output_type": "stream",
     "text": [
      "data science syllabus\n",
      "web development syllabus\n"
     ]
    }
   ],
   "source": [
    "class_pass(class_object)"
   ]
  },
  {
   "cell_type": "markdown",
   "id": "0311e467-63be-4436-bb3f-c6f5d09a2b82",
   "metadata": {},
   "source": [
    "Encapsulaton"
   ]
  },
  {
   "cell_type": "code",
   "execution_count": 69,
   "id": "4487c337-fca2-4752-a1ab-61f137a62425",
   "metadata": {},
   "outputs": [],
   "source": [
    "class encapsulaton:\n",
    "    def __init__(self, a,b):\n",
    "        self.a= a\n",
    "        self.b =b"
   ]
  },
  {
   "cell_type": "code",
   "execution_count": 70,
   "id": "d1ee67ee-b45b-4328-a8bc-7d73a8d73185",
   "metadata": {},
   "outputs": [],
   "source": [
    "s.a =54"
   ]
  },
  {
   "cell_type": "code",
   "execution_count": 71,
   "id": "20e7e8db-9dfc-4504-be14-2550b3853f4b",
   "metadata": {},
   "outputs": [
    {
     "data": {
      "text/plain": [
       "54"
      ]
     },
     "execution_count": 71,
     "metadata": {},
     "output_type": "execute_result"
    }
   ],
   "source": [
    "s.a"
   ]
  },
  {
   "cell_type": "code",
   "execution_count": 86,
   "id": "08c7b196-b1b8-419c-856c-e8e1d7f92cce",
   "metadata": {},
   "outputs": [],
   "source": [
    "class bank_acc:\n",
    "    def __init__(self , balance):\n",
    "        self.__balance = balance\n",
    "    def deposit(self, amount):\n",
    "        self.__balance= self.__balance + amount\n",
    "    def withdraw(self , amount):\n",
    "        if self.__balance >= amount:\n",
    "            self.__balance = self.__balance- amount\n",
    "            return True\n",
    "        else:\n",
    "            return False\n",
    "        def get_balance(self):\n",
    "            return self.balance"
   ]
  },
  {
   "cell_type": "code",
   "execution_count": 89,
   "id": "1629ec0a-ed3e-47bc-9524-5a51bedca062",
   "metadata": {},
   "outputs": [],
   "source": [
    "yashika = bank_acc(500)"
   ]
  },
  {
   "cell_type": "code",
   "execution_count": 90,
   "id": "cb9518cb-cb84-4cac-b34b-642ad979b751",
   "metadata": {},
   "outputs": [],
   "source": [
    "yashika.deposit(200)"
   ]
  },
  {
   "cell_type": "code",
   "execution_count": 91,
   "id": "5c52b7b6-35da-4c81-b99d-e95c8777af7c",
   "metadata": {},
   "outputs": [
    {
     "ename": "AttributeError",
     "evalue": "'bank_acc' object has no attribute 'get_balance'",
     "output_type": "error",
     "traceback": [
      "\u001b[0;31m---------------------------------------------------------------------------\u001b[0m",
      "\u001b[0;31mAttributeError\u001b[0m                            Traceback (most recent call last)",
      "Cell \u001b[0;32mIn[91], line 1\u001b[0m\n\u001b[0;32m----> 1\u001b[0m \u001b[43myashika\u001b[49m\u001b[38;5;241;43m.\u001b[39;49m\u001b[43mget_balance\u001b[49m()\n",
      "\u001b[0;31mAttributeError\u001b[0m: 'bank_acc' object has no attribute 'get_balance'"
     ]
    }
   ],
   "source": [
    "yashika.get_balance()"
   ]
  },
  {
   "cell_type": "code",
   "execution_count": null,
   "id": "ba0a65a4-c8fc-40d5-8676-8631b167b967",
   "metadata": {},
   "outputs": [],
   "source": []
  },
  {
   "cell_type": "code",
   "execution_count": null,
   "id": "7be6f0fe-2fc5-4fb0-b5c0-d2d78af9b29a",
   "metadata": {},
   "outputs": [],
   "source": []
  }
 ],
 "metadata": {
  "kernelspec": {
   "display_name": "Python 3 (ipykernel)",
   "language": "python",
   "name": "python3"
  },
  "language_info": {
   "codemirror_mode": {
    "name": "ipython",
    "version": 3
   },
   "file_extension": ".py",
   "mimetype": "text/x-python",
   "name": "python",
   "nbconvert_exporter": "python",
   "pygments_lexer": "ipython3",
   "version": "3.10.8"
  }
 },
 "nbformat": 4,
 "nbformat_minor": 5
}
