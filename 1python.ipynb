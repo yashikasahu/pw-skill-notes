{
 "cells": [
  {
   "cell_type": "code",
   "execution_count": 1,
   "id": "cf0acf43-7c47-43c7-bdd5-fca8d48ac7ae",
   "metadata": {},
   "outputs": [
    {
     "data": {
      "text/plain": [
       "2"
      ]
     },
     "execution_count": 1,
     "metadata": {},
     "output_type": "execute_result"
    }
   ],
   "source": [
    "1+1"
   ]
  },
  {
   "cell_type": "code",
   "execution_count": 2,
   "id": "304961c6-20fd-4c12-b09b-5ead4f500bd9",
   "metadata": {},
   "outputs": [
    {
     "data": {
      "text/plain": [
       "25"
      ]
     },
     "execution_count": 2,
     "metadata": {},
     "output_type": "execute_result"
    }
   ],
   "source": [
    "'''multiple'''\n",
    "5*5 "
   ]
  },
  {
   "cell_type": "code",
   "execution_count": 3,
   "id": "b548a012-9916-43ff-9f92-f3d4a3cc970a",
   "metadata": {},
   "outputs": [
    {
     "data": {
      "text/plain": [
       "1.0"
      ]
     },
     "execution_count": 3,
     "metadata": {},
     "output_type": "execute_result"
    }
   ],
   "source": [
    "'''quotient'''\n",
    "5/5 "
   ]
  },
  {
   "cell_type": "code",
   "execution_count": 4,
   "id": "ed4e384e-fee4-4a8c-b2b2-516c9cc481c2",
   "metadata": {},
   "outputs": [
    {
     "data": {
      "text/plain": [
       "3125"
      ]
     },
     "execution_count": 4,
     "metadata": {},
     "output_type": "execute_result"
    }
   ],
   "source": [
    "'''power'''\n",
    "5**5"
   ]
  },
  {
   "cell_type": "code",
   "execution_count": 5,
   "id": "f6113d12-ada7-4234-8591-7764384f42da",
   "metadata": {},
   "outputs": [
    {
     "data": {
      "text/plain": [
       "0"
      ]
     },
     "execution_count": 5,
     "metadata": {},
     "output_type": "execute_result"
    }
   ],
   "source": [
    "'''reminder''' \n",
    "5%5"
   ]
  },
  {
   "cell_type": "code",
   "execution_count": 6,
   "id": "6be97f91-acb6-4f5d-b188-ceab480012a3",
   "metadata": {},
   "outputs": [
    {
     "data": {
      "text/plain": [
       "True"
      ]
     },
     "execution_count": 6,
     "metadata": {},
     "output_type": "execute_result"
    }
   ],
   "source": [
    "7>5"
   ]
  },
  {
   "cell_type": "code",
   "execution_count": 7,
   "id": "a15f7a75-5a29-4cff-9390-297879a94eb0",
   "metadata": {},
   "outputs": [
    {
     "data": {
      "text/plain": [
       "True"
      ]
     },
     "execution_count": 7,
     "metadata": {},
     "output_type": "execute_result"
    }
   ],
   "source": [
    "5<7"
   ]
  },
  {
   "cell_type": "code",
   "execution_count": 8,
   "id": "e723eff2-80fd-46ab-9a4c-0aa575f05bbc",
   "metadata": {},
   "outputs": [
    {
     "data": {
      "text/plain": [
       "False"
      ]
     },
     "execution_count": 8,
     "metadata": {},
     "output_type": "execute_result"
    }
   ],
   "source": [
    "5==6"
   ]
  },
  {
   "cell_type": "code",
   "execution_count": 9,
   "id": "90e27427-ab59-413b-a2ee-5f7dc665fd76",
   "metadata": {},
   "outputs": [
    {
     "data": {
      "text/plain": [
       "True"
      ]
     },
     "execution_count": 9,
     "metadata": {},
     "output_type": "execute_result"
    }
   ],
   "source": [
    "5!=2"
   ]
  },
  {
   "cell_type": "code",
   "execution_count": 10,
   "id": "c4847fae-790a-41e2-a0dc-693929f7b41a",
   "metadata": {},
   "outputs": [
    {
     "data": {
      "text/plain": [
       "False"
      ]
     },
     "execution_count": 10,
     "metadata": {},
     "output_type": "execute_result"
    }
   ],
   "source": [
    "4>=9"
   ]
  },
  {
   "cell_type": "code",
   "execution_count": 11,
   "id": "7933660f-989a-4f68-873e-b0a7099552c1",
   "metadata": {},
   "outputs": [
    {
     "data": {
      "text/plain": [
       "True"
      ]
     },
     "execution_count": 11,
     "metadata": {},
     "output_type": "execute_result"
    }
   ],
   "source": [
    "4<=9"
   ]
  },
  {
   "cell_type": "code",
   "execution_count": 12,
   "id": "f7ce409b-4477-4564-8fa8-f7d639e06e85",
   "metadata": {},
   "outputs": [
    {
     "data": {
      "text/plain": [
       "True"
      ]
     },
     "execution_count": 12,
     "metadata": {},
     "output_type": "execute_result"
    }
   ],
   "source": [
    "True or False"
   ]
  },
  {
   "cell_type": "code",
   "execution_count": 13,
   "id": "2748beda-6ba7-4545-8d81-c2bd42acdc5b",
   "metadata": {},
   "outputs": [
    {
     "data": {
      "text/plain": [
       "False"
      ]
     },
     "execution_count": 13,
     "metadata": {},
     "output_type": "execute_result"
    }
   ],
   "source": [
    "True and False"
   ]
  },
  {
   "cell_type": "code",
   "execution_count": 14,
   "id": "d4eead86-cfbf-4ef4-89fb-c2e9c3fcb34e",
   "metadata": {},
   "outputs": [],
   "source": [
    "a='yashika'"
   ]
  },
  {
   "cell_type": "code",
   "execution_count": 15,
   "id": "a998233c-d2a4-4517-ba09-cc3d7e2259ab",
   "metadata": {},
   "outputs": [
    {
     "data": {
      "text/plain": [
       "str"
      ]
     },
     "execution_count": 15,
     "metadata": {},
     "output_type": "execute_result"
    }
   ],
   "source": [
    "type(a)"
   ]
  },
  {
   "cell_type": "code",
   "execution_count": 16,
   "id": "522794e9-efe6-45e5-954b-08eaae34d1fa",
   "metadata": {},
   "outputs": [],
   "source": [
    "b= 54654"
   ]
  },
  {
   "cell_type": "code",
   "execution_count": 17,
   "id": "6d3b8d41-2553-41a6-8192-5b332f0aa3e4",
   "metadata": {},
   "outputs": [
    {
     "data": {
      "text/plain": [
       "int"
      ]
     },
     "execution_count": 17,
     "metadata": {},
     "output_type": "execute_result"
    }
   ],
   "source": [
    "type(b)"
   ]
  },
  {
   "cell_type": "code",
   "execution_count": 18,
   "id": "5fa90d6e-6dc4-43dd-93b4-ef304e5b150a",
   "metadata": {},
   "outputs": [],
   "source": [
    "c= True"
   ]
  },
  {
   "cell_type": "code",
   "execution_count": 19,
   "id": "ecc36176-c9c2-4eae-9d35-c9bae31f25f3",
   "metadata": {},
   "outputs": [
    {
     "data": {
      "text/plain": [
       "bool"
      ]
     },
     "execution_count": 19,
     "metadata": {},
     "output_type": "execute_result"
    }
   ],
   "source": [
    "type(c)"
   ]
  },
  {
   "cell_type": "code",
   "execution_count": 20,
   "id": "feee7a39-7ccc-4599-a50e-6fab8d5b51f1",
   "metadata": {},
   "outputs": [],
   "source": [
    "d= 56.3"
   ]
  },
  {
   "cell_type": "code",
   "execution_count": 21,
   "id": "95b07ed3-e944-4362-aadc-7b4b5ce862e3",
   "metadata": {},
   "outputs": [
    {
     "data": {
      "text/plain": [
       "float"
      ]
     },
     "execution_count": 21,
     "metadata": {},
     "output_type": "execute_result"
    }
   ],
   "source": [
    "type(d)"
   ]
  },
  {
   "cell_type": "code",
   "execution_count": 22,
   "id": "22ba3b05-23bd-48fd-9edd-b42eb8dcbc08",
   "metadata": {},
   "outputs": [],
   "source": [
    "e= 5+4j"
   ]
  },
  {
   "cell_type": "code",
   "execution_count": 23,
   "id": "6e445d24-c0cd-43ef-966c-2b38119b1ec9",
   "metadata": {},
   "outputs": [
    {
     "data": {
      "text/plain": [
       "complex"
      ]
     },
     "execution_count": 23,
     "metadata": {},
     "output_type": "execute_result"
    }
   ],
   "source": [
    "type(e)"
   ]
  },
  {
   "cell_type": "code",
   "execution_count": 3,
   "id": "f676d009-03b9-413b-b4e3-56a4ed4d99f5",
   "metadata": {},
   "outputs": [],
   "source": [
    "f=[2,4,9,\"i\",\"hate\",\"banana\",12080.56,5+8]"
   ]
  },
  {
   "cell_type": "code",
   "execution_count": 25,
   "id": "9cb68095-0eb4-49fc-aaad-1fd692364555",
   "metadata": {},
   "outputs": [
    {
     "data": {
      "text/plain": [
       "list"
      ]
     },
     "execution_count": 25,
     "metadata": {},
     "output_type": "execute_result"
    }
   ],
   "source": [
    "type(f)"
   ]
  },
  {
   "cell_type": "code",
   "execution_count": 1,
   "id": "0be4adc7-d935-4a8c-ba3d-ed834eb5a8d5",
   "metadata": {},
   "outputs": [],
   "source": [
    "g=(7,8,4,\"i\",\"love\",\"apple\",74.18,1+8)"
   ]
  },
  {
   "cell_type": "code",
   "execution_count": 27,
   "id": "412540f1-6dd4-4744-b9ee-d230a179c723",
   "metadata": {},
   "outputs": [
    {
     "data": {
      "text/plain": [
       "tuple"
      ]
     },
     "execution_count": 27,
     "metadata": {},
     "output_type": "execute_result"
    }
   ],
   "source": [
    "type(g)"
   ]
  },
  {
   "cell_type": "code",
   "execution_count": 5,
   "id": "93917d91-c906-43ed-a805-39bb7661d612",
   "metadata": {},
   "outputs": [],
   "source": [
    "a1={\"apple\",74.18,1+8,4,9,\"i\",\"hate\"}"
   ]
  },
  {
   "cell_type": "code",
   "execution_count": 7,
   "id": "7bef34b7-0715-462c-b3b1-a6384a22e645",
   "metadata": {},
   "outputs": [
    {
     "data": {
      "text/plain": [
       "set"
      ]
     },
     "execution_count": 7,
     "metadata": {},
     "output_type": "execute_result"
    }
   ],
   "source": [
    "type(a1)"
   ]
  },
  {
   "cell_type": "code",
   "execution_count": 28,
   "id": "1d3aec58-578a-438f-9f15-9ca4117b3c1c",
   "metadata": {},
   "outputs": [
    {
     "data": {
      "text/plain": [
       "5.0"
      ]
     },
     "execution_count": 28,
     "metadata": {},
     "output_type": "execute_result"
    }
   ],
   "source": [
    "e. real"
   ]
  },
  {
   "cell_type": "code",
   "execution_count": 29,
   "id": "c58f6788-9dd5-45cf-987f-8dc51e8ba6b8",
   "metadata": {},
   "outputs": [
    {
     "data": {
      "text/plain": [
       "4.0"
      ]
     },
     "execution_count": 29,
     "metadata": {},
     "output_type": "execute_result"
    }
   ],
   "source": [
    "e. imag"
   ]
  },
  {
   "cell_type": "code",
   "execution_count": 30,
   "id": "6ec61bfd-7165-4837-a390-a08957021171",
   "metadata": {},
   "outputs": [
    {
     "name": "stdout",
     "output_type": "stream",
     "text": [
      "57\n",
      "33\n",
      "540\n",
      "3\n"
     ]
    }
   ],
   "source": [
    "h= 45\n",
    "i= 12\n",
    "print (h+i)\n",
    "print (h-i)\n",
    "print (h*i)\n",
    "print (h//i)"
   ]
  },
  {
   "cell_type": "code",
   "execution_count": 31,
   "id": "de393a92-b9b5-4e43-ab23-357dee1cf370",
   "metadata": {},
   "outputs": [
    {
     "name": "stdout",
     "output_type": "stream",
     "text": [
      "k is greater\n"
     ]
    }
   ],
   "source": [
    "j = 5\n",
    "k = 10\n",
    "if j > k:\n",
    "     print(\"j is greater\")\n",
    "else:\n",
    "      print(\"k is greater\")"
   ]
  },
  {
   "cell_type": "code",
   "execution_count": 1,
   "id": "b73794bd-2f29-45d8-836a-ae4c5ef58416",
   "metadata": {},
   "outputs": [
    {
     "name": "stdout",
     "output_type": "stream",
     "text": [
      "15\n"
     ]
    }
   ],
   "source": [
    "sum = 0\n",
    "for i in range(1, 6):\n",
    "    sum += i\n",
    "print(sum)"
   ]
  },
  {
   "cell_type": "code",
   "execution_count": 33,
   "id": "6d7970b7-048f-4ae3-bd26-4a2e16d54116",
   "metadata": {},
   "outputs": [
    {
     "name": "stdout",
     "output_type": "stream",
     "text": [
      "0\n",
      "1\n",
      "2\n",
      "3\n",
      "4\n"
     ]
    }
   ],
   "source": [
    "count = 0\n",
    "while count < 5:\n",
    "    print(count)\n",
    "    count += 1"
   ]
  },
  {
   "cell_type": "code",
   "execution_count": 34,
   "id": "94458dd7-d16f-48ee-9443-29aa07823480",
   "metadata": {},
   "outputs": [],
   "source": [
    "'''mutable'''\n",
    "f[3]=\"I\""
   ]
  },
  {
   "cell_type": "code",
   "execution_count": 35,
   "id": "6125fd59-bc87-42dd-a7cb-5343d5e07508",
   "metadata": {},
   "outputs": [
    {
     "data": {
      "text/plain": [
       "[2, 4, 9, 'I', 'hate', 'banana', 12080.56, 13]"
      ]
     },
     "execution_count": 35,
     "metadata": {},
     "output_type": "execute_result"
    }
   ],
   "source": [
    "f"
   ]
  },
  {
   "cell_type": "code",
   "execution_count": 36,
   "id": "5b96510e-6436-497e-a3ca-97849f3681e6",
   "metadata": {},
   "outputs": [],
   "source": [
    "'''imutable'''\n",
    "l=\"kernel\""
   ]
  },
  {
   "cell_type": "code",
   "execution_count": 37,
   "id": "1b3158e8-753f-4f9e-ad7f-fc765d507351",
   "metadata": {},
   "outputs": [
    {
     "ename": "NameError",
     "evalue": "name 'K' is not defined",
     "output_type": "error",
     "traceback": [
      "\u001b[0;31m---------------------------------------------------------------------------\u001b[0m",
      "\u001b[0;31mNameError\u001b[0m                                 Traceback (most recent call last)",
      "Cell \u001b[0;32mIn[37], line 1\u001b[0m\n\u001b[0;32m----> 1\u001b[0m l[\u001b[38;5;241m0\u001b[39m]\u001b[38;5;241m=\u001b[39m\u001b[43mK\u001b[49m\n",
      "\u001b[0;31mNameError\u001b[0m: name 'K' is not defined"
     ]
    }
   ],
   "source": [
    "l[0]=K"
   ]
  },
  {
   "cell_type": "code",
   "execution_count": 38,
   "id": "5b2b5268-619d-4891-b215-2e84fd767030",
   "metadata": {},
   "outputs": [
    {
     "name": "stdout",
     "output_type": "stream",
     "text": [
      "0\n",
      "1\n",
      "2\n",
      "3\n",
      "4\n",
      "5\n"
     ]
    }
   ],
   "source": [
    "m =10\n",
    "n =0\n",
    "while n < m :\n",
    "    print(n) \n",
    "    n = n+1\n",
    "    if n==6 :\n",
    "        break\n",
    "else:\n",
    "    print(\"i am done \")"
   ]
  },
  {
   "cell_type": "code",
   "execution_count": 39,
   "id": "72e6135d-6737-47f2-a74a-2c523218058d",
   "metadata": {},
   "outputs": [
    {
     "name": "stdout",
     "output_type": "stream",
     "text": [
      "y\n",
      "a\n",
      "s\n",
      "h\n",
      "i\n",
      "k\n",
      "a\n"
     ]
    }
   ],
   "source": [
    "o = \"yashika\"\n",
    "for yashika in o:\n",
    "    print (yashika)"
   ]
  },
  {
   "cell_type": "code",
   "execution_count": 40,
   "id": "7e0bb96d-66a7-44cd-ad47-8f2ac556bfc6",
   "metadata": {},
   "outputs": [
    {
     "name": "stdout",
     "output_type": "stream",
     "text": [
      "<class 'list'>\n",
      "<class 'list'>\n",
      "<class 'list'>\n",
      "<class 'list'>\n",
      "<class 'list'>\n",
      "<class 'list'>\n",
      "<class 'list'>\n",
      "<class 'list'>\n"
     ]
    }
   ],
   "source": [
    "for p in f :\n",
    "    print (type(f))"
   ]
  },
  {
   "cell_type": "code",
   "execution_count": 41,
   "id": "1c94977a-2fcc-4167-b8b5-e3f2090e4017",
   "metadata": {},
   "outputs": [
    {
     "name": "stdout",
     "output_type": "stream",
     "text": [
      "<class 'int'>\n",
      "2\n",
      "<class 'int'>\n",
      "4\n",
      "<class 'int'>\n",
      "9\n",
      "<class 'str'>\n",
      "I\n",
      "<class 'str'>\n",
      "hate\n",
      "<class 'str'>\n",
      "banana\n",
      "<class 'float'>\n",
      "12080.56\n",
      "<class 'int'>\n",
      "13\n",
      "this will be exected when only if it is correct \n"
     ]
    }
   ],
   "source": [
    "for q in f :\n",
    "    print  (type(q))\n",
    "    if q==10 :\n",
    "        continue\n",
    "    print (q)\n",
    "else :\n",
    "    print(\"this will be exected when only if it is correct \")"
   ]
  },
  {
   "cell_type": "code",
   "execution_count": 42,
   "id": "94372244-9bf1-44ae-a8d6-0277cfc9adda",
   "metadata": {},
   "outputs": [
    {
     "data": {
      "text/plain": [
       "range(0, 10)"
      ]
     },
     "execution_count": 42,
     "metadata": {},
     "output_type": "execute_result"
    }
   ],
   "source": [
    "range(10)"
   ]
  },
  {
   "cell_type": "code",
   "execution_count": 43,
   "id": "58cdc925-47e6-4e15-8b41-27605062fa78",
   "metadata": {},
   "outputs": [
    {
     "data": {
      "text/plain": [
       "[0, 1, 2, 3, 4, 5, 6, 7, 8, 9, 10, 11, 12, 13, 14]"
      ]
     },
     "execution_count": 43,
     "metadata": {},
     "output_type": "execute_result"
    }
   ],
   "source": [
    "list(range(15))"
   ]
  },
  {
   "cell_type": "code",
   "execution_count": 44,
   "id": "ebf0487f-53c8-4929-ab90-b8759346e55a",
   "metadata": {},
   "outputs": [
    {
     "name": "stdout",
     "output_type": "stream",
     "text": [
      "10\n",
      "5.0\n",
      "2.5\n",
      "done\n"
     ]
    }
   ],
   "source": [
    "r=10\n",
    "s=2\n",
    "while r > s :\n",
    "    print (r)\n",
    "    r = r /s\n",
    "    if r==0 :\n",
    "        continue\n",
    "        print(s)\n",
    "else:\n",
    "    print (\"done\")\n",
    "    "
   ]
  },
  {
   "cell_type": "code",
   "execution_count": 45,
   "id": "41893e2a-f8e5-4df8-920e-4353c4e2c801",
   "metadata": {},
   "outputs": [],
   "source": [
    "u=[3, 6, 9, 12, 14, 45, 30, 66]"
   ]
  },
  {
   "cell_type": "code",
   "execution_count": 46,
   "id": "066d13d4-5ecb-476b-b230-98d475fbe8ab",
   "metadata": {},
   "outputs": [
    {
     "name": "stdout",
     "output_type": "stream",
     "text": [
      "3\n",
      "yes it is divisible.\n",
      "6\n",
      "yes it is divisible.\n",
      "9\n",
      "yes it is divisible.\n",
      "12\n",
      "yes it is divisible.\n",
      "14\n",
      " no it is divisible.\n",
      "45\n",
      "yes it is divisible.\n",
      "30\n",
      "yes it is divisible.\n",
      "66\n",
      "yes it is divisible.\n"
     ]
    }
   ],
   "source": [
    "for t in u:\n",
    "    print (t)\n",
    "\n",
    "   \n",
    "    t=t%3\n",
    "    if t==0 :\n",
    "        print (\"yes it is divisible.\")\n",
    "    elif t!=0 :\n",
    "            print(\" no it is divisible.\")\n",
    "\n",
    "    "
   ]
  },
  {
   "cell_type": "code",
   "execution_count": 47,
   "id": "d02bfbcc-d054-477a-aff8-5d0938338638",
   "metadata": {},
   "outputs": [
    {
     "data": {
      "text/plain": [
       "'yash'"
      ]
     },
     "execution_count": 47,
     "metadata": {},
     "output_type": "execute_result"
    }
   ],
   "source": [
    "#[starting limit: ending limit :interval]\n",
    "o[0:4]"
   ]
  },
  {
   "cell_type": "code",
   "execution_count": 48,
   "id": "d0336c17-25d7-411c-85e8-5913b4e45c4e",
   "metadata": {},
   "outputs": [
    {
     "data": {
      "text/plain": [
       "'ysia'"
      ]
     },
     "execution_count": 48,
     "metadata": {},
     "output_type": "execute_result"
    }
   ],
   "source": [
    "o[0:8:2]"
   ]
  },
  {
   "cell_type": "code",
   "execution_count": 49,
   "id": "4eb5b82a-03ef-4320-8127-4c1cf46c3e6e",
   "metadata": {},
   "outputs": [
    {
     "data": {
      "text/plain": [
       "'ysia'"
      ]
     },
     "execution_count": 49,
     "metadata": {},
     "output_type": "execute_result"
    }
   ],
   "source": [
    "o[::2]"
   ]
  },
  {
   "cell_type": "code",
   "execution_count": 50,
   "id": "a8cd6ad2-4aeb-47ed-92ae-c7c7e69e6594",
   "metadata": {},
   "outputs": [
    {
     "data": {
      "text/plain": [
       "'sia'"
      ]
     },
     "execution_count": 50,
     "metadata": {},
     "output_type": "execute_result"
    }
   ],
   "source": [
    "o[2::2]"
   ]
  },
  {
   "cell_type": "code",
   "execution_count": 51,
   "id": "8eca846b-abf1-49cb-b895-e8a751e18843",
   "metadata": {},
   "outputs": [
    {
     "data": {
      "text/plain": [
       "'akihsay'"
      ]
     },
     "execution_count": 51,
     "metadata": {},
     "output_type": "execute_result"
    }
   ],
   "source": [
    "o[::-1]"
   ]
  },
  {
   "cell_type": "code",
   "execution_count": 52,
   "id": "761d3a11-ff15-4bae-b1ec-12ae467acd57",
   "metadata": {},
   "outputs": [
    {
     "data": {
      "text/plain": [
       "''"
      ]
     },
     "execution_count": 52,
     "metadata": {},
     "output_type": "execute_result"
    }
   ],
   "source": [
    "'''blank isliye aaya kyuki direction alag alag ho gata hai'''\n",
    "o[2:7:-1]"
   ]
  },
  {
   "cell_type": "code",
   "execution_count": 53,
   "id": "d094e14f-1362-496b-be85-576faa443721",
   "metadata": {},
   "outputs": [
    {
     "data": {
      "text/plain": [
       "''"
      ]
     },
     "execution_count": 53,
     "metadata": {},
     "output_type": "execute_result"
    }
   ],
   "source": [
    "o[8:0:1]"
   ]
  },
  {
   "cell_type": "code",
   "execution_count": 54,
   "id": "b354ebed-f5cf-45f5-9d16-5b918edb940b",
   "metadata": {},
   "outputs": [
    {
     "data": {
      "text/plain": [
       "'akihsa'"
      ]
     },
     "execution_count": 54,
     "metadata": {},
     "output_type": "execute_result"
    }
   ],
   "source": [
    "o[8:0:-1]"
   ]
  },
  {
   "cell_type": "code",
   "execution_count": 55,
   "id": "79fb6cd3-a38d-4ba1-92fe-fd92540c094f",
   "metadata": {},
   "outputs": [],
   "source": [
    "v =\"yashika\""
   ]
  },
  {
   "cell_type": "code",
   "execution_count": 56,
   "id": "c9ba58ca-2740-4638-948e-167c7430f83b",
   "metadata": {},
   "outputs": [
    {
     "data": {
      "text/plain": [
       "7"
      ]
     },
     "execution_count": 56,
     "metadata": {},
     "output_type": "execute_result"
    }
   ],
   "source": [
    "len(v)"
   ]
  },
  {
   "cell_type": "code",
   "execution_count": 57,
   "id": "af90dedb-3e59-4740-af58-077a22d33baf",
   "metadata": {},
   "outputs": [],
   "source": [
    "w=\"my name is yashika\""
   ]
  },
  {
   "cell_type": "code",
   "execution_count": 58,
   "id": "dae5961a-1f30-4c32-9d38-670d0396365b",
   "metadata": {},
   "outputs": [
    {
     "data": {
      "text/plain": [
       "18"
      ]
     },
     "execution_count": 58,
     "metadata": {},
     "output_type": "execute_result"
    }
   ],
   "source": [
    "len(w)"
   ]
  },
  {
   "cell_type": "code",
   "execution_count": 59,
   "id": "71142e6e-c404-4cc7-ba3f-188189d4b238",
   "metadata": {},
   "outputs": [
    {
     "data": {
      "text/plain": [
       "9"
      ]
     },
     "execution_count": 59,
     "metadata": {},
     "output_type": "execute_result"
    }
   ],
   "source": [
    "w.find('s')"
   ]
  },
  {
   "cell_type": "code",
   "execution_count": 60,
   "id": "e6299029-ba04-4b90-9db0-065ffe748828",
   "metadata": {},
   "outputs": [
    {
     "data": {
      "text/plain": [
       "1"
      ]
     },
     "execution_count": 60,
     "metadata": {},
     "output_type": "execute_result"
    }
   ],
   "source": [
    "w.find('y')"
   ]
  },
  {
   "cell_type": "code",
   "execution_count": 61,
   "id": "19b80806-2d89-417e-a14f-e6e94797886c",
   "metadata": {},
   "outputs": [
    {
     "data": {
      "text/plain": [
       "11"
      ]
     },
     "execution_count": 61,
     "metadata": {},
     "output_type": "execute_result"
    }
   ],
   "source": [
    "w.find('yas')"
   ]
  },
  {
   "cell_type": "code",
   "execution_count": 62,
   "id": "b03932a7-de8e-4785-84fe-3e3bdc1d4595",
   "metadata": {},
   "outputs": [
    {
     "data": {
      "text/plain": [
       "3"
      ]
     },
     "execution_count": 62,
     "metadata": {},
     "output_type": "execute_result"
    }
   ],
   "source": [
    "w.count('a')"
   ]
  },
  {
   "cell_type": "code",
   "execution_count": 63,
   "id": "a9d91fda-8495-4b61-a24a-8a31b61a5d45",
   "metadata": {},
   "outputs": [
    {
     "data": {
      "text/plain": [
       "2"
      ]
     },
     "execution_count": 63,
     "metadata": {},
     "output_type": "execute_result"
    }
   ],
   "source": [
    "w.count('y')"
   ]
  },
  {
   "cell_type": "code",
   "execution_count": 64,
   "id": "5d6bfc1a-1abc-4f10-9cbd-b87041a732af",
   "metadata": {},
   "outputs": [
    {
     "data": {
      "text/plain": [
       "'MY NAME IS YASHIKA'"
      ]
     },
     "execution_count": 64,
     "metadata": {},
     "output_type": "execute_result"
    }
   ],
   "source": [
    "w.upper()"
   ]
  },
  {
   "cell_type": "code",
   "execution_count": 65,
   "id": "a9b2b006-da3b-4037-8642-4472e7219527",
   "metadata": {},
   "outputs": [
    {
     "data": {
      "text/plain": [
       "'my name is yashika'"
      ]
     },
     "execution_count": 65,
     "metadata": {},
     "output_type": "execute_result"
    }
   ],
   "source": [
    "w.lower()"
   ]
  },
  {
   "cell_type": "code",
   "execution_count": 66,
   "id": "a72cb4a9-427b-4881-82f3-3b4f2d98d4f7",
   "metadata": {},
   "outputs": [
    {
     "data": {
      "text/plain": [
       "'My Name Is Yashika'"
      ]
     },
     "execution_count": 66,
     "metadata": {},
     "output_type": "execute_result"
    }
   ],
   "source": [
    "w.title()"
   ]
  },
  {
   "cell_type": "code",
   "execution_count": 67,
   "id": "345b638c-51bc-4d03-abde-5cd9176348ff",
   "metadata": {},
   "outputs": [
    {
     "data": {
      "text/plain": [
       "'My name is yashika'"
      ]
     },
     "execution_count": 67,
     "metadata": {},
     "output_type": "execute_result"
    }
   ],
   "source": [
    "w.capitalize()"
   ]
  },
  {
   "cell_type": "code",
   "execution_count": 2,
   "id": "2c087a75-465b-49f9-b21e-bbce9c86bad0",
   "metadata": {},
   "outputs": [],
   "source": [
    "w= \" sahu \""
   ]
  },
  {
   "cell_type": "code",
   "execution_count": 69,
   "id": "99535dcd-c010-4bf4-a54a-1a9edf5a7501",
   "metadata": {},
   "outputs": [
    {
     "data": {
      "text/plain": [
       "'yashikayashikayashikayashika'"
      ]
     },
     "execution_count": 69,
     "metadata": {},
     "output_type": "execute_result"
    }
   ],
   "source": [
    "a*4"
   ]
  },
  {
   "cell_type": "code",
   "execution_count": 70,
   "id": "2714d222-bf24-46c9-8244-163841c735f2",
   "metadata": {},
   "outputs": [
    {
     "data": {
      "text/plain": [
       "'dont argue with me '"
      ]
     },
     "execution_count": 70,
     "metadata": {},
     "output_type": "execute_result"
    }
   ],
   "source": [
    "'dont argue with me '"
   ]
  },
  {
   "cell_type": "code",
   "execution_count": 71,
   "id": "0b83f9a4-4862-46b1-ac02-68d0bee4fe97",
   "metadata": {},
   "outputs": [
    {
     "data": {
      "text/plain": [
       "[2, 4, 9, 'I', 'hate', 'banana', 12080.56, 13]"
      ]
     },
     "execution_count": 71,
     "metadata": {},
     "output_type": "execute_result"
    }
   ],
   "source": [
    "f"
   ]
  },
  {
   "cell_type": "code",
   "execution_count": 72,
   "id": "2bf9b378-09ed-442b-9a7c-824f38db8ecb",
   "metadata": {},
   "outputs": [
    {
     "data": {
      "text/plain": [
       "[2, 4, 9, 'I', 'hate', 'banana']"
      ]
     },
     "execution_count": 72,
     "metadata": {},
     "output_type": "execute_result"
    }
   ],
   "source": [
    "f[0:6]"
   ]
  },
  {
   "cell_type": "code",
   "execution_count": 73,
   "id": "cd0804ec-e442-4226-9b1b-cfa7da5ad790",
   "metadata": {},
   "outputs": [
    {
     "data": {
      "text/plain": [
       "[4, 'I', 'banana', 13]"
      ]
     },
     "execution_count": 73,
     "metadata": {},
     "output_type": "execute_result"
    }
   ],
   "source": [
    "#[starting limit: ending limit :interval]\n",
    "f[1:8:2]"
   ]
  },
  {
   "cell_type": "code",
   "execution_count": 74,
   "id": "9ecedfc4-00a3-4d92-a203-a7d20227988e",
   "metadata": {},
   "outputs": [],
   "source": [
    "x=\"dinky\""
   ]
  },
  {
   "cell_type": "code",
   "execution_count": 75,
   "id": "e853104e-f1ee-4fd9-a430-cf35d01b24a9",
   "metadata": {},
   "outputs": [
    {
     "data": {
      "text/plain": [
       "['d', 'i', 'n', 'k', 'y', 2, 4, 9, 'I', 'hate', 'banana', 12080.56, 13]"
      ]
     },
     "execution_count": 75,
     "metadata": {},
     "output_type": "execute_result"
    }
   ],
   "source": [
    "list(x) + f"
   ]
  },
  {
   "cell_type": "code",
   "execution_count": 76,
   "id": "e6334352-74c3-46f3-bcd8-98a5d3ecc08b",
   "metadata": {},
   "outputs": [
    {
     "data": {
      "text/plain": [
       "'di'"
      ]
     },
     "execution_count": 76,
     "metadata": {},
     "output_type": "execute_result"
    }
   ],
   "source": [
    " x[0:2]"
   ]
  },
  {
   "cell_type": "code",
   "execution_count": 77,
   "id": "c333131e-739a-45d5-a695-8920278ff921",
   "metadata": {},
   "outputs": [
    {
     "data": {
      "text/plain": [
       "list"
      ]
     },
     "execution_count": 77,
     "metadata": {},
     "output_type": "execute_result"
    }
   ],
   "source": [
    "type(f)"
   ]
  },
  {
   "cell_type": "code",
   "execution_count": 78,
   "id": "20a93785-d453-4d67-ab7d-7fd8f50dc634",
   "metadata": {},
   "outputs": [
    {
     "data": {
      "text/plain": [
       "'banana'"
      ]
     },
     "execution_count": 78,
     "metadata": {},
     "output_type": "execute_result"
    }
   ],
   "source": [
    "f[5]"
   ]
  },
  {
   "cell_type": "code",
   "execution_count": 79,
   "id": "05b3a400-78f6-476f-9ee3-636217d1c307",
   "metadata": {},
   "outputs": [
    {
     "data": {
      "text/plain": [
       "'na'"
      ]
     },
     "execution_count": 79,
     "metadata": {},
     "output_type": "execute_result"
    }
   ],
   "source": [
    "f[5][2:4]"
   ]
  },
  {
   "cell_type": "code",
   "execution_count": 80,
   "id": "5abfb1b1-bb45-4cbe-b7db-a50015501db0",
   "metadata": {},
   "outputs": [
    {
     "data": {
      "text/plain": [
       "'ba'"
      ]
     },
     "execution_count": 80,
     "metadata": {},
     "output_type": "execute_result"
    }
   ],
   "source": [
    "str(f[5]) [0:2]"
   ]
  },
  {
   "cell_type": "code",
   "execution_count": 4,
   "id": "22642328-1d14-410f-ad71-18a6188e80fe",
   "metadata": {},
   "outputs": [],
   "source": [
    "f.insert(1,\"function insert\")"
   ]
  },
  {
   "cell_type": "code",
   "execution_count": 5,
   "id": "c1a3ce41-5aba-46e5-879b-16ef37e018dc",
   "metadata": {},
   "outputs": [
    {
     "data": {
      "text/plain": [
       "[2, 'function insert', 4, 9, 'i', 'hate', 'banana', 12080.56, 13]"
      ]
     },
     "execution_count": 5,
     "metadata": {},
     "output_type": "execute_result"
    }
   ],
   "source": [
    "f"
   ]
  },
  {
   "cell_type": "code",
   "execution_count": 6,
   "id": "ea678e83-3e40-4718-85e8-b129e004f2ac",
   "metadata": {},
   "outputs": [],
   "source": [
    "f.insert(3,f)"
   ]
  },
  {
   "cell_type": "code",
   "execution_count": 7,
   "id": "536756bb-8ad3-4bd2-a1f8-74c1c252bd75",
   "metadata": {},
   "outputs": [
    {
     "data": {
      "text/plain": [
       "[2, 'function insert', 4, [...], 9, 'i', 'hate', 'banana', 12080.56, 13]"
      ]
     },
     "execution_count": 7,
     "metadata": {},
     "output_type": "execute_result"
    }
   ],
   "source": [
    "f"
   ]
  },
  {
   "cell_type": "code",
   "execution_count": 8,
   "id": "0f81ddd6-5b7e-4784-9a9f-f517dae7bbf7",
   "metadata": {},
   "outputs": [
    {
     "data": {
      "text/plain": [
       "13"
      ]
     },
     "execution_count": 8,
     "metadata": {},
     "output_type": "execute_result"
    }
   ],
   "source": [
    "f.pop()"
   ]
  },
  {
   "cell_type": "code",
   "execution_count": 9,
   "id": "08f97d70-9600-4ebd-b1a5-738b0362ce47",
   "metadata": {},
   "outputs": [
    {
     "data": {
      "text/plain": [
       "[2, 'function insert', 4, [...], 9, 'i', 'hate', 'banana', 12080.56]"
      ]
     },
     "execution_count": 9,
     "metadata": {},
     "output_type": "execute_result"
    }
   ],
   "source": [
    "f"
   ]
  },
  {
   "cell_type": "code",
   "execution_count": 10,
   "id": "cb690e99-0603-40e2-8e61-4da984a42d4b",
   "metadata": {},
   "outputs": [
    {
     "data": {
      "text/plain": [
       "4"
      ]
     },
     "execution_count": 10,
     "metadata": {},
     "output_type": "execute_result"
    }
   ],
   "source": [
    "f.pop(2)"
   ]
  },
  {
   "cell_type": "code",
   "execution_count": 112,
   "id": "56d55232-01ef-403d-8c7b-afc072a16816",
   "metadata": {},
   "outputs": [
    {
     "data": {
      "text/plain": [
       "['function insert']"
      ]
     },
     "execution_count": 112,
     "metadata": {},
     "output_type": "execute_result"
    }
   ],
   "source": [
    "y"
   ]
  },
  {
   "cell_type": "code",
   "execution_count": 2,
   "id": "64c4f9b1-802a-4e8e-a990-356b83ba8418",
   "metadata": {},
   "outputs": [],
   "source": [
    "for i in range(5):\n",
    "    if i == 2:\n",
    "        continue\n",
    "        print(i)"
   ]
  },
  {
   "cell_type": "code",
   "execution_count": 1,
   "id": "aeb2207e-6261-41bf-8fb1-f19bc8993dad",
   "metadata": {},
   "outputs": [
    {
     "name": "stdout",
     "output_type": "stream",
     "text": [
      "a is purely divisible by b 25.0 in times .\n"
     ]
    }
   ],
   "source": [
    "a = 100\n",
    "b = 4\n",
    "count = a/b\n",
    "while a% b == 0:\n",
    "    a//=b\n",
    "if count > 0:\n",
    "    print(\"a is purely divisible by b\",(count),\"in times .\")"
   ]
  },
  {
   "cell_type": "code",
   "execution_count": null,
   "id": "df1a59d7-a65f-47de-8a51-e0d81df1fb3e",
   "metadata": {},
   "outputs": [],
   "source": []
  }
 ],
 "metadata": {
  "kernelspec": {
   "display_name": "Python 3 (ipykernel)",
   "language": "python",
   "name": "python3"
  },
  "language_info": {
   "codemirror_mode": {
    "name": "ipython",
    "version": 3
   },
   "file_extension": ".py",
   "mimetype": "text/x-python",
   "name": "python",
   "nbconvert_exporter": "python",
   "pygments_lexer": "ipython3",
   "version": "3.10.8"
  }
 },
 "nbformat": 4,
 "nbformat_minor": 5
}
