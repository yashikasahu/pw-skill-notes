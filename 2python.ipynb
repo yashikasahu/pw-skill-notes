{
 "cells": [
  {
   "cell_type": "code",
   "execution_count": 3,
   "id": "cf0acf43-7c47-43c7-bdd5-fca8d48ac7ae",
   "metadata": {},
   "outputs": [],
   "source": [
    "a=[9,8,7,6]"
   ]
  },
  {
   "cell_type": "code",
   "execution_count": 4,
   "id": "9b885322-4371-4905-a428-b9768c9d04cb",
   "metadata": {},
   "outputs": [],
   "source": [
    "b=[54,93,65]"
   ]
  },
  {
   "cell_type": "code",
   "execution_count": 5,
   "id": "298e8c0a-e557-4a73-bca2-f8f5d653014e",
   "metadata": {},
   "outputs": [
    {
     "data": {
      "text/plain": [
       "[9, 8, 7, 6, 54, 93, 65]"
      ]
     },
     "execution_count": 5,
     "metadata": {},
     "output_type": "execute_result"
    }
   ],
   "source": [
    "a+b"
   ]
  },
  {
   "cell_type": "code",
   "execution_count": 6,
   "id": "5e228158-f553-4959-a3ec-a45851738a0a",
   "metadata": {},
   "outputs": [
    {
     "data": {
      "text/plain": [
       "4"
      ]
     },
     "execution_count": 6,
     "metadata": {},
     "output_type": "execute_result"
    }
   ],
   "source": [
    "len(a)"
   ]
  },
  {
   "cell_type": "code",
   "execution_count": 7,
   "id": "15328fa6-302a-44c7-bbcc-7684a452d94b",
   "metadata": {},
   "outputs": [],
   "source": [
    "a.append(14)"
   ]
  },
  {
   "cell_type": "code",
   "execution_count": 8,
   "id": "f533a5e3-07ef-4c17-ab49-496717eb2290",
   "metadata": {},
   "outputs": [
    {
     "data": {
      "text/plain": [
       "[9, 8, 7, 6, 14]"
      ]
     },
     "execution_count": 8,
     "metadata": {},
     "output_type": "execute_result"
    }
   ],
   "source": [
    "a"
   ]
  },
  {
   "cell_type": "code",
   "execution_count": 9,
   "id": "0c2972f3-4e00-4f35-bd8e-d1b937e46b21",
   "metadata": {},
   "outputs": [
    {
     "ename": "TypeError",
     "evalue": "list.extend() takes exactly one argument (2 given)",
     "output_type": "error",
     "traceback": [
      "\u001b[0;31m---------------------------------------------------------------------------\u001b[0m",
      "\u001b[0;31mTypeError\u001b[0m                                 Traceback (most recent call last)",
      "Cell \u001b[0;32mIn[9], line 1\u001b[0m\n\u001b[0;32m----> 1\u001b[0m \u001b[43mb\u001b[49m\u001b[38;5;241;43m.\u001b[39;49m\u001b[43mextend\u001b[49m\u001b[43m(\u001b[49m\u001b[38;5;241;43m58\u001b[39;49m\u001b[43m,\u001b[49m\u001b[38;5;241;43m65\u001b[39;49m\u001b[43m)\u001b[49m\n",
      "\u001b[0;31mTypeError\u001b[0m: list.extend() takes exactly one argument (2 given)"
     ]
    }
   ],
   "source": [
    " b.extend(58,65)"
   ]
  },
  {
   "cell_type": "code",
   "execution_count": 8,
   "id": "512e8bea-aded-495a-b3d3-a10000c87982",
   "metadata": {},
   "outputs": [
    {
     "data": {
      "text/plain": [
       "[54, 93, 65]"
      ]
     },
     "execution_count": 8,
     "metadata": {},
     "output_type": "execute_result"
    }
   ],
   "source": [
    "b"
   ]
  },
  {
   "cell_type": "code",
   "execution_count": 9,
   "id": "a9a38cc6-659f-4fb4-a7bd-23be00796519",
   "metadata": {},
   "outputs": [
    {
     "data": {
      "text/plain": [
       "14"
      ]
     },
     "execution_count": 9,
     "metadata": {},
     "output_type": "execute_result"
    }
   ],
   "source": [
    "a.pop()"
   ]
  },
  {
   "cell_type": "code",
   "execution_count": 10,
   "id": "009b21a7-a187-42c4-a2be-a6e7c102ef1c",
   "metadata": {},
   "outputs": [
    {
     "data": {
      "text/plain": [
       "[9, 8, 7, 6]"
      ]
     },
     "execution_count": 10,
     "metadata": {},
     "output_type": "execute_result"
    }
   ],
   "source": [
    "a"
   ]
  },
  {
   "cell_type": "code",
   "execution_count": 11,
   "id": "4eb63315-6687-4d56-a6d7-679c40f29274",
   "metadata": {},
   "outputs": [],
   "source": [
    "a.reverse()"
   ]
  },
  {
   "cell_type": "code",
   "execution_count": 12,
   "id": "a37c6b82-1583-4284-b47a-dfec6e6acfda",
   "metadata": {},
   "outputs": [
    {
     "data": {
      "text/plain": [
       "[6, 7, 8, 9]"
      ]
     },
     "execution_count": 12,
     "metadata": {},
     "output_type": "execute_result"
    }
   ],
   "source": [
    "a"
   ]
  },
  {
   "cell_type": "code",
   "execution_count": 13,
   "id": "d73605f1-18de-4388-a5ed-38a3045558a5",
   "metadata": {},
   "outputs": [],
   "source": [
    "a.reverse()"
   ]
  },
  {
   "cell_type": "code",
   "execution_count": 14,
   "id": "3b8fcfd3-c30a-4110-90ac-f6bcf3ed436d",
   "metadata": {},
   "outputs": [
    {
     "data": {
      "text/plain": [
       "[9, 8, 7, 6]"
      ]
     },
     "execution_count": 14,
     "metadata": {},
     "output_type": "execute_result"
    }
   ],
   "source": [
    "a"
   ]
  },
  {
   "cell_type": "code",
   "execution_count": 16,
   "id": "c13cff12-2e6d-4b36-a0c2-50870111bbe1",
   "metadata": {},
   "outputs": [],
   "source": [
    "a.sort()"
   ]
  },
  {
   "cell_type": "code",
   "execution_count": 17,
   "id": "6234fff3-4b43-46b0-9dea-ed8261c85935",
   "metadata": {},
   "outputs": [
    {
     "data": {
      "text/plain": [
       "[6, 7, 8, 9]"
      ]
     },
     "execution_count": 17,
     "metadata": {},
     "output_type": "execute_result"
    }
   ],
   "source": [
    "a"
   ]
  },
  {
   "cell_type": "code",
   "execution_count": 24,
   "id": "342fe68f-676e-4c69-9663-4bbcef230b72",
   "metadata": {},
   "outputs": [],
   "source": [
    "c=[\"fgjhv\" , \"igbh\" , \"cysdfyt\", \"bvuybuy\",\"vcsdyf\"]"
   ]
  },
  {
   "cell_type": "code",
   "execution_count": 25,
   "id": "822db204-fd31-495f-9b7f-f150dbbc7edd",
   "metadata": {},
   "outputs": [],
   "source": [
    "c.sort()"
   ]
  },
  {
   "cell_type": "code",
   "execution_count": 26,
   "id": "a1efa3fc-d8ac-49d0-b854-6f9b58fc75d6",
   "metadata": {},
   "outputs": [
    {
     "data": {
      "text/plain": [
       "['bvuybuy', 'cysdfyt', 'fgjhv', 'igbh', 'vcsdyf']"
      ]
     },
     "execution_count": 26,
     "metadata": {},
     "output_type": "execute_result"
    }
   ],
   "source": [
    "c"
   ]
  },
  {
   "cell_type": "code",
   "execution_count": 28,
   "id": "ad01a357-de54-42ac-a08f-79903833a3f9",
   "metadata": {},
   "outputs": [
    {
     "data": {
      "text/plain": [
       "1"
      ]
     },
     "execution_count": 28,
     "metadata": {},
     "output_type": "execute_result"
    }
   ],
   "source": [
    "c.index(\"cysdfyt\")"
   ]
  },
  {
   "cell_type": "code",
   "execution_count": 32,
   "id": "3506f537-68ab-4ab3-8607-5707544bb3b7",
   "metadata": {},
   "outputs": [
    {
     "data": {
      "text/plain": [
       "1"
      ]
     },
     "execution_count": 32,
     "metadata": {},
     "output_type": "execute_result"
    }
   ],
   "source": [
    "c.count(\"cysdfyt\")"
   ]
  },
  {
   "cell_type": "code",
   "execution_count": 33,
   "id": "9fec1cc5-2158-4fd1-9e69-8d69e8a56515",
   "metadata": {},
   "outputs": [],
   "source": [
    "a[2]=20"
   ]
  },
  {
   "cell_type": "code",
   "execution_count": 34,
   "id": "de5e0678-6fa8-4fd9-a0e1-95498f3b2f7a",
   "metadata": {},
   "outputs": [
    {
     "data": {
      "text/plain": [
       "[6, 7, 20, 9]"
      ]
     },
     "execution_count": 34,
     "metadata": {},
     "output_type": "execute_result"
    }
   ],
   "source": [
    "a"
   ]
  },
  {
   "cell_type": "code",
   "execution_count": 39,
   "id": "5e120a70-3ee9-4c04-8f48-9171f7b3e166",
   "metadata": {},
   "outputs": [],
   "source": [
    "d=\"yishika\""
   ]
  },
  {
   "cell_type": "code",
   "execution_count": 40,
   "id": "44ba2b71-6927-43ee-9e1f-f613aa2b8649",
   "metadata": {},
   "outputs": [
    {
     "data": {
      "text/plain": [
       "'yashaka'"
      ]
     },
     "execution_count": 40,
     "metadata": {},
     "output_type": "execute_result"
    }
   ],
   "source": [
    "d.replace('i','a')"
   ]
  },
  {
   "cell_type": "code",
   "execution_count": 2,
   "id": "de6147c1-8658-47c6-ba9f-9f476d2a5910",
   "metadata": {},
   "outputs": [],
   "source": [
    "g=(7,8,4,\"i\",\"love\",\"apple\",74.18,1+8)"
   ]
  },
  {
   "cell_type": "code",
   "execution_count": 3,
   "id": "7032a287-a70c-4151-bee6-4e1eb0b3edaa",
   "metadata": {},
   "outputs": [
    {
     "data": {
      "text/plain": [
       "(7, 8, 4, 'i', 'love', 'apple', 74.18, 9)"
      ]
     },
     "execution_count": 3,
     "metadata": {},
     "output_type": "execute_result"
    }
   ],
   "source": [
    "g"
   ]
  },
  {
   "cell_type": "code",
   "execution_count": 4,
   "id": "738aa43e-f1c4-45cb-b5bb-c106b13ad5f2",
   "metadata": {},
   "outputs": [
    {
     "data": {
      "text/plain": [
       "8"
      ]
     },
     "execution_count": 4,
     "metadata": {},
     "output_type": "execute_result"
    }
   ],
   "source": [
    "len(g)"
   ]
  },
  {
   "cell_type": "code",
   "execution_count": 5,
   "id": "fa70ba76-411f-4571-b460-d9b9b1c4fa1e",
   "metadata": {},
   "outputs": [
    {
     "data": {
      "text/plain": [
       "(7, 8, 4, 'i', 'love', 'apple', 74.18, 9)"
      ]
     },
     "execution_count": 5,
     "metadata": {},
     "output_type": "execute_result"
    }
   ],
   "source": [
    "g"
   ]
  },
  {
   "cell_type": "code",
   "execution_count": 6,
   "id": "795d0182-39cc-495d-a765-7993c6515c6f",
   "metadata": {},
   "outputs": [],
   "source": [
    "v={7,8,4,\"i\",\"love\",\"apple\",74.18,1+8}"
   ]
  },
  {
   "cell_type": "code",
   "execution_count": 8,
   "id": "107c7fba-5aa6-492f-a5d8-21fc3b40ed59",
   "metadata": {},
   "outputs": [
    {
     "data": {
      "text/plain": [
       "set"
      ]
     },
     "execution_count": 8,
     "metadata": {},
     "output_type": "execute_result"
    }
   ],
   "source": [
    "type(v)"
   ]
  },
  {
   "cell_type": "code",
   "execution_count": 1,
   "id": "98d97974-a0c9-4936-b3d0-6006cf9ee1f2",
   "metadata": {},
   "outputs": [
    {
     "data": {
      "text/plain": [
       "False"
      ]
     },
     "execution_count": 1,
     "metadata": {},
     "output_type": "execute_result"
    }
   ],
   "source": [
    "3!=3"
   ]
  },
  {
   "cell_type": "code",
   "execution_count": 2,
   "id": "26dd8920-20f8-4017-bbc0-482e40f73c1e",
   "metadata": {},
   "outputs": [
    {
     "data": {
      "text/plain": [
       "True"
      ]
     },
     "execution_count": 2,
     "metadata": {},
     "output_type": "execute_result"
    }
   ],
   "source": [
    "8!=3"
   ]
  },
  {
   "cell_type": "code",
   "execution_count": 1,
   "id": "5f1b3618-6930-4506-9bd8-9ff2eaa97ebd",
   "metadata": {},
   "outputs": [],
   "source": [
    "i={}"
   ]
  },
  {
   "cell_type": "code",
   "execution_count": 4,
   "id": "b63e7739-7441-4193-a818-b79b35f537d6",
   "metadata": {},
   "outputs": [
    {
     "data": {
      "text/plain": [
       "dict"
      ]
     },
     "execution_count": 4,
     "metadata": {},
     "output_type": "execute_result"
    }
   ],
   "source": [
    "type(i)"
   ]
  },
  {
   "cell_type": "code",
   "execution_count": 1,
   "id": "e1df4170-ecff-4700-bbc6-e1817a5d8967",
   "metadata": {},
   "outputs": [],
   "source": [
    "d= {1,6,6,3,5,2,1,8,6,9,7,4,2,5,6,6,5,3,3,2,1,4,\"yashika\",\"Yashika\"}"
   ]
  },
  {
   "cell_type": "code",
   "execution_count": 2,
   "id": "74289cd6-4771-4a62-89d6-4d1f0adfa8fa",
   "metadata": {},
   "outputs": [
    {
     "data": {
      "text/plain": [
       "set"
      ]
     },
     "execution_count": 2,
     "metadata": {},
     "output_type": "execute_result"
    }
   ],
   "source": [
    "type(d)"
   ]
  },
  {
   "cell_type": "code",
   "execution_count": 10,
   "id": "be30420d-c696-4a79-a37e-2f1e84195305",
   "metadata": {},
   "outputs": [
    {
     "data": {
      "text/plain": [
       "{1, 2, 3, 4, 5, 6, 7, 8, 9, 'Yashika', 'yashika'}"
      ]
     },
     "execution_count": 10,
     "metadata": {},
     "output_type": "execute_result"
    }
   ],
   "source": [
    "d"
   ]
  },
  {
   "cell_type": "code",
   "execution_count": 11,
   "id": "bdcef90f-0d08-4cab-b78a-1c081e9ccba4",
   "metadata": {},
   "outputs": [],
   "source": [
    "d =list(set(d))"
   ]
  },
  {
   "cell_type": "code",
   "execution_count": 12,
   "id": "fe78ecd8-4053-4e2b-acd2-76142e51b222",
   "metadata": {},
   "outputs": [
    {
     "data": {
      "text/plain": [
       "[1, 2, 3, 4, 5, 6, 7, 8, 9, 'yashika', 'Yashika']"
      ]
     },
     "execution_count": 12,
     "metadata": {},
     "output_type": "execute_result"
    }
   ],
   "source": [
    "d"
   ]
  },
  {
   "cell_type": "code",
   "execution_count": 13,
   "id": "1d32220d-eb0c-4221-9763-29697c40959e",
   "metadata": {},
   "outputs": [],
   "source": [
    "f= {24, 654, 321, 14 ,2 ,98, \"yashika\", \"Yashika\"}"
   ]
  },
  {
   "cell_type": "code",
   "execution_count": 14,
   "id": "a34cef62-4afb-473e-ba33-dfb18f062473",
   "metadata": {},
   "outputs": [
    {
     "data": {
      "text/plain": [
       "{14, 2, 24, 321, 654, 98, 'Yashika', 'yashika'}"
      ]
     },
     "execution_count": 14,
     "metadata": {},
     "output_type": "execute_result"
    }
   ],
   "source": [
    "f"
   ]
  },
  {
   "cell_type": "code",
   "execution_count": 15,
   "id": "a5e5ad35-815c-4bdb-99f2-7e24ed526f12",
   "metadata": {},
   "outputs": [
    {
     "ename": "SyntaxError",
     "evalue": "invalid syntax (4183202098.py, line 1)",
     "output_type": "error",
     "traceback": [
      "\u001b[0;36m  Cell \u001b[0;32mIn[15], line 1\u001b[0;36m\u001b[0m\n\u001b[0;31m    f{4}\u001b[0m\n\u001b[0m     ^\u001b[0m\n\u001b[0;31mSyntaxError\u001b[0m\u001b[0;31m:\u001b[0m invalid syntax\n"
     ]
    }
   ],
   "source": [
    "f{4}"
   ]
  },
  {
   "cell_type": "code",
   "execution_count": 16,
   "id": "98948ccd-a2ff-4f7f-bd4b-3ef593c89f2d",
   "metadata": {},
   "outputs": [
    {
     "ename": "TypeError",
     "evalue": "'set' object is not subscriptable",
     "output_type": "error",
     "traceback": [
      "\u001b[0;31m---------------------------------------------------------------------------\u001b[0m",
      "\u001b[0;31mTypeError\u001b[0m                                 Traceback (most recent call last)",
      "Cell \u001b[0;32mIn[16], line 1\u001b[0m\n\u001b[0;32m----> 1\u001b[0m \u001b[43mf\u001b[49m\u001b[43m[\u001b[49m\u001b[43m:\u001b[49m\u001b[43m:\u001b[49m\u001b[38;5;241;43m1\u001b[39;49m\u001b[43m]\u001b[49m\n",
      "\u001b[0;31mTypeError\u001b[0m: 'set' object is not subscriptable"
     ]
    }
   ],
   "source": [
    "f[::1]"
   ]
  },
  {
   "cell_type": "code",
   "execution_count": 17,
   "id": "b26172d6-400c-462d-a34e-6a4437d08c6e",
   "metadata": {},
   "outputs": [],
   "source": [
    "f.add(45)"
   ]
  },
  {
   "cell_type": "code",
   "execution_count": 18,
   "id": "b6c6654d-c93c-4de7-95d9-5fc814ff0a33",
   "metadata": {},
   "outputs": [
    {
     "data": {
      "text/plain": [
       "{14, 2, 24, 321, 45, 654, 98, 'Yashika', 'yashika'}"
      ]
     },
     "execution_count": 18,
     "metadata": {},
     "output_type": "execute_result"
    }
   ],
   "source": [
    "f"
   ]
  },
  {
   "cell_type": "code",
   "execution_count": 19,
   "id": "949c4400-6b39-4a98-9f23-793556ada243",
   "metadata": {},
   "outputs": [],
   "source": [
    "f.remove(\"yashika\")"
   ]
  },
  {
   "cell_type": "code",
   "execution_count": 20,
   "id": "022d7cb6-7972-4ae8-b379-1118c3f40be5",
   "metadata": {},
   "outputs": [
    {
     "data": {
      "text/plain": [
       "{14, 2, 24, 321, 45, 654, 98, 'Yashika'}"
      ]
     },
     "execution_count": 20,
     "metadata": {},
     "output_type": "execute_result"
    }
   ],
   "source": [
    "f"
   ]
  },
  {
   "cell_type": "code",
   "execution_count": 2,
   "id": "0e3272ff-54db-4e91-bf0b-9c2394fc7e32",
   "metadata": {},
   "outputs": [],
   "source": [
    "d2 = {'name' : \"sudhanshu\" , \"email\" : \"ss@gmail.com\", \"number\" : 334534}"
   ]
  },
  {
   "cell_type": "code",
   "execution_count": 3,
   "id": "d8c2f93f-66fd-47cd-a399-4c428f80ecb1",
   "metadata": {},
   "outputs": [
    {
     "data": {
      "text/plain": [
       "{'name': 'sudhanshu', 'email': 'ss@gmail.com', 'number': 334534}"
      ]
     },
     "execution_count": 3,
     "metadata": {},
     "output_type": "execute_result"
    }
   ],
   "source": [
    "d2"
   ]
  },
  {
   "cell_type": "code",
   "execution_count": 7,
   "id": "acb7dbde-8bcd-448a-8a6c-cb235f12f627",
   "metadata": {},
   "outputs": [],
   "source": [
    "d3 = {'name':\"yashika\", 'mail_id ': \"yashika456\", 'name': \"vidhi\"}"
   ]
  },
  {
   "cell_type": "code",
   "execution_count": 8,
   "id": "c03b82b4-2743-4c18-951a-95986d887173",
   "metadata": {},
   "outputs": [
    {
     "data": {
      "text/plain": [
       "{'name': 'vidhi', 'mail_id ': 'yashika456'}"
      ]
     },
     "execution_count": 8,
     "metadata": {},
     "output_type": "execute_result"
    }
   ],
   "source": [
    "d3"
   ]
  },
  {
   "cell_type": "code",
   "execution_count": 10,
   "id": "9258a8ce-fc31-44f6-a469-4b2da69fb553",
   "metadata": {},
   "outputs": [
    {
     "data": {
      "text/plain": [
       "'vidhi'"
      ]
     },
     "execution_count": 10,
     "metadata": {},
     "output_type": "execute_result"
    }
   ],
   "source": [
    "d3['name']"
   ]
  },
  {
   "cell_type": "code",
   "execution_count": 12,
   "id": "60d3a531-7bff-4d38-9a6c-b1ab3013819b",
   "metadata": {},
   "outputs": [],
   "source": [
    "d4={'clasroom': \"5a\" , 'student name': [\" yashika\" ,\"fariya\" , \"somaya\" ,\"vidhi \"]}"
   ]
  },
  {
   "cell_type": "code",
   "execution_count": 14,
   "id": "32e50b0d-c4fb-47f0-b017-98057f9e5dfb",
   "metadata": {},
   "outputs": [
    {
     "data": {
      "text/plain": [
       "'fariya'"
      ]
     },
     "execution_count": 14,
     "metadata": {},
     "output_type": "execute_result"
    }
   ],
   "source": [
    "d4['student name'][1]"
   ]
  },
  {
   "cell_type": "code",
   "execution_count": 15,
   "id": "fb033e95-10c0-43ba-8f43-bbb9bfef4c6d",
   "metadata": {},
   "outputs": [],
   "source": [
    "d5 = d6 = {\"number\" : [2,34,3,34,34],\"assignment\":(1,2,3,4,5,6) , \"launch_date\":{28,12,14} ,\"class_time\":{\"web_dev\": 8 , \"Data science masters\" : 8 , \"java with dsa and system design\":7}}"
   ]
  },
  {
   "cell_type": "code",
   "execution_count": 16,
   "id": "ea1b99f1-d987-44ed-b8a5-5f72a0ea3097",
   "metadata": {},
   "outputs": [
    {
     "data": {
      "text/plain": [
       "{'number': [2, 34, 3, 34, 34],\n",
       " 'assignment': (1, 2, 3, 4, 5, 6),\n",
       " 'launch_date': {12, 14, 28},\n",
       " 'class_time': {'web_dev': 8,\n",
       "  'Data science masters': 8,\n",
       "  'java with dsa and system design': 7}}"
      ]
     },
     "execution_count": 16,
     "metadata": {},
     "output_type": "execute_result"
    }
   ],
   "source": [
    "d5"
   ]
  },
  {
   "cell_type": "code",
   "execution_count": 22,
   "id": "a7ff1878-6fb0-4005-9453-fb2b9c614786",
   "metadata": {},
   "outputs": [
    {
     "data": {
      "text/plain": [
       "7"
      ]
     },
     "execution_count": 22,
     "metadata": {},
     "output_type": "execute_result"
    }
   ],
   "source": [
    "d5['class_time'][ 'java with dsa and system design']"
   ]
  },
  {
   "cell_type": "code",
   "execution_count": 24,
   "id": "e2d87c36-2c64-402a-90a1-ca558e0c6705",
   "metadata": {},
   "outputs": [],
   "source": [
    "d5['mentor']=['niharika', 'ritu ratewal', 'my lessons']"
   ]
  },
  {
   "cell_type": "code",
   "execution_count": 31,
   "id": "1a85a3b8-ce2d-43ea-9a0d-5a515645b898",
   "metadata": {},
   "outputs": [
    {
     "data": {
      "text/plain": [
       "{'number': [2, 34, 3, 34, 34],\n",
       " 'assignment': (1, 2, 3, 4, 5, 6),\n",
       " 'launch_date': {12, 14, 28},\n",
       " 'class_time': {'web_dev': 8,\n",
       "  'Data science masters': 8,\n",
       "  'java with dsa and system design': 7},\n",
       " 'mentor': ['niharika', 'ritu ratewal', 'my lessons']}"
      ]
     },
     "execution_count": 31,
     "metadata": {},
     "output_type": "execute_result"
    }
   ],
   "source": [
    "d5"
   ]
  },
  {
   "cell_type": "code",
   "execution_count": 37,
   "id": "4a9b91df-33e4-4979-b9eb-0564f30b079c",
   "metadata": {},
   "outputs": [
    {
     "data": {
      "text/plain": [
       "['number', 'assignment', 'launch_date', 'class_time', 'mentor']"
      ]
     },
     "execution_count": 37,
     "metadata": {},
     "output_type": "execute_result"
    }
   ],
   "source": [
    "list(d5.keys())"
   ]
  },
  {
   "cell_type": "code",
   "execution_count": 38,
   "id": "be1af2ec-58fa-4100-b6e7-081d50f3e033",
   "metadata": {},
   "outputs": [
    {
     "data": {
      "text/plain": [
       "[[2, 34, 3, 34, 34],\n",
       " (1, 2, 3, 4, 5, 6),\n",
       " {12, 14, 28},\n",
       " {'web_dev': 8,\n",
       "  'Data science masters': 8,\n",
       "  'java with dsa and system design': 7},\n",
       " ['niharika', 'ritu ratewal', 'my lessons']]"
      ]
     },
     "execution_count": 38,
     "metadata": {},
     "output_type": "execute_result"
    }
   ],
   "source": [
    "list(d5.values())"
   ]
  },
  {
   "cell_type": "code",
   "execution_count": 40,
   "id": "ff195064-6712-448b-a0c7-dfd0110b063f",
   "metadata": {},
   "outputs": [
    {
     "data": {
      "text/plain": [
       "[('number', [2, 34, 3, 34, 34]),\n",
       " ('assignment', (1, 2, 3, 4, 5, 6)),\n",
       " ('launch_date', {12, 14, 28}),\n",
       " ('class_time',\n",
       "  {'web_dev': 8,\n",
       "   'Data science masters': 8,\n",
       "   'java with dsa and system design': 7}),\n",
       " ('mentor', ['niharika', 'ritu ratewal', 'my lessons'])]"
      ]
     },
     "execution_count": 40,
     "metadata": {},
     "output_type": "execute_result"
    }
   ],
   "source": [
    "list(d5.items())"
   ]
  },
  {
   "cell_type": "code",
   "execution_count": 42,
   "id": "a6343b2f-c679-4057-bea3-f1874f8daad1",
   "metadata": {},
   "outputs": [
    {
     "data": {
      "text/plain": [
       "{'web_dev': 8, 'Data science masters': 8, 'java with dsa and system design': 7}"
      ]
     },
     "execution_count": 42,
     "metadata": {},
     "output_type": "execute_result"
    }
   ],
   "source": [
    "d5.pop('class_time')"
   ]
  },
  {
   "cell_type": "code",
   "execution_count": 48,
   "id": "a4d131e1-5cd2-4eaf-91f6-617e19570787",
   "metadata": {},
   "outputs": [
    {
     "name": "stdout",
     "output_type": "stream",
     "text": [
      "ypu wil be a part of A3 batch\n"
     ]
    }
   ],
   "source": [
    "marks =  24 \n",
    "if marks >= 80:\n",
    "    print (\" you will be A of a batch\")\n",
    "elif marks >= 60 and marks <80:\n",
    "    print(\" you will be A1 of a batch\")\n",
    "elif marks >= 40 and marks <60:\n",
    "    print(\" you will be A2 of a batch\")\n",
    "else :\n",
    "    print (\"ypu wil be a part of A3 batch\")"
   ]
  },
  {
   "cell_type": "code",
   "execution_count": 51,
   "id": "b7d17db3-b46c-483f-bf7d-6d608b03ba67",
   "metadata": {},
   "outputs": [
    {
     "name": "stdin",
     "output_type": "stream",
     "text": [
      "enter your marks 89\n"
     ]
    },
    {
     "name": "stdout",
     "output_type": "stream",
     "text": [
      " you will be A of a batch\n"
     ]
    }
   ],
   "source": [
    "marks =int ( input(\"enter your marks\"))\n",
    "if marks >= 80:\n",
    "    print (\" you will be A of a batch\")\n",
    "elif marks >= 60 and marks <80:\n",
    "    print(\" you will be A1 of a batch\")\n",
    "elif marks >= 40 and marks <60:\n",
    "    print(\" you will be A2 of a batch\")\n",
    "else :\n",
    "    print (\"ypu wil be a part of A3 batch\")"
   ]
  },
  {
   "cell_type": "code",
   "execution_count": 52,
   "id": "2a068ff9-8dff-4b74-a01c-bdaf87af34af",
   "metadata": {},
   "outputs": [
    {
     "data": {
      "text/plain": [
       "int"
      ]
     },
     "execution_count": 52,
     "metadata": {},
     "output_type": "execute_result"
    }
   ],
   "source": [
    "type(marks)"
   ]
  },
  {
   "cell_type": "code",
   "execution_count": 56,
   "id": "e164661c-caa4-4ae1-92e1-4fdca6c237fc",
   "metadata": {},
   "outputs": [
    {
     "name": "stdin",
     "output_type": "stream",
     "text": [
      "enter price 53468\n"
     ]
    },
    {
     "name": "stdout",
     "output_type": "stream",
     "text": [
      "i will not buy\n"
     ]
    }
   ],
   "source": [
    "price = int(input(\"enter price\"))\n",
    "if price  > 10000:\n",
    "    print (\"i will not buy\")\n",
    "else :\n",
    "    print (\"i will buy\")\n",
    "    "
   ]
  },
  {
   "cell_type": "code",
   "execution_count": 65,
   "id": "5205ebf6-a8a2-4ed6-8f73-6cfe7c741b49",
   "metadata": {},
   "outputs": [
    {
     "name": "stdin",
     "output_type": "stream",
     "text": [
      "enter price 214\n"
     ]
    },
    {
     "name": "stdout",
     "output_type": "stream",
     "text": [
      "i will buy\n",
      "this is very cheap\n"
     ]
    }
   ],
   "source": [
    "price = int(input(\"enter price\"))\n",
    "if price  < 10000:\n",
    "    print (\"i will buy\")\n",
    "if price <5000:\n",
    "    print(\"this is very cheap\")\n",
    "elif price >10000:\n",
    "    print(\" out of budget\")"
   ]
  },
  {
   "cell_type": "code",
   "execution_count": 75,
   "id": "a524aa4c-fecf-4de7-89e5-588f21a9e766",
   "metadata": {},
   "outputs": [],
   "source": [
    "h =[1,2,3,4,5,6,7]"
   ]
  },
  {
   "cell_type": "code",
   "execution_count": 76,
   "id": "e3d3573c-b11e-468d-a2b2-27e6b85fa0a3",
   "metadata": {},
   "outputs": [
    {
     "data": {
      "text/plain": [
       "2"
      ]
     },
     "execution_count": 76,
     "metadata": {},
     "output_type": "execute_result"
    }
   ],
   "source": [
    "h[0]+1"
   ]
  },
  {
   "cell_type": "code",
   "execution_count": 77,
   "id": "f4c440ba-4541-4e03-bbe8-4f3464519b29",
   "metadata": {},
   "outputs": [
    {
     "data": {
      "text/plain": [
       "[1, 2, 3, 4, 5, 6, 7]"
      ]
     },
     "execution_count": 77,
     "metadata": {},
     "output_type": "execute_result"
    }
   ],
   "source": [
    "h"
   ]
  },
  {
   "cell_type": "code",
   "execution_count": 84,
   "id": "82ad2255-811d-4dbd-9b35-a732d58c3e63",
   "metadata": {},
   "outputs": [
    {
     "name": "stdout",
     "output_type": "stream",
     "text": [
      "2\n",
      "3\n",
      "4\n",
      "5\n",
      "6\n",
      "7\n",
      "8\n"
     ]
    },
    {
     "data": {
      "text/plain": [
       "[2, 3, 4, 5, 6, 7, 8]"
      ]
     },
     "execution_count": 84,
     "metadata": {},
     "output_type": "execute_result"
    }
   ],
   "source": [
    "h1 =[]\n",
    "for i in h :\n",
    "    print(i +1)\n",
    "    h1.append (i+1)\n",
    "h1"
   ]
  },
  {
   "cell_type": "code",
   "execution_count": 93,
   "id": "87776313-a496-44fe-96b3-8b51ad0381f1",
   "metadata": {},
   "outputs": [],
   "source": [
    " family= [\"yashika\" ,\"yash\" , \"sangeeta\" , \"satyanarayan\"]"
   ]
  },
  {
   "cell_type": "code",
   "execution_count": 100,
   "id": "47451a31-0daf-49e2-b5b7-7c2893aa55d6",
   "metadata": {},
   "outputs": [
    {
     "name": "stdout",
     "output_type": "stream",
     "text": [
      "yashika\n",
      "yash\n",
      "sangeeta\n",
      "satyanarayan\n"
     ]
    }
   ],
   "source": [
    "y1 = []\n",
    "for w in y :\n",
    "    print(w)\n",
    "    y1.append(w.upper())"
   ]
  },
  {
   "cell_type": "code",
   "execution_count": 101,
   "id": "76d18f24-663f-4278-ba92-10a3d36f00f1",
   "metadata": {},
   "outputs": [
    {
     "data": {
      "text/plain": [
       "['YASHIKA', 'YASH', 'SANGEETA', 'SATYANARAYAN']"
      ]
     },
     "execution_count": 101,
     "metadata": {},
     "output_type": "execute_result"
    }
   ],
   "source": [
    "y1"
   ]
  },
  {
   "cell_type": "code",
   "execution_count": 122,
   "id": "fe6f5fad-edd1-4545-8526-bc992b72b323",
   "metadata": {},
   "outputs": [],
   "source": [
    "g=(7,8,4,\"i\",\"love\",\"apple\",74.18,1+8)"
   ]
  },
  {
   "cell_type": "code",
   "execution_count": 123,
   "id": "7fd897fc-af60-4b85-9ff5-94a222878cec",
   "metadata": {},
   "outputs": [],
   "source": [
    "g1_num = []\n",
    "g2_str= []\n",
    "for k in g :\n",
    "    if type(k) == int or type(k) == float :\n",
    "        g1_num.append(k)\n",
    "    else :\n",
    "        g2_str.append(k)"
   ]
  },
  {
   "cell_type": "code",
   "execution_count": 124,
   "id": "b2aaa166-75f2-4bbb-b8df-88de575090f6",
   "metadata": {},
   "outputs": [
    {
     "data": {
      "text/plain": [
       "[7, 8, 4, 74.18, 9]"
      ]
     },
     "execution_count": 124,
     "metadata": {},
     "output_type": "execute_result"
    }
   ],
   "source": [
    "g1_num"
   ]
  },
  {
   "cell_type": "code",
   "execution_count": 125,
   "id": "728ee65a-f66c-4b6d-8424-93141e99abe7",
   "metadata": {},
   "outputs": [
    {
     "data": {
      "text/plain": [
       "['i', 'love', 'apple']"
      ]
     },
     "execution_count": 125,
     "metadata": {},
     "output_type": "execute_result"
    }
   ],
   "source": [
    "g2_str"
   ]
  },
  {
   "cell_type": "code",
   "execution_count": null,
   "id": "f9008cbd-b71c-4eca-ad69-68a9373f9bda",
   "metadata": {},
   "outputs": [],
   "source": []
  }
 ],
 "metadata": {
  "kernelspec": {
   "display_name": "Python 3 (ipykernel)",
   "language": "python",
   "name": "python3"
  },
  "language_info": {
   "codemirror_mode": {
    "name": "ipython",
    "version": 3
   },
   "file_extension": ".py",
   "mimetype": "text/x-python",
   "name": "python",
   "nbconvert_exporter": "python",
   "pygments_lexer": "ipython3",
   "version": "3.10.8"
  }
 },
 "nbformat": 4,
 "nbformat_minor": 5
}
