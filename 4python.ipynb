{
 "cells": [
  {
   "cell_type": "code",
   "execution_count": 1,
   "id": "223db1ea-8a7d-44f7-ab69-6e758ab22142",
   "metadata": {},
   "outputs": [],
   "source": [
    "# \"OOPS\" stands for obejt - Oriented Programming System"
   ]
  },
  {
   "cell_type": "code",
   "execution_count": 2,
   "id": "be85fd72-578b-49ce-8e3d-f5cac257e4f1",
   "metadata": {},
   "outputs": [],
   "source": [
    "  class test :\n",
    "        pass"
   ]
  },
  {
   "cell_type": "code",
   "execution_count": 3,
   "id": "fc35ca7f-015d-4e54-a589-d6cb53011191",
   "metadata": {},
   "outputs": [],
   "source": [
    "a = test()"
   ]
  },
  {
   "cell_type": "code",
   "execution_count": 4,
   "id": "9fe40256-1285-4826-bc84-5374cf98adf4",
   "metadata": {},
   "outputs": [
    {
     "data": {
      "text/plain": [
       "__main__.test"
      ]
     },
     "execution_count": 4,
     "metadata": {},
     "output_type": "execute_result"
    }
   ],
   "source": [
    "type(a)"
   ]
  },
  {
   "cell_type": "code",
   "execution_count": 5,
   "id": "ffaa2a70-f978-4352-a5c7-60f5560ad2ce",
   "metadata": {},
   "outputs": [],
   "source": [
    "class yashika :\n",
    "    def welcome_msg(self):\n",
    "          print (\"welcome to my home\")"
   ]
  },
  {
   "cell_type": "code",
   "execution_count": 6,
   "id": "7fa8473b-129d-4e54-a841-8e10fd7d1a3e",
   "metadata": {},
   "outputs": [],
   "source": [
    "jad = yashika()"
   ]
  },
  {
   "cell_type": "code",
   "execution_count": 7,
   "id": "2321d2c7-3cc1-4f84-89ea-0480bb047fd5",
   "metadata": {},
   "outputs": [
    {
     "name": "stdout",
     "output_type": "stream",
     "text": [
      "<class '__main__.yashika'>\n"
     ]
    }
   ],
   "source": [
    "print(type(jad))"
   ]
  },
  {
   "cell_type": "code",
   "execution_count": 8,
   "id": "87b000a0-0321-40f9-bd3a-a6674ce1bd23",
   "metadata": {},
   "outputs": [
    {
     "name": "stdout",
     "output_type": "stream",
     "text": [
      "welcome to my home\n"
     ]
    }
   ],
   "source": [
    "jad.welcome_msg()"
   ]
  },
  {
   "cell_type": "code",
   "execution_count": 9,
   "id": "b896439d-2afb-4a58-8ab2-de1e2dbf2376",
   "metadata": {},
   "outputs": [
    {
     "name": "stdout",
     "output_type": "stream",
     "text": [
      "<class '__main__.yashika'>\n"
     ]
    }
   ],
   "source": [
    "print(type(jad))"
   ]
  },
  {
   "cell_type": "code",
   "execution_count": 10,
   "id": "1e1b9587-107a-42ed-aaaa-a4ce1c215a1b",
   "metadata": {},
   "outputs": [],
   "source": [
    "class pwskills1 :\n",
    "    \n",
    "    def __init__(self ,phone_number , email_id , student_id ):\n",
    "        self.phone_number = phone_number\n",
    "        self.email_id = email_id\n",
    "        self.student_id = student_id\n",
    "    \n",
    "    def return_student_detials(self) : \n",
    "        return self.student_id ,self.phone_number ,self.email_id"
   ]
  },
  {
   "cell_type": "code",
   "execution_count": 11,
   "id": "31cbce5d-a9ce-429c-9a6f-a43712f04644",
   "metadata": {},
   "outputs": [],
   "source": [
    "rohan = pwskills1(122232432342, \"rohan@gmail.com\" , 101)"
   ]
  },
  {
   "cell_type": "code",
   "execution_count": 12,
   "id": "f14c095c-c106-4755-be6d-dca2a39a425e",
   "metadata": {},
   "outputs": [],
   "source": [
    "class cps2:\n",
    "\n",
    "    def __init__(self ,phone_number , email_id, student_id):\n",
    "        self.phone_number1 = phone_number\n",
    "        self.email_id1 = email_id\n",
    "        self.student_id1 = student_id\n",
    "\n",
    "    def return_student_detials(self) :\n",
    "        return self.email_id1 , self.phone_number1  ,self.student_id1"
   ]
  },
  {
   "cell_type": "code",
   "execution_count": 13,
   "id": "4672be26-8562-4c74-a219-051cc88485c3",
   "metadata": {},
   "outputs": [],
   "source": [
    "rani = cps2(9981313748, \"rani@gmail.com\" , 102)"
   ]
  },
  {
   "cell_type": "code",
   "execution_count": 14,
   "id": "a4e3968c-e7ed-452d-b1f9-fea76d72968a",
   "metadata": {},
   "outputs": [
    {
     "data": {
      "text/plain": [
       "('rani@gmail.com', 9981313748, 102)"
      ]
     },
     "execution_count": 14,
     "metadata": {},
     "output_type": "execute_result"
    }
   ],
   "source": [
    "rani.return_student_detials()"
   ]
  },
  {
   "cell_type": "code",
   "execution_count": 15,
   "id": "84e6ba45-a48f-442a-948d-84127104a4e0",
   "metadata": {},
   "outputs": [],
   "source": [
    "class cps3:\n",
    "\n",
    "    def __init__(yashika ,phone_number , email_id, student_id):\n",
    "        yashika.phone_number1 = phone_number\n",
    "        yashika.email_id1 = email_id\n",
    "        yashika.student_id1 = student_id\n",
    "\n",
    "    def return_student_detials(yashika) :\n",
    "        return yashika.email_id1 , yashika.phone_number1  ,yashika.student_id1\n"
   ]
  },
  {
   "cell_type": "code",
   "execution_count": 16,
   "id": "5f763d27-9596-45b0-a833-dfd7c7eba5e6",
   "metadata": {},
   "outputs": [],
   "source": [
    "mahesh = cps3(9924256748, \"mahesh@gmail.com\" , 103)"
   ]
  },
  {
   "cell_type": "code",
   "execution_count": 17,
   "id": "cf9feaff-e5cc-4fec-ad68-a23d6de5ed58",
   "metadata": {},
   "outputs": [
    {
     "data": {
      "text/plain": [
       "('mahesh@gmail.com', 9924256748, 103)"
      ]
     },
     "execution_count": 17,
     "metadata": {},
     "output_type": "execute_result"
    }
   ],
   "source": [
    "mahesh.return_student_detials()"
   ]
  },
  {
   "cell_type": "code",
   "execution_count": 18,
   "id": "f7778e63-5587-46f2-ae1d-234b198cc530",
   "metadata": {},
   "outputs": [],
   "source": [
    "#  Polymorphism"
   ]
  },
  {
   "cell_type": "code",
   "execution_count": 19,
   "id": "ffc51790-867b-478f-93f2-a5ea177aaffb",
   "metadata": {},
   "outputs": [],
   "source": [
    "def test(a,b):\n",
    "    return a+b "
   ]
  },
  {
   "cell_type": "code",
   "execution_count": 20,
   "id": "4f47a563-bf58-45fd-8e63-41810848f54a",
   "metadata": {},
   "outputs": [
    {
     "data": {
      "text/plain": [
       "14"
      ]
     },
     "execution_count": 20,
     "metadata": {},
     "output_type": "execute_result"
    }
   ],
   "source": [
    "test(5,9)"
   ]
  },
  {
   "cell_type": "code",
   "execution_count": 21,
   "id": "69cf7d22-41fd-42b0-8f26-1e9fff109803",
   "metadata": {},
   "outputs": [
    {
     "data": {
      "text/plain": [
       "'yashika sahu'"
      ]
     },
     "execution_count": 21,
     "metadata": {},
     "output_type": "execute_result"
    }
   ],
   "source": [
    "test(\"yashika\", \" sahu\")"
   ]
  },
  {
   "cell_type": "code",
   "execution_count": 22,
   "id": "1e28ba54-70a6-4c78-b5a0-ac6cb1f199fa",
   "metadata": {},
   "outputs": [
    {
     "data": {
      "text/plain": [
       "[5, 8, 6, 7, 1, 8, 5, 3, 6]"
      ]
     },
     "execution_count": 22,
     "metadata": {},
     "output_type": "execute_result"
    }
   ],
   "source": [
    "test([5, 8, 6, 7, 1], [8,  5, 3 , 6])"
   ]
  },
  {
   "cell_type": "code",
   "execution_count": 23,
   "id": "e1979579-72b0-4c98-aadb-243ef3ec320c",
   "metadata": {},
   "outputs": [],
   "source": [
    "class data_science:\n",
    "    \n",
    "    def syllabus(self):\n",
    "        print(\"this is my syllabus for data masters\")"
   ]
  },
  {
   "cell_type": "code",
   "execution_count": 24,
   "id": "3ed17abb-49e0-4413-abe9-3ceffae0e56d",
   "metadata": {},
   "outputs": [],
   "source": [
    "class web_cam:\n",
    "    \n",
    "    def syllabus(self):\n",
    "        print(\"this is my syllabus for web cam\")"
   ]
  },
  {
   "cell_type": "code",
   "execution_count": 25,
   "id": "74ec5140-d616-4f7a-9611-6bb62a7c1807",
   "metadata": {},
   "outputs": [],
   "source": [
    "def class_pass(class_object):\n",
    "    for i in class_object :\n",
    "        i.syllabus()"
   ]
  },
  {
   "cell_type": "code",
   "execution_count": 26,
   "id": "e7c16d2f-5048-4651-a718-18c9d3df2518",
   "metadata": {},
   "outputs": [],
   "source": [
    "data_science = data_science()"
   ]
  },
  {
   "cell_type": "code",
   "execution_count": 27,
   "id": "54503b8c-817e-4ce3-aff2-18ff67d902ae",
   "metadata": {},
   "outputs": [],
   "source": [
    "web_cam = web_cam()"
   ]
  },
  {
   "cell_type": "code",
   "execution_count": 28,
   "id": "8d741733-d4eb-4477-8277-2c70b39b4dc8",
   "metadata": {},
   "outputs": [],
   "source": [
    "class_object =[data_science , web_cam]"
   ]
  },
  {
   "cell_type": "code",
   "execution_count": 29,
   "id": "7cb9e73f-bd16-4686-ba31-358a9985000a",
   "metadata": {},
   "outputs": [
    {
     "name": "stdout",
     "output_type": "stream",
     "text": [
      "this is my syllabus for data masters\n",
      "this is my syllabus for web cam\n"
     ]
    }
   ],
   "source": [
    "class_pass(class_object)"
   ]
  },
  {
   "cell_type": "code",
   "execution_count": 30,
   "id": "fcf12c37-1aea-4a2c-b053-5db59eb4440f",
   "metadata": {},
   "outputs": [],
   "source": [
    "# Encapsulation"
   ]
  },
  {
   "cell_type": "code",
   "execution_count": 31,
   "id": "2df6b28e-37fe-426b-9888-20d55a571547",
   "metadata": {},
   "outputs": [],
   "source": [
    "class test:\n",
    "    \n",
    "    \n",
    "    def __init__(self  ,a,b):\n",
    "        self.a = a\n",
    "        self.b = b"
   ]
  },
  {
   "cell_type": "code",
   "execution_count": 32,
   "id": "e41c3dc9-2e62-4979-b038-9126244f177d",
   "metadata": {},
   "outputs": [],
   "source": [
    "t = test(23,34)"
   ]
  },
  {
   "cell_type": "code",
   "execution_count": 33,
   "id": "b94f77c9-992b-4030-b825-ae7c96b25cdb",
   "metadata": {},
   "outputs": [],
   "source": [
    "t.a = 51454"
   ]
  },
  {
   "cell_type": "code",
   "execution_count": 34,
   "id": "f2f06c01-79fd-48bd-8b10-4231ba4ee736",
   "metadata": {},
   "outputs": [
    {
     "data": {
      "text/plain": [
       "51454"
      ]
     },
     "execution_count": 34,
     "metadata": {},
     "output_type": "execute_result"
    }
   ],
   "source": [
    "t.a"
   ]
  },
  {
   "cell_type": "code",
   "execution_count": 35,
   "id": "e3186cd8-24a5-4e47-a1b4-4d6a105e7eba",
   "metadata": {},
   "outputs": [],
   "source": [
    "#double underscore give privacy to my code .\n",
    "class pc :\n",
    "    def __init__(self , year , model , company_growth ):\n",
    "        \n",
    "        self.__year= year\n",
    "        self.__model= model\n",
    "        self.__company_growth  = 80\n",
    "        \n",
    "    def set_company_growth(self,company_growth) :\n",
    "        self.__company_growth = 80 if company_growth <80 else company_growth\n",
    "        \n",
    "    def get_company_growth(self) :\n",
    "        return self.__company_growth\n",
    "    "
   ]
  },
  {
   "cell_type": "code",
   "execution_count": 36,
   "id": "e8eda377-bca8-4ced-8f5c-74c219b0eefa",
   "metadata": {},
   "outputs": [],
   "source": [
    "z = pc(2022, \"ios\" , 50)"
   ]
  },
  {
   "cell_type": "code",
   "execution_count": 37,
   "id": "7941d7c2-273f-40de-9236-8b0204b297e1",
   "metadata": {},
   "outputs": [
    {
     "data": {
      "text/plain": [
       "2022"
      ]
     },
     "execution_count": 37,
     "metadata": {},
     "output_type": "execute_result"
    }
   ],
   "source": [
    "# Double underscore give privacy to my code .\n",
    "z._pc__year"
   ]
  },
  {
   "cell_type": "code",
   "execution_count": 38,
   "id": "1362f37a-02dc-4a2e-8be3-9f71884587fb",
   "metadata": {},
   "outputs": [
    {
     "data": {
      "text/plain": [
       "'ios'"
      ]
     },
     "execution_count": 38,
     "metadata": {},
     "output_type": "execute_result"
    }
   ],
   "source": [
    "z._pc__model"
   ]
  },
  {
   "cell_type": "code",
   "execution_count": 39,
   "id": "e234cdff-6dc6-4da0-8e39-50895abac9b5",
   "metadata": {},
   "outputs": [],
   "source": [
    "z.set_company_growth(90)"
   ]
  },
  {
   "cell_type": "code",
   "execution_count": 40,
   "id": "65912adf-1429-4062-9195-fa30860392dc",
   "metadata": {},
   "outputs": [
    {
     "data": {
      "text/plain": [
       "90"
      ]
     },
     "execution_count": 40,
     "metadata": {},
     "output_type": "execute_result"
    }
   ],
   "source": [
    "z.get_company_growth()"
   ]
  },
  {
   "cell_type": "code",
   "execution_count": null,
   "id": "8d5d8a2a-76eb-47f2-8701-18d41cb958ae",
   "metadata": {},
   "outputs": [],
   "source": [
    "class bank_acc :\n",
    "    def __init__(self , balance):\n",
    "        self.__balance = balance\n",
    "    def deposit(self , amount) :\n",
    "        self.__balance = self.__balance + amount\n",
    "    def withdraw(self , amount):\n",
    "        if self.__balance >=amount:\n",
    "            self.__balance = self.__balance - amount\n",
    "            return True\n",
    "        else:\n",
    "            return False\n",
    "    def get_balance(self):\n",
    "        return self.__balance"
   ]
  },
  {
   "cell_type": "code",
   "execution_count": null,
   "id": "7d56b284-c44c-4fd5-819d-00ec20bb7989",
   "metadata": {},
   "outputs": [],
   "source": [
    "yashika = bank_acc(500)"
   ]
  },
  {
   "cell_type": "code",
   "execution_count": null,
   "id": "89e332ca-21e8-4822-ba40-7cc782b760c5",
   "metadata": {},
   "outputs": [],
   "source": [
    "yashika.get_balance()"
   ]
  },
  {
   "cell_type": "code",
   "execution_count": null,
   "id": "d4775784-279e-4ad3-86fb-e46dcf9450fd",
   "metadata": {},
   "outputs": [],
   "source": [
    "yashika.deposit(2000)"
   ]
  },
  {
   "cell_type": "code",
   "execution_count": null,
   "id": "7ea98ed5-98d7-4e62-9948-c9e27f146ec5",
   "metadata": {},
   "outputs": [],
   "source": [
    "yashika.get_balance()"
   ]
  },
  {
   "cell_type": "code",
   "execution_count": null,
   "id": "aa35ceb0-9b0c-42b9-8648-4dc99a833c9f",
   "metadata": {},
   "outputs": [],
   "source": [
    "yashika.withdraw(30000)"
   ]
  },
  {
   "cell_type": "code",
   "execution_count": null,
   "id": "1051d313-a95c-429d-99ea-dd6d494017aa",
   "metadata": {},
   "outputs": [],
   "source": [
    "yashika.withdraw(2050)"
   ]
  },
  {
   "cell_type": "code",
   "execution_count": 48,
   "id": "2d44fec9-c0ef-4fca-8b6b-d9faa26e0eeb",
   "metadata": {},
   "outputs": [
    {
     "data": {
      "text/plain": [
       "450"
      ]
     },
     "execution_count": 48,
     "metadata": {},
     "output_type": "execute_result"
    }
   ],
   "source": [
    "yashika.get_balance()"
   ]
  },
  {
   "cell_type": "code",
   "execution_count": 49,
   "id": "375508dd-0d4c-48ca-92b1-4274f86ad887",
   "metadata": {},
   "outputs": [],
   "source": [
    "# Inheritance"
   ]
  },
  {
   "cell_type": "code",
   "execution_count": 50,
   "id": "d77004a0-f2ec-4d4c-af36-1b4d11388316",
   "metadata": {},
   "outputs": [],
   "source": [
    " class test:\n",
    "        def test_math(self) :\n",
    "            return \"this my first class\""
   ]
  },
  {
   "cell_type": "code",
   "execution_count": 51,
   "id": "7bb376cc-8e38-4e9b-bee6-92084931ed4f",
   "metadata": {},
   "outputs": [],
   "source": [
    "class inheritance(test):\n",
    "    pass"
   ]
  },
  {
   "cell_type": "code",
   "execution_count": 52,
   "id": "6469de6b-cc38-4961-8f65-5f6cdebec442",
   "metadata": {},
   "outputs": [],
   "source": [
    "inheritance_1 = inheritance()"
   ]
  },
  {
   "cell_type": "code",
   "execution_count": 53,
   "id": "a33252e8-800d-4a47-8a46-0bae8099c8ed",
   "metadata": {},
   "outputs": [
    {
     "data": {
      "text/plain": [
       "'this my first class'"
      ]
     },
     "execution_count": 53,
     "metadata": {},
     "output_type": "execute_result"
    }
   ],
   "source": [
    "inheritance_1.test_math()"
   ]
  },
  {
   "cell_type": "code",
   "execution_count": 54,
   "id": "c3ac2725-0a98-4031-a5e1-87b41f231d7a",
   "metadata": {},
   "outputs": [],
   "source": [
    "class class1:\n",
    "    def test_class1(self) :\n",
    "        return\"this is my method for class1\""
   ]
  },
  {
   "cell_type": "code",
   "execution_count": 55,
   "id": "0dce0ef2-288a-489f-8dca-1bc14dc75781",
   "metadata": {},
   "outputs": [],
   "source": [
    "class class2(class1):\n",
    "    def test_class2(self) :\n",
    "        return\"this is my method for class2\""
   ]
  },
  {
   "cell_type": "code",
   "execution_count": 56,
   "id": "e914b8c6-0441-42ce-98b9-f8792116c858",
   "metadata": {},
   "outputs": [],
   "source": [
    "class class3(class2):\n",
    "    pass"
   ]
  },
  {
   "cell_type": "code",
   "execution_count": 57,
   "id": "65c7a98f-ca44-4dfc-ba40-8bdb902bfa17",
   "metadata": {},
   "outputs": [],
   "source": [
    "object_class3 = class3()"
   ]
  },
  {
   "cell_type": "code",
   "execution_count": 58,
   "id": "d2115caf-525e-4265-894d-9326d257ccb7",
   "metadata": {},
   "outputs": [
    {
     "data": {
      "text/plain": [
       "'this is my method for class2'"
      ]
     },
     "execution_count": 58,
     "metadata": {},
     "output_type": "execute_result"
    }
   ],
   "source": [
    "object_class3.test_class2()"
   ]
  },
  {
   "cell_type": "code",
   "execution_count": 59,
   "id": "e56cbe12-cfaf-4339-b497-fb97e3ee2a03",
   "metadata": {},
   "outputs": [
    {
     "data": {
      "text/plain": [
       "'this is my method for class1'"
      ]
     },
     "execution_count": 59,
     "metadata": {},
     "output_type": "execute_result"
    }
   ],
   "source": [
    "object_class3.test_class1()"
   ]
  },
  {
   "cell_type": "code",
   "execution_count": 60,
   "id": "fb34b104-f22c-4e49-b63b-6c8c5c315636",
   "metadata": {},
   "outputs": [],
   "source": [
    "# Multiple inheritance\n",
    "class class1:\n",
    "    def test_class1(self) :\n",
    "        return\"this is my class1\""
   ]
  },
  {
   "cell_type": "code",
   "execution_count": 61,
   "id": "a65dd8f8-8e82-429f-9385-b6d93d763f55",
   "metadata": {},
   "outputs": [],
   "source": [
    "class class2:\n",
    "    def test_class2(self) :\n",
    "        return\"this is my class2\""
   ]
  },
  {
   "cell_type": "code",
   "execution_count": 62,
   "id": "85d985a0-07bc-4bca-959c-06ca35ada2b8",
   "metadata": {},
   "outputs": [],
   "source": [
    "class class3(class1, class2):\n",
    "    pass"
   ]
  },
  {
   "cell_type": "code",
   "execution_count": 63,
   "id": "91c270d8-d09b-40e0-8986-0226aa88d0de",
   "metadata": {},
   "outputs": [],
   "source": [
    "obj_class3 = class3()"
   ]
  },
  {
   "cell_type": "code",
   "execution_count": 64,
   "id": "928f01b9-34ab-4ff3-b70f-0005eda0c6ae",
   "metadata": {},
   "outputs": [
    {
     "data": {
      "text/plain": [
       "'this is my class2'"
      ]
     },
     "execution_count": 64,
     "metadata": {},
     "output_type": "execute_result"
    }
   ],
   "source": [
    "obj_class3.test_class2()"
   ]
  },
  {
   "cell_type": "code",
   "execution_count": 65,
   "id": "1d4ea089-4559-4713-ae02-ce3338a5df44",
   "metadata": {},
   "outputs": [
    {
     "data": {
      "text/plain": [
       "'this is my class1'"
      ]
     },
     "execution_count": 65,
     "metadata": {},
     "output_type": "execute_result"
    }
   ],
   "source": [
    "obj_class3.test_class1()"
   ]
  },
  {
   "cell_type": "code",
   "execution_count": 66,
   "id": "ad89750b-8f1b-4c57-b259-067eb9946a2a",
   "metadata": {},
   "outputs": [],
   "source": [
    "# Abstract"
   ]
  },
  {
   "cell_type": "code",
   "execution_count": 67,
   "id": "cdc7098c-a1b3-49d6-9806-e96544ae9c9a",
   "metadata": {},
   "outputs": [],
   "source": [
    "import abc\n",
    "class sage:\n",
    "    \n",
    "    @abc.abstractmethod\n",
    "    def students_detail(self):\n",
    "        pass\n",
    "    \n",
    "    @abc.abstractmethod\n",
    "    def students_assignment(self):\n",
    "        pass\n",
    "    \n",
    "    @abc.abstractmethod\n",
    "    def students_marks(self):\n",
    "        pass    "
   ]
  },
  {
   "cell_type": "code",
   "execution_count": 68,
   "id": "2f3fded4-38c8-4063-baec-6f787dfcc6ce",
   "metadata": {},
   "outputs": [],
   "source": [
    "class student_detail(sage):\n",
    "    \n",
    "    def student_details(self):\n",
    "        return\"this is a math for taking student detail\"\n",
    "        \n",
    "    def student_assignment(self):\n",
    "        return\"this is a math for assniment progess\""
   ]
  },
  {
   "cell_type": "code",
   "execution_count": 69,
   "id": "cf8d6d9d-89a2-4103-9d7b-3be311829b1c",
   "metadata": {},
   "outputs": [],
   "source": [
    "class data_science_master(sage):\n",
    "    \n",
    "    def students_detail(self):\n",
    "        return\"this will return a student detail for data scince masters\"\n",
    "    \n",
    "    def students_assigment(self):\n",
    "        return\"this will give you a student assignment detail for data science masters\""
   ]
  },
  {
   "cell_type": "code",
   "execution_count": 70,
   "id": "583a1083-4d9b-4769-8a5a-9c9cb813b855",
   "metadata": {},
   "outputs": [
    {
     "data": {
      "text/plain": [
       "'this will return a student detail for data scince masters'"
      ]
     },
     "execution_count": 70,
     "metadata": {},
     "output_type": "execute_result"
    }
   ],
   "source": [
    "DSM= data_science_master()\n",
    "DSM.students_detail()"
   ]
  },
  {
   "cell_type": "code",
   "execution_count": 71,
   "id": "ba1b3548-12fc-434a-8e18-fc2139ac7376",
   "metadata": {},
   "outputs": [],
   "source": [
    "# Decorators"
   ]
  },
  {
   "cell_type": "code",
   "execution_count": 72,
   "id": "44cb5a66-29a9-4538-b96e-d6ce5039bfcb",
   "metadata": {},
   "outputs": [],
   "source": [
    "def testing():\n",
    "    print(\"this is start of my fuction\")\n",
    "    print(\"this is my fuction\")\n",
    "    print(\"this is end of my fuction\")"
   ]
  },
  {
   "cell_type": "code",
   "execution_count": 73,
   "id": "8bf406f0-8786-499e-b406-7b7634353f7d",
   "metadata": {},
   "outputs": [
    {
     "name": "stdout",
     "output_type": "stream",
     "text": [
      "this is start of my fuction\n",
      "this is my fuction\n",
      "this is end of my fuction\n"
     ]
    }
   ],
   "source": [
    "testing()"
   ]
  },
  {
   "cell_type": "code",
   "execution_count": 74,
   "id": "ea11dad0-2db6-4d9e-ae3e-e7775bfd5c6e",
   "metadata": {},
   "outputs": [],
   "source": [
    "def deco(function):\n",
    "    def inner_dec():\n",
    "        print(\"this is start of my fuction\")\n",
    "        function()\n",
    "        print(\"this is end of my fuction\")\n",
    "    return inner_dec    "
   ]
  },
  {
   "cell_type": "code",
   "execution_count": 75,
   "id": "45ae2ac3-623b-4f92-ab4d-37957d880ebb",
   "metadata": {},
   "outputs": [],
   "source": [
    "@deco\n",
    "def test1():\n",
    "    print(2+6)"
   ]
  },
  {
   "cell_type": "code",
   "execution_count": 76,
   "id": "6cf15ebe-0693-4dfe-9a3d-bd81a6dce71f",
   "metadata": {},
   "outputs": [
    {
     "name": "stdout",
     "output_type": "stream",
     "text": [
      "this is start of my fuction\n",
      "8\n",
      "this is end of my fuction\n"
     ]
    }
   ],
   "source": [
    "test1()"
   ]
  },
  {
   "cell_type": "code",
   "execution_count": 77,
   "id": "9117bac2-f5c3-4554-9e3c-b0c1be2deb72",
   "metadata": {},
   "outputs": [],
   "source": [
    "import time\n",
    "\n",
    "def timer_test(fuction):\n",
    "    def timer_test_inner () :\n",
    "        start = time.time()\n",
    "        fuction()\n",
    "        end = time.time()\n",
    "        print(end - start)\n",
    "    return timer_test_inner    "
   ]
  },
  {
   "cell_type": "code",
   "execution_count": 78,
   "id": "90f78608-293f-4f85-96e6-b4594f1cf44c",
   "metadata": {},
   "outputs": [],
   "source": [
    "def test2():\n",
    "     print(65 + 35)"
   ]
  },
  {
   "cell_type": "code",
   "execution_count": 79,
   "id": "3b1bd5b8-13e5-4163-b923-0cf21fe330c9",
   "metadata": {},
   "outputs": [
    {
     "name": "stdout",
     "output_type": "stream",
     "text": [
      "100\n"
     ]
    }
   ],
   "source": [
    "test2()"
   ]
  },
  {
   "cell_type": "code",
   "execution_count": null,
   "id": "f14f29bb-3cdf-4e54-b432-6a2ead394394",
   "metadata": {},
   "outputs": [],
   "source": [
    "@timer_test\n",
    "def test():\n",
    "    for j in range(1000000000):\n",
    "        pass"
   ]
  },
  {
   "cell_type": "code",
   "execution_count": 81,
   "id": "546ef1ee-f96e-4cb8-ab46-dbb7a6fcadcc",
   "metadata": {},
   "outputs": [
    {
     "name": "stdout",
     "output_type": "stream",
     "text": [
      "29.032320737838745\n"
     ]
    }
   ],
   "source": [
    "test()"
   ]
  },
  {
   "cell_type": "code",
   "execution_count": 82,
   "id": "9792af4b-92fe-4ef2-b39a-0c6d6b99f632",
   "metadata": {},
   "outputs": [],
   "source": [
    "# Class method"
   ]
  },
  {
   "cell_type": "code",
   "execution_count": 83,
   "id": "40c65809-0c53-40e4-96b2-84b02da2dcd0",
   "metadata": {},
   "outputs": [],
   "source": [
    "class college :\n",
    "    def __init__(self , name , email):\n",
    "        self.name = name\n",
    "        self.email = email\n",
    "    def students_details(self):\n",
    "        print(self.name , self.email)\n",
    "    "
   ]
  },
  {
   "cell_type": "code",
   "execution_count": 84,
   "id": "3169bf0e-0ab5-4c13-85ae-7f6787a58c91",
   "metadata": {},
   "outputs": [],
   "source": [
    "t = college(\"fatima\", \"fatima@gmail.com\")"
   ]
  },
  {
   "cell_type": "code",
   "execution_count": 85,
   "id": "346e4620-6f66-4741-bf1b-587b34da1a72",
   "metadata": {},
   "outputs": [
    {
     "data": {
      "text/plain": [
       "'fatima'"
      ]
     },
     "execution_count": 85,
     "metadata": {},
     "output_type": "execute_result"
    }
   ],
   "source": [
    "t.name"
   ]
  },
  {
   "cell_type": "code",
   "execution_count": 86,
   "id": "fa5ec4a8-f852-477a-ace5-8b71c2dc489f",
   "metadata": {},
   "outputs": [
    {
     "data": {
      "text/plain": [
       "'fatima@gmail.com'"
      ]
     },
     "execution_count": 86,
     "metadata": {},
     "output_type": "execute_result"
    }
   ],
   "source": [
    "t.email"
   ]
  },
  {
   "cell_type": "code",
   "execution_count": 87,
   "id": "8b705570-1762-4a22-8a11-e38d0ddc8587",
   "metadata": {},
   "outputs": [
    {
     "name": "stdout",
     "output_type": "stream",
     "text": [
      "fatima fatima@gmail.com\n"
     ]
    }
   ],
   "source": [
    "t.students_details()"
   ]
  },
  {
   "cell_type": "code",
   "execution_count": 88,
   "id": "b12adffa-7e51-4270-af72-5b93132c2c00",
   "metadata": {},
   "outputs": [],
   "source": [
    "class college :  \n",
    "    \n",
    "    def __init__(self , name , email):\n",
    "        \n",
    "        self.name = name\n",
    "        self.email = email\n",
    "        \n",
    "    @classmethod    \n",
    "    def details(cls , name , email):\n",
    "        return cls(name , email)\n",
    "        \n",
    "    def students_details(self):\n",
    "        print(self.name , self.email)"
   ]
  },
  {
   "cell_type": "code",
   "execution_count": 89,
   "id": "cf64f2b5-a9e2-4623-bee1-f7a3ad55d07a",
   "metadata": {},
   "outputs": [],
   "source": [
    "f = college.details(\"yashika\" ,\"yashika@gmail.com\")"
   ]
  },
  {
   "cell_type": "code",
   "execution_count": 90,
   "id": "0da65c4e-c8b5-47c3-9460-6425fd6cc658",
   "metadata": {},
   "outputs": [
    {
     "data": {
      "text/plain": [
       "'yashika@gmail.com'"
      ]
     },
     "execution_count": 90,
     "metadata": {},
     "output_type": "execute_result"
    }
   ],
   "source": [
    "f.email"
   ]
  },
  {
   "cell_type": "code",
   "execution_count": 91,
   "id": "49e76e42-b382-4e6d-99d7-f10238db4878",
   "metadata": {},
   "outputs": [],
   "source": [
    "class college :  \n",
    "    \n",
    "    moblie_no= 4556897812\n",
    "    \n",
    "    def __init__(self , name , email):\n",
    "        \n",
    "        self.name = name\n",
    "        self.email = email  \n",
    "        \n",
    "    @classmethod\n",
    "    def change_number(cls, mobile):\n",
    "        college.moblie_no = mobile \n",
    "        \n",
    "    @classmethod    \n",
    "    def details(cls , name , email):\n",
    "        return cls(name , email)\n",
    "        \n",
    "    def students_details(self):\n",
    "        print(self.name , self.email , college.moblie_no)"
   ]
  },
  {
   "cell_type": "code",
   "execution_count": 92,
   "id": "2794a210-f5dd-42f7-b53d-ce3a445a425f",
   "metadata": {},
   "outputs": [],
   "source": [
    "college_obj = college(\"yashika\" ,\"yashika@gmail.com\")"
   ]
  },
  {
   "cell_type": "code",
   "execution_count": 93,
   "id": "5319e34e-55ef-4a7c-a1c0-a16d8028559c",
   "metadata": {},
   "outputs": [
    {
     "name": "stdout",
     "output_type": "stream",
     "text": [
      "yashika yashika@gmail.com 4556897812\n"
     ]
    }
   ],
   "source": [
    "college_obj.students_details()"
   ]
  },
  {
   "cell_type": "code",
   "execution_count": 94,
   "id": "d7afb537-b314-4648-a7ad-6332aeba1bd6",
   "metadata": {},
   "outputs": [],
   "source": [
    "college.change_number(4556897812)"
   ]
  },
  {
   "cell_type": "code",
   "execution_count": 95,
   "id": "90cf1eb3-1ebd-48fd-9410-433c6a349ff2",
   "metadata": {},
   "outputs": [
    {
     "data": {
      "text/plain": [
       "4556897812"
      ]
     },
     "execution_count": 95,
     "metadata": {},
     "output_type": "execute_result"
    }
   ],
   "source": [
    "college.moblie_no"
   ]
  },
  {
   "cell_type": "code",
   "execution_count": 96,
   "id": "32ad21b1-1f41-4592-9321-74c6ed1de69a",
   "metadata": {},
   "outputs": [],
   "source": [
    "class college1 :  \n",
    "    \n",
    "    moblie_no= 4556897812\n",
    "    \n",
    "    def __init__(self , name , email):\n",
    "        \n",
    "        self.name = name\n",
    "        self.email = email  \n",
    "        \n",
    "    @classmethod\n",
    "    def change_number(cls, mobile):\n",
    "        college.moblie_no = mobile \n",
    "        \n",
    "    @classmethod    \n",
    "    def details(cls , name , email):\n",
    "        return cls(name , email)\n",
    "        \n",
    "    def students_details(self):\n",
    "        print(self.name , self.email , college.moblie_no)"
   ]
  },
  {
   "cell_type": "code",
   "execution_count": 97,
   "id": "10918cd5-6c00-4c06-a661-e54a754fb502",
   "metadata": {},
   "outputs": [],
   "source": [
    "def course_details(cls , course_name):\n",
    "    print(\"course name is\" , course_name)"
   ]
  },
  {
   "cell_type": "code",
   "execution_count": 98,
   "id": "a4aacc4b-2fa0-4c23-abac-369e54729c8c",
   "metadata": {},
   "outputs": [],
   "source": [
    "college1.course_details = classmethod(course_details)"
   ]
  },
  {
   "cell_type": "code",
   "execution_count": 99,
   "id": "c2017a68-bf74-4077-94ad-d7b9c3df65dd",
   "metadata": {},
   "outputs": [
    {
     "name": "stdout",
     "output_type": "stream",
     "text": [
      "course name is data science masters\n"
     ]
    }
   ],
   "source": [
    "college1.course_details(\"data science masters\")"
   ]
  },
  {
   "cell_type": "code",
   "execution_count": 100,
   "id": "9664ce72-6910-44cd-a24f-fdfa612712a2",
   "metadata": {},
   "outputs": [],
   "source": [
    "def mentor(cls , list_of_mentor):\n",
    "    print(list_of_mentor)"
   ]
  },
  {
   "cell_type": "code",
   "execution_count": 101,
   "id": "622cb90a-20a4-418c-b04e-0dcdf1d0b6d6",
   "metadata": {},
   "outputs": [],
   "source": [
    "college1.mentor = classmethod(mentor)"
   ]
  },
  {
   "cell_type": "code",
   "execution_count": 102,
   "id": "bf71371d-2c88-4ebe-8c47-3ea2e35554e6",
   "metadata": {},
   "outputs": [
    {
     "name": "stdout",
     "output_type": "stream",
     "text": [
      "['sukesk', 'suku']\n"
     ]
    }
   ],
   "source": [
    "college1.mentor([\"sukesk\" , \"suku\"])"
   ]
  },
  {
   "cell_type": "code",
   "execution_count": 103,
   "id": "1891bd8a-d3c4-4e9e-a4d4-bf407bb3765b",
   "metadata": {},
   "outputs": [],
   "source": [
    "class college2 :  \n",
    "    \n",
    "    moblie_no= 4556897812\n",
    "    \n",
    "    def __init__(self , name , email):\n",
    "        \n",
    "        self.name = name\n",
    "        self.email = email  \n",
    "        \n",
    "    @classmethod\n",
    "    def change_number(cls, mobile):\n",
    "        college.moblie_no = mobile \n",
    "        \n",
    "    @classmethod    \n",
    "    def details(cls , name , email):\n",
    "        return cls(name , email)\n",
    "        \n",
    "    def students_details(self):\n",
    "        print(self.name , self.email , college.moblie_no)"
   ]
  },
  {
   "cell_type": "code",
   "execution_count": 104,
   "id": "8fc796cd-83d5-4321-8fec-9a3aae4807b4",
   "metadata": {},
   "outputs": [],
   "source": [
    "del  college2.change_number"
   ]
  },
  {
   "cell_type": "code",
   "execution_count": 105,
   "id": "0014ed32-fd4d-408c-b7c7-9844f7456163",
   "metadata": {},
   "outputs": [],
   "source": [
    "delattr(college2 , \"moblie_no\")"
   ]
  },
  {
   "cell_type": "code",
   "execution_count": 106,
   "id": "17de1bb2-e9c3-4f20-9597-cdd2e495310f",
   "metadata": {},
   "outputs": [],
   "source": [
    "# Static method"
   ]
  },
  {
   "cell_type": "code",
   "execution_count": 107,
   "id": "fd1e7461-e72f-43f6-bf4d-da0c22a1bc27",
   "metadata": {},
   "outputs": [],
   "source": [
    "class pm:\n",
    "    def pc_details(self , name , pc_add , own_number) :\n",
    "        print(name , pc_add , own_number)"
   ]
  },
  {
   "cell_type": "code",
   "execution_count": 108,
   "id": "f50177e5-e7fe-4dfc-940f-7d79029551c4",
   "metadata": {},
   "outputs": [],
   "source": [
    "personal_computer = pm()"
   ]
  },
  {
   "cell_type": "code",
   "execution_count": 109,
   "id": "332ad94f-6788-4053-961c-30153f32c617",
   "metadata": {},
   "outputs": [
    {
     "name": "stdout",
     "output_type": "stream",
     "text": [
      "lg wefhvi665656 956314875\n"
     ]
    }
   ],
   "source": [
    "personal_computer.pc_details(\"lg\" , \"wefhvi665656\" , 956314875)"
   ]
  },
  {
   "cell_type": "code",
   "execution_count": 110,
   "id": "a5faf50f-7463-4972-830f-14bc31690c58",
   "metadata": {},
   "outputs": [],
   "source": [
    "class pm1:\n",
    "    def pc_details(self , name , pc_add , own_number) :\n",
    "        print(name , pc_add , own_number)\n",
    "        \n",
    "    @staticmethod\n",
    "    def mentor_class1(list_mentor) :\n",
    "        print(list_mentor)\n",
    "    def mentor(self , mentor_list):\n",
    "        print(mentor_list)"
   ]
  },
  {
   "cell_type": "code",
   "execution_count": 111,
   "id": "43740e51-8153-46b5-817f-a61d9a109ba5",
   "metadata": {},
   "outputs": [
    {
     "name": "stdout",
     "output_type": "stream",
     "text": [
      "['harsh', 'harshita']\n"
     ]
    }
   ],
   "source": [
    "pm1.mentor_class1([\"harsh\", \"harshita\"])"
   ]
  },
  {
   "cell_type": "code",
   "execution_count": 112,
   "id": "64fc5e81-da28-438d-845b-0a761641d22b",
   "metadata": {},
   "outputs": [],
   "source": [
    "std = pm1()"
   ]
  },
  {
   "cell_type": "code",
   "execution_count": 113,
   "id": "892a38c3-2f01-43b9-a0c3-e405ec9b1233",
   "metadata": {},
   "outputs": [],
   "source": [
    "std1= pm1()"
   ]
  },
  {
   "cell_type": "code",
   "execution_count": 114,
   "id": "7eb3ad5f-16ea-43ca-add4-6c3b7e6fb6cc",
   "metadata": {},
   "outputs": [
    {
     "name": "stdout",
     "output_type": "stream",
     "text": [
      "['jad', 'lampy']\n"
     ]
    }
   ],
   "source": [
    "std.mentor_class1([\"jad\" , \"lampy\"])"
   ]
  },
  {
   "cell_type": "code",
   "execution_count": 115,
   "id": "53b39b6a-82d6-4bb7-a86e-b931cb53edf1",
   "metadata": {},
   "outputs": [],
   "source": [
    "class pc1:\n",
    "    def pc_details(self , name , pc_add , own_number) :\n",
    "        print(name , pc_add , own_number) \n",
    "        \n",
    "    @staticmethod\n",
    "    def mentor_mail_id(mail_id_mentor) :\n",
    "        print(mail_id_mentor)  \n",
    "        \n",
    "    @staticmethod\n",
    "    def mentor_class1(list_mentor) :\n",
    "        pc1.mentor_mail_id([\"manisha@gmail.com\", \"abhishek@gmail.com\"])\n",
    "        print(list_mentor)\n",
    "        \n",
    "    @classmethod\n",
    "    def class_name(cls):\n",
    "        cls.mentor_class1([\"manisha\",\"abhishek\"])\n",
    "            \n",
    "    def mentor(self , mentor_list):\n",
    "        print(mentor_list)"
   ]
  },
  {
   "cell_type": "code",
   "execution_count": 116,
   "id": "1ceb668e-26e5-4844-b204-db5f7ff47281",
   "metadata": {},
   "outputs": [
    {
     "name": "stdout",
     "output_type": "stream",
     "text": [
      "['manisha@gmail.com', 'abhishek@gmail.com']\n",
      "['manisha', 'abhishek']\n"
     ]
    }
   ],
   "source": [
    "pc1.class_name()"
   ]
  },
  {
   "cell_type": "code",
   "execution_count": 117,
   "id": "53037ff6-7832-45d1-aff1-83aaf7c5b586",
   "metadata": {},
   "outputs": [
    {
     "name": "stdout",
     "output_type": "stream",
     "text": [
      "['manisha@gmail.com', 'abhishek@gmail.com']\n",
      "['manisha', 'abhishek']\n"
     ]
    }
   ],
   "source": [
    "pc1.mentor_class1([\"manisha\" , \"abhishek\"])"
   ]
  },
  {
   "cell_type": "code",
   "execution_count": 118,
   "id": "d6e0a404-50b0-4db0-b8e8-ea780263e91d",
   "metadata": {},
   "outputs": [],
   "source": [
    "# Special (Magic / Dunder) Method"
   ]
  },
  {
   "cell_type": "code",
   "execution_count": 119,
   "id": "c74d2444-4cde-4c53-9727-c5200b4be4bc",
   "metadata": {},
   "outputs": [
    {
     "data": {
      "text/plain": [
       "['__abs__',\n",
       " '__add__',\n",
       " '__and__',\n",
       " '__bool__',\n",
       " '__ceil__',\n",
       " '__class__',\n",
       " '__delattr__',\n",
       " '__dir__',\n",
       " '__divmod__',\n",
       " '__doc__',\n",
       " '__eq__',\n",
       " '__float__',\n",
       " '__floor__',\n",
       " '__floordiv__',\n",
       " '__format__',\n",
       " '__ge__',\n",
       " '__getattribute__',\n",
       " '__getnewargs__',\n",
       " '__gt__',\n",
       " '__hash__',\n",
       " '__index__',\n",
       " '__init__',\n",
       " '__init_subclass__',\n",
       " '__int__',\n",
       " '__invert__',\n",
       " '__le__',\n",
       " '__lshift__',\n",
       " '__lt__',\n",
       " '__mod__',\n",
       " '__mul__',\n",
       " '__ne__',\n",
       " '__neg__',\n",
       " '__new__',\n",
       " '__or__',\n",
       " '__pos__',\n",
       " '__pow__',\n",
       " '__radd__',\n",
       " '__rand__',\n",
       " '__rdivmod__',\n",
       " '__reduce__',\n",
       " '__reduce_ex__',\n",
       " '__repr__',\n",
       " '__rfloordiv__',\n",
       " '__rlshift__',\n",
       " '__rmod__',\n",
       " '__rmul__',\n",
       " '__ror__',\n",
       " '__round__',\n",
       " '__rpow__',\n",
       " '__rrshift__',\n",
       " '__rshift__',\n",
       " '__rsub__',\n",
       " '__rtruediv__',\n",
       " '__rxor__',\n",
       " '__setattr__',\n",
       " '__sizeof__',\n",
       " '__str__',\n",
       " '__sub__',\n",
       " '__subclasshook__',\n",
       " '__truediv__',\n",
       " '__trunc__',\n",
       " '__xor__',\n",
       " 'as_integer_ratio',\n",
       " 'bit_count',\n",
       " 'bit_length',\n",
       " 'conjugate',\n",
       " 'denominator',\n",
       " 'from_bytes',\n",
       " 'imag',\n",
       " 'numerator',\n",
       " 'real',\n",
       " 'to_bytes']"
      ]
     },
     "execution_count": 119,
     "metadata": {},
     "output_type": "execute_result"
    }
   ],
   "source": [
    "dir(int)"
   ]
  },
  {
   "cell_type": "code",
   "execution_count": 120,
   "id": "b8dc283c-1e10-4dc5-800f-fc4583ae5c63",
   "metadata": {},
   "outputs": [
    {
     "data": {
      "text/plain": [
       "['__add__',\n",
       " '__class__',\n",
       " '__contains__',\n",
       " '__delattr__',\n",
       " '__dir__',\n",
       " '__doc__',\n",
       " '__eq__',\n",
       " '__format__',\n",
       " '__ge__',\n",
       " '__getattribute__',\n",
       " '__getitem__',\n",
       " '__getnewargs__',\n",
       " '__gt__',\n",
       " '__hash__',\n",
       " '__init__',\n",
       " '__init_subclass__',\n",
       " '__iter__',\n",
       " '__le__',\n",
       " '__len__',\n",
       " '__lt__',\n",
       " '__mod__',\n",
       " '__mul__',\n",
       " '__ne__',\n",
       " '__new__',\n",
       " '__reduce__',\n",
       " '__reduce_ex__',\n",
       " '__repr__',\n",
       " '__rmod__',\n",
       " '__rmul__',\n",
       " '__setattr__',\n",
       " '__sizeof__',\n",
       " '__str__',\n",
       " '__subclasshook__',\n",
       " 'capitalize',\n",
       " 'casefold',\n",
       " 'center',\n",
       " 'count',\n",
       " 'encode',\n",
       " 'endswith',\n",
       " 'expandtabs',\n",
       " 'find',\n",
       " 'format',\n",
       " 'format_map',\n",
       " 'index',\n",
       " 'isalnum',\n",
       " 'isalpha',\n",
       " 'isascii',\n",
       " 'isdecimal',\n",
       " 'isdigit',\n",
       " 'isidentifier',\n",
       " 'islower',\n",
       " 'isnumeric',\n",
       " 'isprintable',\n",
       " 'isspace',\n",
       " 'istitle',\n",
       " 'isupper',\n",
       " 'join',\n",
       " 'ljust',\n",
       " 'lower',\n",
       " 'lstrip',\n",
       " 'maketrans',\n",
       " 'partition',\n",
       " 'removeprefix',\n",
       " 'removesuffix',\n",
       " 'replace',\n",
       " 'rfind',\n",
       " 'rindex',\n",
       " 'rjust',\n",
       " 'rpartition',\n",
       " 'rsplit',\n",
       " 'rstrip',\n",
       " 'split',\n",
       " 'splitlines',\n",
       " 'startswith',\n",
       " 'strip',\n",
       " 'swapcase',\n",
       " 'title',\n",
       " 'translate',\n",
       " 'upper',\n",
       " 'zfill']"
      ]
     },
     "execution_count": 120,
     "metadata": {},
     "output_type": "execute_result"
    }
   ],
   "source": [
    "dir(str)"
   ]
  },
  {
   "cell_type": "code",
   "execution_count": 121,
   "id": "32b9335d-cd2c-4420-a183-df35cfcdd3b5",
   "metadata": {},
   "outputs": [],
   "source": [
    "a = 12"
   ]
  },
  {
   "cell_type": "code",
   "execution_count": 122,
   "id": "6be8bfd2-0114-4e2c-a6b6-47a7aaac6a33",
   "metadata": {},
   "outputs": [
    {
     "data": {
      "text/plain": [
       "17"
      ]
     },
     "execution_count": 122,
     "metadata": {},
     "output_type": "execute_result"
    }
   ],
   "source": [
    "a+5"
   ]
  },
  {
   "cell_type": "code",
   "execution_count": 123,
   "id": "005ea162-d378-47b0-ba21-8d3757d7fb71",
   "metadata": {},
   "outputs": [
    {
     "data": {
      "text/plain": [
       "17"
      ]
     },
     "execution_count": 123,
     "metadata": {},
     "output_type": "execute_result"
    }
   ],
   "source": [
    "a.__add__(5) "
   ]
  },
  {
   "cell_type": "code",
   "execution_count": 144,
   "id": "90acc96c-b3a5-40d3-b78e-8dbd6d7f99a7",
   "metadata": {},
   "outputs": [],
   "source": [
    "class cap :\n",
    "    def __new__(cls) :\n",
    "        print(\"this is my new item\")\n",
    "        \n",
    "    def __init__(self) :\n",
    "        print(\"this is my init\")\n",
    "        \n",
    "        self.series_no = 4567"
   ]
  },
  {
   "cell_type": "code",
   "execution_count": 145,
   "id": "7cabb4f2-2a0d-4dd4-a47a-5589bdd6a64b",
   "metadata": {},
   "outputs": [
    {
     "name": "stdout",
     "output_type": "stream",
     "text": [
      "this is my new item\n"
     ]
    }
   ],
   "source": [
    "cap1 = cap()"
   ]
  },
  {
   "cell_type": "code",
   "execution_count": 127,
   "id": "b389943b-9ac0-4719-a645-5f8b73c68163",
   "metadata": {},
   "outputs": [],
   "source": [
    "class cap2 :\n",
    " \n",
    "    def __init__(self):\n",
    "       \n",
    "           self.series_no = 4987\n",
    "        \n",
    "    def __str__(self):\n",
    "        return \"this is my mgic call for str\""
   ]
  },
  {
   "cell_type": "code",
   "execution_count": 128,
   "id": "666290eb-c89c-43d3-93c9-d23f8291c3de",
   "metadata": {},
   "outputs": [],
   "source": [
    "cap3 = cap2()"
   ]
  },
  {
   "cell_type": "code",
   "execution_count": 129,
   "id": "9572520b-951c-4d92-b145-89314c283402",
   "metadata": {},
   "outputs": [
    {
     "data": {
      "text/plain": [
       "<__main__.cap2 at 0x7f3dde4e4e20>"
      ]
     },
     "execution_count": 129,
     "metadata": {},
     "output_type": "execute_result"
    }
   ],
   "source": [
    "cap3"
   ]
  },
  {
   "cell_type": "code",
   "execution_count": 130,
   "id": "f8e4375a-4c34-4f07-b1d2-7768f1668306",
   "metadata": {},
   "outputs": [
    {
     "name": "stdout",
     "output_type": "stream",
     "text": [
      "this is my mgic call for str\n"
     ]
    }
   ],
   "source": [
    "print(cap3)"
   ]
  },
  {
   "cell_type": "code",
   "execution_count": 131,
   "id": "f68ecece-2dfa-4947-b131-5699f993752f",
   "metadata": {},
   "outputs": [],
   "source": [
    "#   Property decoretor- getter , setter , and deletes "
   ]
  },
  {
   "cell_type": "code",
   "execution_count": 132,
   "id": "bffa4979-1e26-414e-819e-f5aaf077604b",
   "metadata": {},
   "outputs": [],
   "source": [
    "class pwskills :\n",
    "    \n",
    "    def __init__(self  , course_price , course_name):\n",
    "        \n",
    "        self.__course_price = course_price\n",
    "        self.course_name = course_name\n",
    "    \n",
    "    @property\n",
    "    def course_price_access(self):\n",
    "        return self.__course_price\n",
    "            \n",
    "        @course_price_access.setter\n",
    "        def course_price_set(self , price):\n",
    "            if price <= 300:\n",
    "                pass\n",
    "            else:\n",
    "                 self.__course_price = price \n",
    "                    \n",
    "    @course_price_access.deleter\n",
    "    def delete_course_price(self):\n",
    "        del self.__course_price"
   ]
  },
  {
   "cell_type": "code",
   "execution_count": 133,
   "id": "fc75c3f6-8a47-47aa-8077-db030d300a49",
   "metadata": {},
   "outputs": [],
   "source": [
    "pw = pwskills( 300, \"data science\")"
   ]
  },
  {
   "cell_type": "code",
   "execution_count": 134,
   "id": "cf82c8cf-2ece-41a4-8756-6eec9737f359",
   "metadata": {},
   "outputs": [
    {
     "data": {
      "text/plain": [
       "300"
      ]
     },
     "execution_count": 134,
     "metadata": {},
     "output_type": "execute_result"
    }
   ],
   "source": [
    "pw._pwskills__course_price"
   ]
  },
  {
   "cell_type": "code",
   "execution_count": 135,
   "id": "c762e97d-cce8-41da-ac9c-f4169d9da74a",
   "metadata": {},
   "outputs": [
    {
     "data": {
      "text/plain": [
       "'data science'"
      ]
     },
     "execution_count": 135,
     "metadata": {},
     "output_type": "execute_result"
    }
   ],
   "source": [
    "pw.course_name"
   ]
  },
  {
   "cell_type": "code",
   "execution_count": 136,
   "id": "4d778903-9c3b-4f25-b593-7553ae5af61d",
   "metadata": {},
   "outputs": [],
   "source": [
    "pw.course_price_set= 4500"
   ]
  },
  {
   "cell_type": "code",
   "execution_count": 137,
   "id": "afb574e4-2d1f-43ee-8658-fc32f2345dee",
   "metadata": {},
   "outputs": [
    {
     "data": {
      "text/plain": [
       "4500"
      ]
     },
     "execution_count": 137,
     "metadata": {},
     "output_type": "execute_result"
    }
   ],
   "source": [
    "pw.course_price_set"
   ]
  },
  {
   "cell_type": "code",
   "execution_count": 138,
   "id": "9823af9d-fd55-4c84-9f00-2bdf675e7c6c",
   "metadata": {},
   "outputs": [
    {
     "data": {
      "text/plain": [
       "300"
      ]
     },
     "execution_count": 138,
     "metadata": {},
     "output_type": "execute_result"
    }
   ],
   "source": [
    "pw.course_price_access"
   ]
  },
  {
   "cell_type": "code",
   "execution_count": 143,
   "id": "cdd9fab7-c7fd-4f22-a893-32886ef55829",
   "metadata": {},
   "outputs": [
    {
     "ename": "AttributeError",
     "evalue": "_pwskills__course_price",
     "output_type": "error",
     "traceback": [
      "\u001b[0;31m---------------------------------------------------------------------------\u001b[0m",
      "\u001b[0;31mAttributeError\u001b[0m                            Traceback (most recent call last)",
      "Cell \u001b[0;32mIn[143], line 1\u001b[0m\n\u001b[0;32m----> 1\u001b[0m \u001b[38;5;28;01mdel\u001b[39;00m pw\u001b[38;5;241m.\u001b[39mdelete_course_price\n",
      "Cell \u001b[0;32mIn[132], line 21\u001b[0m, in \u001b[0;36mpwskills.delete_course_price\u001b[0;34m(self)\u001b[0m\n\u001b[1;32m     19\u001b[0m \u001b[38;5;129m@course_price_access\u001b[39m\u001b[38;5;241m.\u001b[39mdeleter\n\u001b[1;32m     20\u001b[0m \u001b[38;5;28;01mdef\u001b[39;00m \u001b[38;5;21mdelete_course_price\u001b[39m(\u001b[38;5;28mself\u001b[39m):\n\u001b[0;32m---> 21\u001b[0m     \u001b[38;5;28;01mdel\u001b[39;00m \u001b[38;5;28mself\u001b[39m\u001b[38;5;241m.\u001b[39m__course_price\n",
      "\u001b[0;31mAttributeError\u001b[0m: _pwskills__course_price"
     ]
    }
   ],
   "source": [
    "del pw.delete_course_price"
   ]
  },
  {
   "cell_type": "code",
   "execution_count": 142,
   "id": "f5006b3f-8f15-4198-9883-467ca1baf8f9",
   "metadata": {},
   "outputs": [
    {
     "data": {
      "text/plain": [
       "4500"
      ]
     },
     "execution_count": 142,
     "metadata": {},
     "output_type": "execute_result"
    }
   ],
   "source": [
    "pw.course_price_set"
   ]
  },
  {
   "cell_type": "code",
   "execution_count": null,
   "id": "1c4e12cd-6344-48df-8bdb-d4ef9eb0394c",
   "metadata": {},
   "outputs": [],
   "source": []
  },
  {
   "cell_type": "code",
   "execution_count": null,
   "id": "9347c22c-eb4d-4328-b569-6db2943f1fcd",
   "metadata": {},
   "outputs": [],
   "source": []
  }
 ],
 "metadata": {
  "kernelspec": {
   "display_name": "Python 3 (ipykernel)",
   "language": "python",
   "name": "python3"
  },
  "language_info": {
   "codemirror_mode": {
    "name": "ipython",
    "version": 3
   },
   "file_extension": ".py",
   "mimetype": "text/x-python",
   "name": "python",
   "nbconvert_exporter": "python",
   "pygments_lexer": "ipython3",
   "version": "3.10.8"
  }
 },
 "nbformat": 4,
 "nbformat_minor": 5
}
